{
 "cells": [
  {
   "cell_type": "markdown",
   "metadata": {
    "colab_type": "text",
    "id": "8z5cONg8rUrX",
    "slideshow": {
     "slide_type": "slide"
    }
   },
   "source": [
    "# Analysis of Algorithms\n",
    "\n",
    "## Programming Fundamentals (NB20)\n",
    "\n",
    "### MIEIC/2020-21\n",
    "\n",
    "#### João Correia Lopes\n",
    "\n",
    "FEUP/DEI and INESC TEC"
   ]
  },
  {
   "cell_type": "markdown",
   "metadata": {
    "colab_type": "text",
    "id": "MZzE7pYorju5",
    "slideshow": {
     "slide_type": "subslide"
    }
   },
   "source": [
    "## Goals\n",
    "\n",
    "By the end of this class, the student should be able to:\n",
    "\n",
    "- Describe why algorithm analysis is important\n",
    "\n",
    "- Use \"Big-O\" to describe execution time\n",
    "\n",
    "- Describe the \"Big-O\" execution time of common operations on Python\n",
    "    lists and dictionaries\n"
   ]
  },
  {
   "cell_type": "markdown",
   "metadata": {
    "colab_type": "text",
    "id": "eR5Lh1jNroE2",
    "slideshow": {
     "slide_type": "subslide"
    }
   },
   "source": [
    "## Bibliography\n",
    "\n",
    "- Allen Downey, Think Python --- How to Think Like a Computer Scientist, \n",
    "    2nd Edition, Version 2.4.0, Green Tea Press, 2015 (Annex B)\n",
    "    [[HTML]](http://greenteapress.com/thinkpython2/html/thinkpython2022.html)\n",
    "\n",
    "- Brad Miller and David Ranum, *Problem Solving with Algorithms and Data\n",
    "    Structures using Python*  (Chapter 3)\n",
    "    [[HTML]](https://runestone.academy/runestone/books/published/pythonds/AlgorithmAnalysis/toctree.html)\n",
    "\n",
    "- Brad Miller and David Ranum, *Problem Solving with Algorithms and Data \n",
    "    Structures using Python* (Section 6.3, Section 6.4)\n",
    "    [[HTML]](https://runestone.academy/runestone/books/published/pythonds/SortSearch/toctree.html)"
   ]
  },
  {
   "cell_type": "markdown",
   "metadata": {
    "colab_type": "text",
    "id": "rp0xhM5RT_-a",
    "slideshow": {
     "slide_type": "slide"
    }
   },
   "source": [
    "# Analysis of Algorithms"
   ]
  },
  {
   "cell_type": "markdown",
   "metadata": {
    "colab_type": "text",
    "id": "IgM0SuPVVHtq",
    "slideshow": {
     "slide_type": "subslide"
    }
   },
   "source": [
    "### 3.2 What is Algorithm analysis?\n",
    "\n",
    "- Analysis of algorithms is a branch of computer science that studies\n",
    "    the performance of algorithms, especially their run time and space\n",
    "    requirements\n",
    "    ([Wikipedia](http://en.wikipedia.org/wiki/Analysis_of_algorithms))\n",
    "\n",
    "- The practical goal of algorithm analysis is to predict the\n",
    "    performance of different algorithms in order to guide design\n",
    "    decisions\n",
    "\n",
    "- Eric Schmidt jokingly asked Obama for \"the most efficient way to\n",
    "    sort a million 32-bit integers\" and he quickly replied: \"I think the\n",
    "    bubble sort would be the wrong way to go\""
   ]
  },
  {
   "cell_type": "code",
   "execution_count": null,
   "metadata": {},
   "outputs": [],
   "source": [
    "from IPython.display import YouTubeVideo\n",
    "YouTubeVideo('k4RRi_ntQc8')"
   ]
  },
  {
   "cell_type": "markdown",
   "metadata": {
    "colab_type": "text",
    "id": "Bu-OJkNRVZhG",
    "slideshow": {
     "slide_type": "subslide"
    }
   },
   "source": [
    "### Problems when Comparing Algorithms\n",
    "\n",
    "The goal of algorithm analysis is to make meaningful comparisons between\n",
    "algorithms, but there are some problems:\n",
    "\n",
    "- The relative performance of the algorithms might depend on\n",
    "    characteristics of the **hardware**\n",
    "\n",
    "    - the general solution to this problem is to specify a machine\n",
    "        model and analyze the number of steps, or operations, an\n",
    "        algorithm requires under a given model"
   ]
  },
  {
   "cell_type": "markdown",
   "metadata": {
    "colab_type": "text",
    "id": "nnf6jm57VoX6",
    "slideshow": {
     "slide_type": "fragment"
    }
   },
   "source": [
    "- Relative performance might depend on the details of the\n",
    "    dataset\n",
    "\n",
    "    - a common way to avoid this problem is to analyze the **worst\n",
    "        case scenario**\n",
    "\n",
    "- Relative performance also depends on the **size of the problem**\n",
    "\n",
    "    - the usual solution to this problem is to express run time (or\n",
    "        number of operations) as a function of problem size, and group\n",
    "        functions into categories depending on how quickly they grow as\n",
    "        problem size increases"
   ]
  },
  {
   "cell_type": "markdown",
   "metadata": {
    "colab_type": "text",
    "id": "Ol37vYpXTQNe",
    "slideshow": {
     "slide_type": "subslide"
    }
   },
   "source": [
    "## B.1 Order of growth\n",
    "\n",
    "When trying to characterize an algorithm’s efficiency in terms of execution time, independent of any particular program or computer, it is important to quantify the number of operations or steps that the algorithm will require."
   ]
  },
  {
   "cell_type": "markdown",
   "metadata": {
    "colab_type": "text",
    "id": "7Z3cCQpgV-o_",
    "slideshow": {
     "slide_type": "subslide"
    }
   },
   "source": [
    "### Run time\n",
    "\n",
    "- Suppose you have analyzed two algorithms and expressed their run\n",
    "    times in terms of the size of the input:\n",
    "\n",
    "    - Algorithm A takes $T(n) = 100n + 1$ steps to solve a problem \n",
    "        with size $n$\n",
    "\n",
    "    - Algorithm B takes $T(n) =n^2 + n + 1$ steps to solve a problem with size $n$\n",
    "\n",
    "- The following table shows the run time of these algorithms for\n",
    "    different problem sizes:\n",
    "\n",
    "| Input size | Run time of Algorithm A  | Run time of Algorithm B | \n",
    "| ----------:| ------------------------:| -----------------------:| \n",
    "|        10  |       1 001   |         111 | \n",
    "|       100  |      10 001   |      10 101 | \n",
    "|     1 000  |     100 001   |   1 001 001 | \n",
    "|    10 000  |   1 000 001   | $> 10^{10}$ | "
   ]
  },
  {
   "cell_type": "markdown",
   "metadata": {
    "colab_type": "text",
    "id": "8IILCQTNYI5u",
    "slideshow": {
     "slide_type": "subslide"
    }
   },
   "source": [
    "### Order of growth\n",
    "\n",
    "- The **leading term** is the term with the highest exponent\n",
    "\n",
    "- There will always be some value of $n$ where $an^2 > bn$, for any\n",
    "    values of $a$ and $b$\n",
    "\n",
    "- For algorithmic analysis, functions with the same leading term are\n",
    "    considered equivalent, even if they have different coefficients\n",
    "\n",
    "- An order of growth is a set of functions whose growth behaviour is\n",
    "    considered equivalent\n",
    "\n",
    "    - For example, $2n$, $100n$ and $n + 1$ belong to the same order\n",
    "        of growth\n",
    "\n",
    "    - They are all linear"
   ]
  },
  {
   "cell_type": "markdown",
   "metadata": {
    "colab_type": "text",
    "id": "6_kZLZbSTShG",
    "slideshow": {
     "slide_type": "subslide"
    }
   },
   "source": [
    "## 3.3 Big-O notation"
   ]
  },
  {
   "cell_type": "markdown",
   "metadata": {
    "colab_type": "text",
    "id": "1Q40Pu2LhmGp",
    "slideshow": {
     "slide_type": "subslide"
    }
   },
   "source": [
    "### Big-O notation\n",
    "\n",
    "- $T(n)$ is the time it takes to solve a problem of size $n$\n",
    "\n",
    "- The **order of magnitude** function describes the part of $T(n)$\n",
    "    that increases the fastest as the value of $n$ increases\n",
    "\n",
    "- Order of magnitude is often called **Big-O notation** (for \"order\")\n",
    "    and written as $O(f(n))$\n",
    "\n",
    "- It provides a useful approximation to the actual number of steps in\n",
    "    the computation\n"
   ]
  },
  {
   "cell_type": "markdown",
   "metadata": {
    "colab_type": "text",
    "id": "IvFsJwBkixMB",
    "slideshow": {
     "slide_type": "subslide"
    }
   },
   "source": [
    "### Common Order of Magnitude Functions\n",
    "\n",
    " | f(n) &nbsp; &nbsp; &nbsp; &nbsp; &nbsp; &nbsp; | Name |\n",
    " |:----------------|:------------ |\n",
    " | $1$             | Constant |\n",
    " | $\\log n$        | Logarithmic |\n",
    " | $n$             | Linear |\n",
    " | $n$ $\\log n$    | Log Linear |\n",
    " | $n^2$           | Quadratic |\n",
    " | $n^3$           | Cubic |\n",
    " | $2^n$           | Exponential |"
   ]
  },
  {
   "cell_type": "markdown",
   "metadata": {
    "colab_type": "text",
    "id": "lBKi7wfFZSB9",
    "slideshow": {
     "slide_type": "subslide"
    }
   },
   "source": [
    "### Common Order of Magnitude Functions\n",
    "\n",
    "![functions](images/20/graphs.png)\n"
   ]
  },
  {
   "cell_type": "markdown",
   "metadata": {
    "colab_type": "text",
    "id": "s4Ljk2YeZe05",
    "slideshow": {
     "slide_type": "subslide"
    }
   },
   "source": [
    "### Compute $T(n)$\n",
    "\n",
    "```\n",
    "    a=5\n",
    "    b=6\n",
    "    c=10\n",
    "    for i in range(n):\n",
    "       for j in range(n):\n",
    "          x = i * i\n",
    "          y = j * j\n",
    "          z = i * j\n",
    "    for k in range(n):\n",
    "       w = a*k + 45\n",
    "       v = b*b\n",
    "    d = 33\n",
    "```"
   ]
  },
  {
   "cell_type": "markdown",
   "metadata": {
    "colab_type": "text",
    "id": "X4GuoZ6EZrU6",
    "slideshow": {
     "slide_type": "fragment"
    }
   },
   "source": [
    "$$T(n) = 3 + 3 n^2 + 2n + 1 = 3n^2 + 2n + 4$$"
   ]
  },
  {
   "cell_type": "markdown",
   "metadata": {
    "colab_type": "text",
    "id": "uwfzHnYpZuEa",
    "slideshow": {
     "slide_type": "fragment"
    }
   },
   "source": [
    "$$O(n^2)$$"
   ]
  },
  {
   "cell_type": "markdown",
   "metadata": {},
   "source": [
    "### Fibonacci Recursive (inefficient)(recap)"
   ]
  },
  {
   "cell_type": "code",
   "execution_count": null,
   "metadata": {},
   "outputs": [],
   "source": [
    "def fib_rec(n):\n",
    "    \"\"\" assumes n an int >= 0 \"\"\"\n",
    "    if n == 0:\n",
    "        return 0\n",
    "    elif n == 1:\n",
    "        return 1\n",
    "    else:\n",
    "        return fib_rec(n-1) + fib_rec(n-2)\n",
    "print(fib_rec(7))"
   ]
  },
  {
   "cell_type": "markdown",
   "metadata": {},
   "source": [
    "![fib](images/14/fib.png)\n",
    "\n",
    "- It is a **binary tree** of height $n$: for $n=4$ we have\n",
    "    $2^n-1 = 15$ nodes\n",
    "\n",
    "- $O(2^n)$"
   ]
  },
  {
   "cell_type": "code",
   "execution_count": null,
   "metadata": {},
   "outputs": [],
   "source": [
    "from IPython.display import YouTubeVideo\n",
    "YouTubeVideo('pqivnzmSbq4')"
   ]
  },
  {
   "cell_type": "markdown",
   "metadata": {
    "colab_type": "text",
    "id": "APQbG5EpTU81",
    "slideshow": {
     "slide_type": "subslide"
    }
   },
   "source": [
    "# Performance of Python data structures"
   ]
  },
  {
   "cell_type": "markdown",
   "metadata": {
    "colab_type": "text",
    "id": "VpkPxpvhaPLC",
    "slideshow": {
     "slide_type": "subslide"
    }
   },
   "source": [
    "### Performance of Python Data Structures\n",
    "\n",
    "- Now that you have a general idea of Big-O notation and the\n",
    "    differences between the different functions\n",
    "\n",
    "- Let's talk about the Big-O performance for the operations on Python\n",
    "    lists and dictionaries\n",
    "\n",
    "- It is important for you to understand the efficiency of these Python\n",
    "    data structures because they are the building blocks we will use as\n",
    "    we implement other data structures\n",
    "\n",
    "- The designers of Python had many choices to make when they\n",
    "    implemented data structures\n",
    "\n",
    "$\\Rightarrow$\n",
    "<https://docs.python.org/3/faq/design.html#how-are-lists-implemented-in-cpython>"
   ]
  },
  {
   "cell_type": "markdown",
   "metadata": {
    "colab_type": "text",
    "id": "xroLeO4nTXR8",
    "slideshow": {
     "slide_type": "subslide"
    }
   },
   "source": [
    "## 3.6 Lists"
   ]
  },
  {
   "cell_type": "markdown",
   "metadata": {
    "colab_type": "text",
    "id": "DZZqqZXlm47t",
    "slideshow": {
     "slide_type": "subslide"
    }
   },
   "source": [
    "### Generate a list\n",
    "\n",
    "- Let’s look at four different ways we might generate a list of `n` numbers starting with `0`:\n",
    "\n",
    "  - First we’ll try a `for` loop and create the list by *concatenation*\n",
    "  \n",
    "  - then we’ll use `append()` rather than *concatenation*\n",
    "  \n",
    "  - Next, we’ll try creating the list using *list comprehension*\n",
    "  \n",
    "  - Finally, and perhaps the most obvious way, using the `range()` function wrapped by a call to the list constructor\n"
   ]
  },
  {
   "cell_type": "code",
   "execution_count": null,
   "metadata": {
    "colab": {},
    "colab_type": "code",
    "id": "UkkcQgAV4NzZ",
    "slideshow": {
     "slide_type": "subslide"
    }
   },
   "outputs": [],
   "source": [
    "# with a for loop and append()\n",
    "def append(size):\n",
    "    l = []\n",
    "    for i in range(size):\n",
    "        l.append(i)"
   ]
  },
  {
   "cell_type": "code",
   "execution_count": null,
   "metadata": {
    "colab": {},
    "colab_type": "code",
    "id": "6ucwwH6K4QFQ",
    "slideshow": {
     "slide_type": "subslide"
    }
   },
   "outputs": [],
   "source": [
    "# with a for loop and concatenation\n",
    "def concat(size):\n",
    "    l = []\n",
    "    for i in range(size):\n",
    "        l = l + [i] [1.12]"
   ]
  },
  {
   "cell_type": "code",
   "execution_count": null,
   "metadata": {
    "colab": {},
    "colab_type": "code",
    "id": "MCzBW1CE4JoF",
    "slideshow": {
     "slide_type": "subslide"
    }
   },
   "outputs": [],
   "source": [
    "# using a list comprehension\n",
    "def comp(size):\n",
    "    l = [i for i in range(size)]"
   ]
  },
  {
   "cell_type": "code",
   "execution_count": null,
   "metadata": {
    "colab": {},
    "colab_type": "code",
    "id": "5hlSHcaG4GO7",
    "slideshow": {
     "slide_type": "subslide"
    }
   },
   "outputs": [],
   "source": [
    "# using list()\n",
    "def listf(size):\n",
    "    l = list(range(size))"
   ]
  },
  {
   "cell_type": "markdown",
   "metadata": {
    "colab_type": "text",
    "id": "dnA7MC2Q4s4D",
    "slideshow": {
     "slide_type": "subslide"
    }
   },
   "source": [
    "Now, time the different versions:"
   ]
  },
  {
   "cell_type": "code",
   "execution_count": null,
   "metadata": {
    "colab": {},
    "colab_type": "code",
    "id": "56PAKS5d4yFR",
    "slideshow": {
     "slide_type": "fragment"
    }
   },
   "outputs": [],
   "source": [
    " [1.12]import timeit\n",
    "\n",
    "# print the header\n",
    "print(\"\\n{:>6s} {:>8s} {:>8s} {:>8s} {:>9s} \"\n",
    "      .format(\"Size\", \"listf\", \"comp\", \"append\", \"concat\"))\n",
    "\n",
    "# start by 1 000 and increase by 1 000 in each iteration\n",
    "SIZE = 10**3\n",
    "# repeat each operations 1 000 times\n",
    "REP = 10**3\n",
    "for s in range(SIZE, 6*SIZE+1, SIZE):\n",
    "    t1 = timeit.timeit(\"listf(s)\", \"from __main__ import listf, s\", number=REP)\n",
    "    t2 = timeit.timeit(\"comp(s)\", \"from __main__ import comp, s\", number=REP)\n",
    "    t3 = timeit.timeit(\"append(s)\", \"from __main__ import append, s\", number=REP)\n",
    "    t4 = timeit.timeit(\"concat(s)\", \"from __main__ import concat, s\", number=REP)\n",
    "    print(\"{:>6d} {:>8.5f} {:>8.5f} {:>8.5f} {:>9.5f}\"\n",
    "          .format(s, t1, t2, t3, t4))"
   ]
  },
  {
   "cell_type": "markdown",
   "metadata": {
    "colab_type": "text",
    "id": "cW92ldvK5m2C",
    "slideshow": {
     "slide_type": "skip"
    }
   },
   "source": [
    "\n",
    "$\\Rightarrow$\n",
    "<https://github.com/fpro-feup/public/blob/master/lectures/20/timing1.py>"
   ]
  },
  {
   "cell_type": "markdown",
   "metadata": {
    "colab_type": "text",
    "id": "625zaPIXbFp0",
    "slideshow": {
     "slide_type": "subslide"
    }
   },
   "source": [
    "### List operations\n",
    "\n",
    "  | Operation  &nbsp; &nbsp; &nbsp; &nbsp; &nbsp; &nbsp; | Big-O Efficiency  |\n",
    "  |:----------------|:------------------|\n",
    "  | index [ ]       | $O(1)$ |\n",
    "  | append          | $O(1)$ |\n",
    "  | pop()           | $O(1)$ |\n",
    "  | pop(i)          | $O(n)$ |\n",
    "  | insert(i,item)  | $O(n)$ |\n",
    "  | del operator    | $O(n)$ |\n",
    "  | iteration       | $O(n)$ |\n",
    "  | contains (in)   | $O(n)$ |\n",
    "  | reverse         | $O(n)$ |\n",
    "  | concatenate     | $O(k)$ |\n",
    "  | sort            | $O(n \\log n)$ |\n"
   ]
  },
  {
   "cell_type": "markdown",
   "metadata": {
    "colab_type": "text",
    "id": "4N2qNmNdfZRA",
    "slideshow": {
     "slide_type": "subslide"
    }
   },
   "source": [
    "### Compare pop() with pop(0) in a list"
   ]
  },
  {
   "cell_type": "markdown",
   "metadata": {
    "colab_type": "text",
    "id": "s6K_ylk9lFZr",
    "slideshow": {
     "slide_type": "fragment"
    }
   },
   "source": [
    "Start with a 10^6 list, the list get's bigger by 10^6 each cicle and, for more accuracy, there's 10^3 executions for each measurement `pop()` and `pop(0)`."
   ]
  },
  {
   "cell_type": "code",
   "execution_count": null,
   "metadata": {
    "colab": {},
    "colab_type": "code",
    "id": "LdnBeQ_Hmsh8",
    "slideshow": {
     "slide_type": "subslide"
    }
   },
   "outputs": [],
   "source": [
    "import timeit\n",
    "\n",
    "# print the header\n",
    "print(\"\\n{:>9s} {:>9s} {:>10s}\".format(\"len(x)\", \"pop()\", \"pop(0)\"))\n",
    "\n",
    "## start by 1 000 000 and increase by 1 000 000 in each iteration\n",
    "SIZE = 10**6\n",
    "# repeat each operations 1 000 times\n",
    "REP = 10**3\n",
    "for size in range(SIZE, 12*SIZE+1, SIZE):\n",
    "\n",
    "    # pop()\n",
    "    pe_stmt = \"x.pop()\"                                # the operation\n",
    "    pe_setup = \"x = list(range(\" + str(size) + \"))\"    # the list gets bigger\n",
    "    pe = timeit.timeit(pe_stmt, pe_setup, number=REP)  # timeit for 1000 pops\n",
    "\n",
    "    # pop(0)\n",
    "    pz_stmt = \"x.pop(0)\"                               # the operation\n",
    "    pz_setup = \"x = list(range(\" + str(size) + \"))\"    # the list gets bigger\n",
    "    pz = timeit.timeit(pz_stmt, pz_setup, number=REP)  # timeit for 1000 pops\n",
    "\n",
    "    # print the results\n",
    "    print(\"{:9d} {:9.5f} {:10.5f}\".format(size, pe, pz))"
   ]
  },
  {
   "cell_type": "markdown",
   "metadata": {
    "colab_type": "text",
    "id": "LR4APbP7alz5",
    "slideshow": {
     "slide_type": "skip"
    }
   },
   "source": [
    "\n",
    "$\\Rightarrow$\n",
    "<https://github.com/fpro-feup/public/blob/master/lectures/20/timing2.py>"
   ]
  },
  {
   "cell_type": "markdown",
   "metadata": {
    "colab_type": "text",
    "id": "XDEe4WJGnSYT",
    "slideshow": {
     "slide_type": "skip"
    }
   },
   "source": [
    "Any conclusions?"
   ]
  },
  {
   "cell_type": "markdown",
   "metadata": {
    "colab_type": "text",
    "id": "jFIG5zZFzT7U",
    "slideshow": {
     "slide_type": "subslide"
    }
   },
   "source": [
    "### `pop()`\n",
    "\n",
    "![pop](images/20/pop.png)"
   ]
  },
  {
   "cell_type": "markdown",
   "metadata": {
    "colab_type": "text",
    "id": "Hwqdc6HLzgEE",
    "slideshow": {
     "slide_type": "subslide"
    }
   },
   "source": [
    "### `pop(0)`\n",
    "\n",
    "![pop](images/20/pop0.png)"
   ]
  },
  {
   "cell_type": "markdown",
   "metadata": {
    "colab_type": "text",
    "id": "tLFlHjLTTZo0",
    "slideshow": {
     "slide_type": "subslide"
    }
   },
   "source": [
    "## 3.7 Dictionaries"
   ]
  },
  {
   "cell_type": "markdown",
   "metadata": {
    "colab_type": "text",
    "id": "V3jZ4ewvcz7R",
    "slideshow": {
     "slide_type": "subslide"
    }
   },
   "source": [
    "### Dictionary operations\n",
    "\n",
    "- As you probably recall, dictionaries differ from lists in that you can\n",
    "access items in a dictionary by a key rather than a position\n",
    "\n",
    "\n",
    "  | Operation  &nbsp; &nbsp; &nbsp; &nbsp; &nbsp; &nbsp; | Big-O Efficiency  |\n",
    "  |:--------------|:------------------|\n",
    "  | copy          | $O(n)$ |\n",
    "  | get item      | $O(1)$ |\n",
    "  | set item      | $O(1)$ |\n",
    "  | delete item   | $O(1)$ |\n",
    "  | contains (in) | $O(1)$ |\n",
    "  | iteration     | $O(n)$ |"
   ]
  },
  {
   "cell_type": "markdown",
   "metadata": {
    "colab_type": "text",
    "id": "Bv0ZkW3p5W4G",
    "slideshow": {
     "slide_type": "subslide"
    }
   },
   "source": [
    "## The `in` operator"
   ]
  },
  {
   "cell_type": "markdown",
   "metadata": {
    "colab_type": "text",
    "id": "fb2jRcNaaROk",
    "slideshow": {
     "slide_type": "subslide"
    }
   },
   "source": [
    "### The `in` operator in list and dict"
   ]
  },
  {
   "cell_type": "code",
   "execution_count": null,
   "metadata": {
    "colab": {},
    "colab_type": "code",
    "id": "q0X1nNX8aclX",
    "slideshow": {
     "slide_type": "fragment"
    }
   },
   "outputs": [],
   "source": [
    "import timeit\n",
    "\n",
    "# print the header\n",
    "print(\"\\n{:>9s} {:>9s} {:>10s}\".format(\"len(x)\", \"in list\", \"in set\"))\n",
    "\n",
    "# start by 100 000 and increase by 100 000 in each iteration\n",
    "SIZE = 10**5\n",
    "# repeat each operations 1 000 times\n",
    "REP = 10**3\n",
    "for size in range(SIZE, 12*SIZE+1, SIZE):\n",
    "\n",
    "    # find 900 000 in list\n",
    "    tl_stmt = \"9*10**5 in c\"                           # the operation\n",
    "    tl_setup = \"c = list(range(\" + str(size) + \"))\"    # the list gets bigger\n",
    "    pl = timeit.timeit(tl_stmt, tl_setup, number=REP)  # timeit for 1000 pops\n",
    "\n",
    "    # find 900 000 in dict\n",
    "    ts_stmt = \"9*10**5 in s\"                           # the operation\n",
    "    ts_setup = \"s = set(range(\" + str(size) + \"))\"     # the list gets bigger\n",
    "    ps = timeit.timeit(ts_stmt, ts_setup, number=REP)  # timeit for 1000 pops\n",
    "\n",
    "    # print the results\n",
    "    print(\"{:9d} {:9.5f} {:10.5f}\".format(size, pl, ps))"
   ]
  },
  {
   "cell_type": "markdown",
   "metadata": {
    "colab_type": "text",
    "id": "VNdqv6LEanZ8",
    "slideshow": {
     "slide_type": "skip"
    }
   },
   "source": [
    "\n",
    "$\\Rightarrow$\n",
    "<https://github.com/fpro-feup/public/blob/master/lectures/20/timing3.py>"
   ]
  },
  {
   "cell_type": "markdown",
   "metadata": {
    "colab_type": "text",
    "id": "Gkv4Dbf_d0LI",
    "slideshow": {
     "slide_type": "skip"
    }
   },
   "source": [
    "## 3.8 Summary"
   ]
  },
  {
   "cell_type": "markdown",
   "metadata": {
    "colab_type": "text",
    "id": "kUolIEJUd37t",
    "slideshow": {
     "slide_type": "subslide"
    }
   },
   "source": [
    "### Summary\n",
    "\n",
    "- Algorithm analysis is an implementation-independent way of measuring\n",
    "    an algorithm\n",
    "\n",
    "- Big-O notation allows algorithms to be classified by their dominant\n",
    "    process with respect to the size of the problem"
   ]
  },
  {
   "cell_type": "markdown",
   "metadata": {
    "colab_type": "text",
    "id": "ljGNpVo_cXoa",
    "slideshow": {
     "slide_type": "fragment"
    }
   },
   "source": [
    "- It is common to analyze the **worst case scenario** to avoid the dependencies of relative performance on the details of the dataset\n",
    "- It is sometimes useful to analyze average case performance, but that’s usually harder, and it might not be obvious what set of cases to average over\n"
   ]
  },
  {
   "cell_type": "markdown",
   "metadata": {
    "colab_type": "text",
    "id": "O7Fq2OtBdZ7h",
    "slideshow": {
     "slide_type": "fragment"
    }
   },
   "source": [
    "- Algorithm analysis is concerned with comparing algorithms based upon the amount of *computing resources* that each algorithm uses, and there are two different ways to look at this:\n",
    "\n",
    "  - consider the *amount of space* or memory an algorithm requires to solve the problem\n",
    "  - consider the *amount of time* an algorithm require to execute (sometimes referred to as the “execution time” or “running time” of the algorithm)"
   ]
  },
  {
   "cell_type": "markdown",
   "metadata": {
    "colab_type": "text",
    "id": "Zz-UtV8ORH_t",
    "slideshow": {
     "slide_type": "slide"
    }
   },
   "source": [
    "# Ticket to leave"
   ]
  },
  {
   "cell_type": "markdown",
   "metadata": {
    "colab_type": "text",
    "id": "C-hchAExRRVh",
    "slideshow": {
     "slide_type": "subslide"
    }
   },
   "source": [
    "## Moodle activity\n",
    "\n",
    "[LE20: Analysis of algorithms](https://moodle.up.pt/course/view.php?id=1738#section-1)"
   ]
  },
  {
   "cell_type": "markdown",
   "metadata": {
    "colab_type": "text",
    "id": "uV1OP6ahRYne",
    "slideshow": {
     "slide_type": "skip"
    }
   },
   "source": [
    "\n",
    "$\\Rightarrow$ \n",
    "[Go back to the Table of Contents](00-contents.ipynb)\n",
    "\n",
    "$\\Rightarrow$ \n",
    "[Read the Preface](00-preface.ipynb)"
   ]
  }
 ],
 "metadata": {
  "colab": {
   "collapsed_sections": [
    "Zz-UtV8ORH_t"
   ],
   "name": "20-analysis.ipynb",
   "private_outputs": true,
   "provenance": [],
   "toc_visible": true
  },
  "kernelspec": {
   "display_name": "Python 3",
   "language": "python",
   "name": "python3"
  },
  "language_info": {
   "codemirror_mode": {
    "name": "ipython",
    "version": 3
   },
   "file_extension": ".py",
   "mimetype": "text/x-python",
   "name": "python",
   "nbconvert_exporter": "python",
   "pygments_lexer": "ipython3",
   "version": "3.8.5"
  },
  "rise": {
   "enable_chalkboard": true
  }
 },
 "nbformat": 4,
 "nbformat_minor": 1
}
