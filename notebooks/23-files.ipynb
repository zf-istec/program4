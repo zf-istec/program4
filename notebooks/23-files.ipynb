{
 "cells": [
  {
   "cell_type": "markdown",
   "metadata": {
    "colab_type": "text",
    "id": "8z5cONg8rUrX",
    "slideshow": {
     "slide_type": "slide"
    }
   },
   "source": [
    "# Files\n",
    "\n",
    "## Programming Fundamentals (NB23)\n",
    "\n",
    "### MIEIC/2020-21\n",
    "\n",
    "#### João Correia Lopes\n",
    "\n",
    "FEUP/DEI and INESC TEC"
   ]
  },
  {
   "cell_type": "markdown",
   "metadata": {
    "colab_type": "text",
    "id": "MZzE7pYorju5",
    "slideshow": {
     "slide_type": "subslide"
    }
   },
   "source": [
    "## Goals\n",
    "\n",
    "By the end of this class, the student should be able to:\n",
    "\n",
    "- Describe reading data from external storage to be manipulated by the program\n",
    "\n",
    "- Describe how to make data outlive the program that creates it\n"
   ]
  },
  {
   "cell_type": "markdown",
   "metadata": {
    "colab_type": "text",
    "id": "eR5Lh1jNroE2",
    "slideshow": {
     "slide_type": "subslide"
    }
   },
   "source": [
    "## Bibliography\n",
    "\n",
    "- Peter Wentworth, Jeffrey Elkner, Allen B. Downey, and Chris Meyers, *How to Think Like a Computer Scientist — Learning with Python 3* (Chapter 7)\n",
    "\n",
    "- Brad Miller and David Ranum, *How to Think Like a Computer Scientist:\n",
    "    Interactive Edition*. Based on material by Jeffrey Elkner, Allen B.\n",
    "    Downey, and Chris Meyers (Chapter 11)\n"
   ]
  },
  {
   "cell_type": "markdown",
   "metadata": {
    "colab_type": "text",
    "id": "BpD53L1Uqstj",
    "slideshow": {
     "slide_type": "slide"
    }
   },
   "source": [
    "# Files"
   ]
  },
  {
   "cell_type": "markdown",
   "metadata": {
    "colab_type": "text",
    "id": "zykzRtpCquVs",
    "slideshow": {
     "slide_type": "subslide"
    }
   },
   "source": [
    "### Files\n",
    "\n",
    "> **And now for something completely different!** (*Monty Python's Flying Circus*)\n",
    "\n",
    "-  Rather than avoiding side effects (effect-free programmings style)\n",
    "\n",
    "- ... we focus on achieving persistence (doing I/O)\n",
    "\n",
    "> \"most **real computer programs** must retrieve stored information and\n",
    "> record information for future use.\""
   ]
  },
  {
   "cell_type": "markdown",
   "metadata": {
    "colab_type": "text",
    "id": "ZQXGEQiyt98J",
    "slideshow": {
     "slide_type": "subslide"
    }
   },
   "source": [
    "### Persistence\n",
    "\n",
    "> \"In computer science, *persistence* refers to the characteristic of\n",
    "> **state that outlives the process that created it**.\n",
    ">\n",
    "> This is achieved in practice by storing the state as data in computer\n",
    "> data storage.\n",
    ">\n",
    "> Programs have to transfer data to and from storage devices and have to\n",
    "> **provide mappings** from the native programming-language data\n",
    "> structures to the storage device data structures.\"\n",
    "> [[Wikipedia]](https://en.wikipedia.org/wiki/Persistence_(computer_science))"
   ]
  },
  {
   "cell_type": "markdown",
   "metadata": {
    "colab_type": "text",
    "id": "pxcGDq58uQan",
    "slideshow": {
     "slide_type": "subslide"
    }
   },
   "source": [
    "## 7.1 About files\n",
    "\n",
    "- While a program is running, its data is stored in random access\n",
    "    memory (RAM)\n",
    "\n",
    "- RAM is fast and inexpensive, but it is also **volatile**\n",
    "\n",
    "- To make data available the next time the program is started, it has\n",
    "    to be written to a **non-volatile** storage medium\n",
    "\n",
    "- Data on non-volatile storage media is stored in named locations\n",
    "    called **files**"
   ]
  },
  {
   "cell_type": "markdown",
   "metadata": {
    "colab_type": "text",
    "id": "i5p9ozVquU_F",
    "slideshow": {
     "slide_type": "subslide"
    }
   },
   "source": [
    "### Finding a File on your Disk\n",
    "\n",
    "- Opening a file requires that you, as a programmer, and Python agree\n",
    "    about the location of the file on your disk\n",
    "\n",
    "- The way that files are located on disk is by their **path**\n",
    "\n",
    "- You can think of the **filename** as the short name for a file, and\n",
    "    the path as the full name.\n",
    "\n",
    "![Tree](images/23/tree.png)"
   ]
  },
  {
   "cell_type": "markdown",
   "metadata": {
    "colab_type": "text",
    "id": "vEf8EvjEuhRG",
    "slideshow": {
     "slide_type": "subslide"
    }
   },
   "source": [
    "## 7.2 Writing our first file\n",
    "\n",
    "- Opening a file creates what its called a file **handle**\n",
    "\n",
    "- Our program calls methods on the handle, and this makes changes to\n",
    "    the actual file which is usually located on our disk\n",
    "\n",
    "- Let's begin with a simple program that writes three lines of text\n",
    "    into a file:\n",
    "\n",
    "```\n",
    "  with open(\"test.txt\", \"w\") as myfile:\n",
    "      myfile.write(\"My first file written from Python\\n\")\n",
    "      myfile.write(\"---------------------------------\\n\")\n",
    "      myfile.write(\"Hello, world!\\n\")\n",
    "```\n",
    "\n",
    "- You may as well use: `f = open(\"workfile\", \"w\")`\n",
    "\n",
    "- But, if you're not using the `with`, then you should call\n",
    "    `f.close()` to close the file and immediately free up any system\n",
    "    resources used by it\n",
    "\n",
    "$\\Rightarrow$\n",
    "<https://github.com/fpro-feup/public/blob/master/lectures/23/myfile.py>\n"
   ]
  },
  {
   "cell_type": "markdown",
   "metadata": {
    "colab_type": "text",
    "id": "RskXECy0uzX4",
    "slideshow": {
     "slide_type": "subslide"
    }
   },
   "source": [
    "### Modes\n",
    "\n",
    "- To manipulate files one needs to provide the path to the file and\n",
    "    the **mode** for `open()`\n",
    "\n",
    "| **Character** | **Meaning** |\n",
    "|:-------------:|:------------|\n",
    "|  'r'          |  open for reading (default) |\n",
    "|  'w'          |  open for writing, truncating the file first |\n",
    "|  'x'          |  open for exclusive creation, failing if the file already exists |\n",
    "|  'a'          |  open for writing, appending to the end of the file if it exists |\n",
    "|  'b'          |  binary mode |\n",
    "|  't'          |  text mode (default) |\n",
    "|  '+'          |  open a disk file for updating (reading and writing) |\n",
    "\n",
    "$\\Rightarrow$\n",
    "<https://docs.python.org/3/library/functions.html#open>"
   ]
  },
  {
   "cell_type": "markdown",
   "metadata": {
    "colab_type": "text",
    "id": "03--SV8tv-y-",
    "slideshow": {
     "slide_type": "subslide"
    }
   },
   "source": [
    "With mode \"w\", if there is no file named `first.txt` on the disk, it will be created. \\\n",
    "If there already is one, it will be replaced by the file we are writing."
   ]
  },
  {
   "cell_type": "code",
   "execution_count": null,
   "metadata": {
    "colab": {},
    "colab_type": "code",
    "id": "OTgW8uj7wCvm",
    "slideshow": {
     "slide_type": "fragment"
    }
   },
   "outputs": [],
   "source": [
    "with open(\"first.txt\", \"w\") as myfile:\n",
    "    myfile.write(\"My first file written from Python\\n\")\n",
    "    myfile.write(\"---------------------------------\\n\")\n",
    "    myfile.write(\"Hello, world!\\n\")"
   ]
  },
  {
   "cell_type": "markdown",
   "metadata": {
    "colab_type": "text",
    "id": "5wl9VF4vvwZx",
    "slideshow": {
     "slide_type": "subslide"
    }
   },
   "source": [
    "## 7.3 Reading a file line-at-a-time\n",
    "\n",
    "- Now that the file exists on our disk, we can open it, this time for\n",
    "    reading, and read all the lines in the file, one at a time\n",
    "\n",
    "- The `for` statement in line 2 reads everything up to **and including\n",
    "    the newline character**\n",
    "\n",
    "```\n",
    "   with open(\"test.txt\", \"r\") as my_handle:\n",
    "       for the_line in my_handle:\n",
    "           # Do something with the line we just read. Here we just print it.\n",
    "           print(the_line, end=\"\")\n",
    "```\n",
    "\n",
    "$\\Rightarrow$\n",
    "<https://github.com/fpro-feup/public/blob/master/lectures/23/myfile.py>"
   ]
  },
  {
   "cell_type": "markdown",
   "metadata": {
    "colab_type": "text",
    "id": "Xt2WSjljwjOY",
    "slideshow": {
     "slide_type": "skip"
    }
   },
   "source": [
    "Let's read our `first.txt` file."
   ]
  },
  {
   "cell_type": "code",
   "execution_count": null,
   "metadata": {
    "colab": {},
    "colab_type": "code",
    "id": "FbJy355Wwn63",
    "slideshow": {
     "slide_type": "subslide"
    }
   },
   "outputs": [],
   "source": [
    "with open(\"first.txt\", \"r\") as myfile:\n",
    "    for the_line in myfile:\n",
    "        # Do something with the line we just read. Here we just print it.\n",
    "        print(the_line, end=\"\")"
   ]
  },
  {
   "cell_type": "markdown",
   "metadata": {
    "colab_type": "text",
    "id": "T06w2DHHw1xi",
    "slideshow": {
     "slide_type": "fragment"
    }
   },
   "source": [
    "What about this?"
   ]
  },
  {
   "cell_type": "code",
   "execution_count": null,
   "metadata": {
    "colab": {},
    "colab_type": "code",
    "id": "PD4DQGvCw4OP",
    "slideshow": {
     "slide_type": "fragment"
    }
   },
   "outputs": [],
   "source": [
    "f = open(\"foo.txt\", \"r\")"
   ]
  },
  {
   "cell_type": "markdown",
   "metadata": {
    "colab_type": "text",
    "id": "StCNWRT6v-el",
    "slideshow": {
     "slide_type": "subslide"
    }
   },
   "source": [
    "## 7.4 Turning a file into a list of lines\n",
    "\n",
    "- It is often useful to fetch data from a disk file and turn it into a\n",
    "    list of lines\n",
    "\n",
    "- The `readlines` method in line 2 reads all the lines and returns a\n",
    "    list of the strings\n",
    "\n",
    "    - We could read each line one-at-a-time and build up the list\n",
    "        ourselves, but it is a lot easier to use the method that the\n",
    "        Python implementors gave us!\n",
    "\n",
    "```\n",
    "  with open(\"players.txt\", \"r\") as input_file:\n",
    "      all_lines = input_file.readlines()\n",
    "```\n",
    "\n",
    "$\\Rightarrow$\n",
    "<https://github.com/fpro-feup/public/blob/master/lectures/23/players.py>\n"
   ]
  },
  {
   "cell_type": "markdown",
   "metadata": {
    "colab_type": "text",
    "id": "mao3Gb3NxU5Q",
    "slideshow": {
     "slide_type": "skip"
    }
   },
   "source": [
    "Get a list of lines from a file."
   ]
  },
  {
   "cell_type": "code",
   "execution_count": null,
   "metadata": {
    "colab": {},
    "colab_type": "code",
    "id": "QJF9vLMhxZU3",
    "slideshow": {
     "slide_type": "subslide"
    }
   },
   "outputs": [],
   "source": [
    "with open(\"files/players.txt\", \"r\") as input_file:\n",
    "    all_lines = input_file.readlines()\n",
    "\n",
    "print(all_lines)"
   ]
  },
  {
   "cell_type": "markdown",
   "metadata": {
    "colab_type": "text",
    "id": "nv-mz2ZhyukN",
    "slideshow": {
     "slide_type": "subslide"
    }
   },
   "source": [
    "Sort lines and write back to the file system."
   ]
  },
  {
   "cell_type": "code",
   "execution_count": null,
   "metadata": {
    "colab": {},
    "colab_type": "code",
    "id": "nYmcFkUCyyr0",
    "slideshow": {
     "slide_type": "fragment"
    }
   },
   "outputs": [],
   "source": [
    "all_lines.sort()\n",
    "\n",
    "with open(\"files/sorted_players.txt\", \"w\") as output_file:\n",
    "    for line in all_lines:\n",
    "        output_file.write(line)"
   ]
  },
  {
   "cell_type": "markdown",
   "metadata": {
    "colab_type": "text",
    "id": "7jx7a4-QwERw",
    "slideshow": {
     "slide_type": "subslide"
    }
   },
   "source": [
    "## 7.5 Reading the whole file at once\n",
    "\n",
    "- Another way of working with text files is to read the complete\n",
    "    contents of the file into a string, and then to use our\n",
    "    string-processing skills to work with the contents\n",
    "\n",
    "- By default, if we don't supply the mode, Python opens the file for\n",
    "    reading\n",
    "\n",
    "```\n",
    "  with open(\"somefile.txt\") as f:\n",
    "      content = f.read()\n",
    "   \n",
    "  words = content.split()\n",
    "  print(f\"There are {len(words)} words in the file.\")\n",
    "```\n",
    "\n",
    "$\\Rightarrow$\n",
    "<https://github.com/fpro-feup/public/blob/master/lectures/23/players2.py>"
   ]
  },
  {
   "cell_type": "markdown",
   "metadata": {
    "colab_type": "text",
    "id": "MH1d-qYgzFUx",
    "slideshow": {
     "slide_type": "subslide"
    }
   },
   "source": [
    "Read the whole file to a variable string."
   ]
  },
  {
   "cell_type": "code",
   "execution_count": null,
   "metadata": {
    "colab": {},
    "colab_type": "code",
    "id": "qBqLzUBmzI-T",
    "slideshow": {
     "slide_type": "fragment"
    }
   },
   "outputs": [],
   "source": [
    "with open(\"files/players.txt\") as f:\n",
    "    content = f.read()\n",
    "\n",
    "words = content.split()\n",
    "\n",
    "print(f\"There are {len(words)} words in the file.\")"
   ]
  },
  {
   "cell_type": "markdown",
   "metadata": {
    "colab_type": "text",
    "id": "z1UvSAprwMxJ",
    "slideshow": {
     "slide_type": "subslide"
    }
   },
   "source": [
    "### Methods of File Objects\n",
    "\n",
    "| **Method**             | **Description** |\n",
    "|:-----------------------|:--------------- |\n",
    "| `f.read()`             | reads the entire file |\n",
    "| `f.readline()`         | reads a single line from the file |\n",
    "| `f.write(string)`      | writes the contents of string to the file |\n",
    "| `f.tell()`             | returns an integer giving the file object's current position |\n",
    "| `f.seek(offset, from)` | changes the file object's position |\n",
    "\n",
    "$\\Rightarrow$\n",
    "<https://docs.python.org/3.6/tutorial/inputoutput.html#methods-of-file-objects>"
   ]
  },
  {
   "cell_type": "markdown",
   "metadata": {
    "colab_type": "text",
    "id": "dVVGAjdUrZkg",
    "slideshow": {
     "slide_type": "subslide"
    }
   },
   "source": [
    "## 7.6 An example"
   ]
  },
  {
   "cell_type": "markdown",
   "metadata": {
    "colab_type": "text",
    "id": "cxHi6JQIwv67",
    "slideshow": {
     "slide_type": "subslide"
    }
   },
   "source": [
    "### A filter example\n",
    "\n",
    "- Here is a filter that copies one file to another, omitting any lines\n",
    "    that begin with \\#:\n",
    "\n",
    "```\n",
    "  def filter(oldfile, newfile):\n",
    "      with open(oldfile, \"r\") as infile, open(newfile, \"w\") as outfile:\n",
    "\n",
    "          for line in infile:\n",
    "\n",
    "              # Put any processing logic here\n",
    "              if not line.startswith('#'):\n",
    "                  outfile.write(line)\n",
    "```\n",
    "\n",
    "$\\Rightarrow$\n",
    "<https://github.com/fpro-feup/public/blob/master/lectures/23/filter.py>"
   ]
  },
  {
   "cell_type": "markdown",
   "metadata": {
    "colab_type": "text",
    "id": "N9Rfdv67zUYZ",
    "slideshow": {
     "slide_type": "subslide"
    }
   },
   "source": [
    "Define filter function."
   ]
  },
  {
   "cell_type": "code",
   "execution_count": null,
   "metadata": {
    "colab": {},
    "colab_type": "code",
    "id": "CN4pCdWNzmsM",
    "slideshow": {
     "slide_type": "fragment"
    }
   },
   "outputs": [],
   "source": [
    "def filter(oldfile, newfile):\n",
    "    with open(oldfile, \"r\") as infile, open(newfile, \"w\") as outfile:\n",
    "        for line in infile:\n",
    "            # Put any processing logic here\n",
    "            if not line.startswith('#'):\n",
    "                outfile.write(line)"
   ]
  },
  {
   "cell_type": "markdown",
   "metadata": {
    "colab_type": "text",
    "id": "IBOtRd8-zzhc",
    "slideshow": {
     "slide_type": "subslide"
    }
   },
   "source": [
    "Process the file."
   ]
  },
  {
   "cell_type": "code",
   "execution_count": null,
   "metadata": {
    "colab": {},
    "colab_type": "code",
    "id": "VCVKP7Cvz4bE",
    "slideshow": {
     "slide_type": "fragment"
    }
   },
   "outputs": [],
   "source": [
    "filter(\"files/filter.py\", \"files/filter.txt\")"
   ]
  },
  {
   "cell_type": "markdown",
   "metadata": {
    "colab_type": "text",
    "id": "KCpdeX4_w7Q7",
    "slideshow": {
     "slide_type": "subslide"
    }
   },
   "source": [
    "## 7.7 Directories\n",
    "\n",
    "- Files on non-volatile storage media are organized by a set of rules\n",
    "    known as a **file system**\n",
    "\n",
    "- File systems are made up of files and directories, which are\n",
    "    containers for both files and other directories\n",
    "\n",
    "- When we open a file for reading, Python looks for it in the current\n",
    "    directory\n",
    "\n",
    "- If we want to open a file somewhere else, we have to specify the\n",
    "    path to the file, which is the name of the directory (or folder)\n",
    "    where the file is located\n",
    "\n",
    "```\n",
    "  >>> wordsfile = open(\"/usr/share/dict/words\", \"r\")\n",
    "  >>> wordlist = wordsfile.readlines()\n",
    "  >>> print(wordlist[:7])\n",
    "  ['A\\n', \"A's\\n\", 'AMD\\n', \"AMD's\\n\", 'AOL\\n', \"AOL's\\n\", 'Aachen\\n']\n",
    "```"
   ]
  },
  {
   "cell_type": "markdown",
   "metadata": {
    "colab_type": "text",
    "id": "Y4htBskirfnz",
    "slideshow": {
     "slide_type": "subslide"
    }
   },
   "source": [
    "## 7.8 What about fetching something from the Web?"
   ]
  },
  {
   "cell_type": "markdown",
   "metadata": {
    "colab_type": "text",
    "id": "OFfBjndcxAdi",
    "slideshow": {
     "slide_type": "subslide"
    }
   },
   "source": [
    "### Fetching from the Web\n",
    "\n",
    "- Here is a very simple example that copies the contents at some Web\n",
    "    URL to a local file\n",
    "\n",
    "- The `urlretrieve` function could be used to download any kind of\n",
    "    content from the Web\n",
    "\n",
    "- The resource we're trying to fetch must exist (check it using a\n",
    "    browser)\n",
    "\n",
    "```\n",
    "  import urllib.request\n",
    "\n",
    "  url = \"https://www.ietf.org/rfc/rfc793.txt\"\n",
    "  destination_filename = \"rfc793.txt\"\n",
    "\n",
    "  urllib.request.urlretrieve(url, destination_filename)\n",
    "```\n",
    "\n",
    "$\\Rightarrow$\n",
    "<https://github.com/fpro-feup/public/blob/master/lectures/23/scraping.py>"
   ]
  },
  {
   "cell_type": "markdown",
   "metadata": {
    "colab_type": "text",
    "id": "v60AHkxr0wFi",
    "slideshow": {
     "slide_type": "subslide"
    }
   },
   "source": [
    "Using module urllib."
   ]
  },
  {
   "cell_type": "code",
   "execution_count": null,
   "metadata": {
    "colab": {},
    "colab_type": "code",
    "id": "rpK8L5m806Ud",
    "slideshow": {
     "slide_type": "fragment"
    }
   },
   "outputs": [],
   "source": [
    "import urllib.request\n",
    "\n",
    "url = \"https://www.ietf.org/rfc/rfc793.txt\"\n",
    "destination_filename = \"rfc793.txt\"\n",
    "\n",
    "urllib.request.urlretrieve(url, destination_filename)\n",
    "\n",
    "print(\"\\nWritten in\", destination_filename)"
   ]
  },
  {
   "cell_type": "markdown",
   "metadata": {
    "colab_type": "text",
    "id": "yBSXTZlkxVUY",
    "slideshow": {
     "slide_type": "subslide"
    }
   },
   "source": [
    "### Fetching from the Web using `requests`\n",
    "\n",
    "- The module `requests` is not part of the standard library\n",
    "\n",
    "- It is easier to use and significantly more potent than the `urllib`\n",
    "    module (see [[docs]](http://docs.python-requests.org))\n",
    "\n",
    "- Read the web resource directly into a string and print that string\n",
    "\n",
    "```\n",
    "  import requests\n",
    "    \n",
    "  url = \"https://www.ietf.org/rfc/rfc793.txt\"\n",
    "  response = requests.get(url)\n",
    "  print(response.text)\n",
    "```\n",
    "\n",
    "$\\Rightarrow$\n",
    "<https://github.com/fpro-feup/public/blob/master/lectures/23/scraping.py>"
   ]
  },
  {
   "cell_type": "markdown",
   "metadata": {
    "colab_type": "text",
    "id": "Yrfy-zRc1Gx0",
    "slideshow": {
     "slide_type": "skip"
    }
   },
   "source": [
    "Now with requests."
   ]
  },
  {
   "cell_type": "code",
   "execution_count": null,
   "metadata": {
    "colab": {},
    "colab_type": "code",
    "id": "kxEZ6YEg1O16",
    "slideshow": {
     "slide_type": "subslide"
    }
   },
   "outputs": [],
   "source": [
    "import requests\n",
    "\n",
    "response = requests.get(url)\n",
    "\n",
    "print(response.text)"
   ]
  },
  {
   "cell_type": "markdown",
   "metadata": {
    "colab_type": "text",
    "id": "qjECcuTd1X1z",
    "slideshow": {
     "slide_type": "subslide"
    }
   },
   "source": [
    "We may as well do:"
   ]
  },
  {
   "cell_type": "code",
   "execution_count": null,
   "metadata": {
    "colab": {},
    "colab_type": "code",
    "id": "nBqdt1Y-1dG8",
    "slideshow": {
     "slide_type": "fragment"
    }
   },
   "outputs": [],
   "source": [
    "for line in response:\n",
    "    print(line)"
   ]
  },
  {
   "cell_type": "markdown",
   "metadata": {
    "colab_type": "text",
    "id": "udREHLRYxmy3",
    "slideshow": {
     "slide_type": "subslide"
    }
   },
   "source": [
    "## Further reading\n",
    "\n",
    "- Web Scraping in Python (using `BeautifulSoup`): [[Beginner's\n",
    "    guide]](https://www.analyticsvidhya.com/blog/2015/10/beginner-guide-web-scraping-beautiful-soup-python/)\n",
    "\n",
    "- Data Persistence: [[The Python Standard\n",
    "    Library]](https://docs.python.org/3.6/library/persistence.html)\n",
    "\n",
    "- DB-API 2.0 interface for SQLite databases: [[The Python Standard\n",
    "    Library]](https://docs.python.org/3.6/library/sqlite3.html)\n"
   ]
  },
  {
   "cell_type": "markdown",
   "metadata": {
    "colab_type": "text",
    "id": "Zz-UtV8ORH_t",
    "slideshow": {
     "slide_type": "slide"
    }
   },
   "source": [
    "# Ticket to leave"
   ]
  },
  {
   "cell_type": "markdown",
   "metadata": {
    "colab_type": "text",
    "id": "C-hchAExRRVh",
    "slideshow": {
     "slide_type": "subslide"
    }
   },
   "source": [
    "## Moodle activity\n",
    "\n",
    "[LE23: Files](https://moodle.up.pt/course/view.php?id=1738#section-1)"
   ]
  },
  {
   "cell_type": "markdown",
   "metadata": {
    "colab_type": "text",
    "id": "uV1OP6ahRYne",
    "slideshow": {
     "slide_type": "skip"
    }
   },
   "source": [
    "\n",
    "$\\Rightarrow$ \n",
    "[Go back to the Table of Contents](00-contents.ipynb)\n",
    "\n",
    "$\\Rightarrow$ \n",
    "[Read the Preface](00-preface.ipynb)"
   ]
  }
 ],
 "metadata": {
  "celltoolbar": "Slideshow",
  "colab": {
   "collapsed_sections": [
    "8z5cONg8rUrX"
   ],
   "name": "23-files.ipynb",
   "private_outputs": true,
   "provenance": [],
   "toc_visible": true
  },
  "kernelspec": {
   "display_name": "Python 3",
   "language": "python",
   "name": "python3"
  },
  "language_info": {
   "codemirror_mode": {
    "name": "ipython",
    "version": 3
   },
   "file_extension": ".py",
   "mimetype": "text/x-python",
   "name": "python",
   "nbconvert_exporter": "python",
   "pygments_lexer": "ipython3",
   "version": "3.8.5"
  },
  "rise": {
   "enable_chalkboard": true
  }
 },
 "nbformat": 4,
 "nbformat_minor": 1
}
