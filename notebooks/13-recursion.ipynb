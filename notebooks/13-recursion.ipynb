{
 "cells": [
  {
   "cell_type": "markdown",
   "metadata": {
    "colab_type": "text",
    "id": "8z5cONg8rUrX",
    "slideshow": {
     "slide_type": "slide"
    }
   },
   "source": [
    "# Recursion\n",
    "\n",
    "## Programming Fundamentals (NB13)\n",
    "\n",
    "### MIEIC/2020-21\n",
    "\n",
    "#### João Correia Lopes\n",
    "\n",
    "FEUP/DEI and INESC TEC"
   ]
  },
  {
   "cell_type": "markdown",
   "metadata": {
    "colab_type": "text",
    "id": "MZzE7pYorju5",
    "slideshow": {
     "slide_type": "subslide"
    }
   },
   "source": [
    "## Goals\n",
    "\n",
    "By the end of this class, the student should be able to:\n",
    "\n",
    "- Describe recursive algorithms\n",
    "- Describe how to process recursive data structures\n",
    "- Describe infinite recursion and mutual recursion\n",
    "- Describe significant case studies that are recursive by nature\n",
    "- Describe how recursion is implemented by a computer system"
   ]
  },
  {
   "cell_type": "markdown",
   "metadata": {
    "colab_type": "text",
    "id": "eR5Lh1jNroE2",
    "slideshow": {
     "slide_type": "subslide"
    }
   },
   "source": [
    "## Bibliography\n",
    "\n",
    "- Peter Wentworth, Jeffrey Elkner, Allen B. Downey, and Chris Meyers, *How to Think Like a Computer Scientist — Learning with Python 3* (Chapter 10)"
   ]
  },
  {
   "cell_type": "markdown",
   "metadata": {
    "colab_type": "text",
    "id": "I3-DrIPM-y8H",
    "slideshow": {
     "slide_type": "slide"
    }
   },
   "source": [
    "# Recursion"
   ]
  },
  {
   "cell_type": "markdown",
   "metadata": {
    "colab_type": "text",
    "id": "g5dAoy_aM-tb",
    "slideshow": {
     "slide_type": "subslide"
    }
   },
   "source": [
    "### Recursive image\n",
    "\n",
    "![ummagumma](images/13/ummagumma.png)"
   ]
  },
  {
   "cell_type": "markdown",
   "metadata": {
    "colab_type": "text",
    "id": "SSWS6bZcNV9C",
    "slideshow": {
     "slide_type": "subslide"
    }
   },
   "source": [
    "### Recursion\n",
    "\n",
    "- **Recursion** means \"defining something in terms of itself\" usually\n",
    "    at some smaller scale, perhaps multiple times, to achieve your\n",
    "    objective\n",
    "\n",
    "- Recursion is a method of solving problems that involves **breaking\n",
    "    a problem down into smaller and smaller sub-problems** until you get \n",
    "    to a  small enough problem that it can be solved trivially\n"
   ]
  },
  {
   "cell_type": "markdown",
   "metadata": {
    "colab_type": "text",
    "id": "BtNGGkjTN6eC",
    "slideshow": {
     "slide_type": "fragment"
    }
   },
   "source": [
    "- Programming languages generally support recursion, which means that,\n",
    "    in order to solve a problem, **functions can call\n",
    "    themselves** to solve smaller sub-problems\n",
    "\n",
    "- Recursion allows us to write elegant solutions to problems that may\n",
    "    otherwise be very difficult to program<sup>1</sup> \n",
    "\n",
    "<sup>1</sup> Any problem that can be solved iteratively (with a `for` or `while`\n",
    "    loop) can also be solved recursively. However, recursion takes a\n",
    "    while to wrap your head around, and because of this, it is generally\n",
    "    only used in specific cases, where either your problem is recursive\n",
    "    in nature, or your data is recursive"
   ]
  },
  {
   "cell_type": "markdown",
   "metadata": {
    "colab_type": "text",
    "id": "mKzDDwa6-2Oe",
    "slideshow": {
     "slide_type": "subslide"
    }
   },
   "source": [
    "## Case study: factorial"
   ]
  },
  {
   "cell_type": "markdown",
   "metadata": {
    "colab_type": "text",
    "id": "mBOGgjCzOwLz",
    "slideshow": {
     "slide_type": "subslide"
    }
   },
   "source": [
    "### Factorial\n",
    "\n",
    "- In mathematics, the factorial of a positive integer n, denoted by n!, is the product of all positive integers less than or equal to n:\n",
    "\n",
    "```\n",
    "  n! = n * (n-1) * (n-2) * (n-3) * ... * 3 * 2 * 1\n",
    "\n",
    "  1! = 1\n",
    "```\n"
   ]
  },
  {
   "cell_type": "markdown",
   "metadata": {
    "colab_type": "text",
    "id": "NS1sBTBkmjiC",
    "slideshow": {
     "slide_type": "fragment"
    }
   },
   "source": [
    "- one may derive the recurrence relation\n",
    "\n",
    "```\n",
    "   n  = n * (n-1)!\n",
    "```\n",
    "\n",
    "$\\Rightarrow$\n",
    "<https://github.com/fpro-feup/public/tree/master/lectures/13/fact.py>"
   ]
  },
  {
   "cell_type": "code",
   "execution_count": null,
   "metadata": {
    "colab": {},
    "colab_type": "code",
    "id": "cHsj-bUM3oeQ",
    "slideshow": {
     "slide_type": "subslide"
    }
   },
   "outputs": [],
   "source": [
    "# An iteractive version\n",
    "def factorial(n):\n",
    "    fact = 1\n",
    "    if n > 1:\n",
    "        for i in range(2, n+1):\n",
    "            fact = fact * i\n",
    "    return fact\n",
    "\n",
    "# Some drive code\n",
    "n = int(input(\"Enter a positive integer: \"))\n",
    "print(f\"Factorial of {n} is {factorial(n)}\")"
   ]
  },
  {
   "cell_type": "markdown",
   "metadata": {
    "colab_type": "text",
    "id": "qJdXZtRjO-rG",
    "slideshow": {
     "slide_type": "subslide"
    }
   },
   "source": [
    "### Factorial \"by nature\"\n",
    "\n",
    "- **Base case**: we know the factorial of 1<sup>2</sup> \n",
    "\n",
    "```\n",
    "  if n == 1:\n",
    "      return 1\n",
    "```"
   ]
  },
  {
   "cell_type": "markdown",
   "metadata": {
    "slideshow": {
     "slide_type": "fragment"
    }
   },
   "source": [
    "- **Recursive step**: Rewrite in terms of something simpler to reach base case\n",
    "\n",
    "```\n",
    "  else:\n",
    "      return n * factorial(n-1)\n",
    "```\n",
    "\n",
    "<sup>2</sup> Without a base case, you'll have **infinite recursion**, and your\n",
    "    program will not work."
   ]
  },
  {
   "cell_type": "markdown",
   "metadata": {
    "colab_type": "text",
    "id": "ueBey8rYPT2R",
    "slideshow": {
     "slide_type": "subslide"
    }
   },
   "source": [
    "### `fact(3)`\n",
    "\n",
    "![fact(3)](images/13/fact3.png)\n",
    "\n",
    "source: http://www.trytoprogram.com/python-programming/python-recursive-function/\n"
   ]
  },
  {
   "cell_type": "markdown",
   "metadata": {
    "colab_type": "text",
    "id": "r3ZYJH_4QAet",
    "slideshow": {
     "slide_type": "subslide"
    }
   },
   "source": [
    "## Scope of a recursive function\n",
    "\n",
    "- See the scope in [Python Tutor](http://www.pythontutor.com/visualize.html#mode=edit)\n",
    "\n",
    "```\n",
    "   def fact(n):\n",
    "       if n == 1:\n",
    "           return 1\n",
    "       else:\n",
    "           return n * fact(n-1)\n",
    "   print(fact(3))\n",
    "```\n",
    "\n",
    "- each recursive call to a function creates its **own\n",
    "    scope/environment**\n",
    "\n",
    "- **bindings of variables** in a scope are not changed by recursive\n",
    "    call\n",
    "\n",
    "- flow of control passes back to **previous scope** once function call\n",
    "    returns value"
   ]
  },
  {
   "cell_type": "markdown",
   "metadata": {
    "slideshow": {
     "slide_type": "skip"
    }
   },
   "source": [
    "Now, try it:"
   ]
  },
  {
   "cell_type": "code",
   "execution_count": null,
   "metadata": {
    "colab": {},
    "colab_type": "code",
    "id": "ZamzI7U5RQsn",
    "slideshow": {
     "slide_type": "subslide"
    }
   },
   "outputs": [],
   "source": [
    "def fact(n):\n",
    "       if n == 1:\n",
    "           return 1\n",
    "       else:\n",
    "           return n * fact(n-1)"
   ]
  },
  {
   "cell_type": "code",
   "execution_count": null,
   "metadata": {
    "colab": {},
    "colab_type": "code",
    "id": "kr16gs3iwsfZ",
    "slideshow": {
     "slide_type": "fragment"
    }
   },
   "outputs": [],
   "source": [
    "print(fact(3))"
   ]
  },
  {
   "cell_type": "code",
   "execution_count": null,
   "metadata": {
    "colab": {},
    "colab_type": "code",
    "id": "03DEOiauwtQa",
    "slideshow": {
     "slide_type": "fragment"
    }
   },
   "outputs": [],
   "source": [
    "print(fact(1000))"
   ]
  },
  {
   "cell_type": "markdown",
   "metadata": {
    "colab_type": "text",
    "id": "1dv1xlguQVx8",
    "slideshow": {
     "slide_type": "subslide"
    }
   },
   "source": [
    "### Number of recursive calls\n",
    "\n",
    "- Is there any limit on the number of recursions for a Python recursive function?\n",
    "\n",
    "  - The answer is YES.\n",
    "\n",
    "- Unless we explicitly set the maximum limit of recursions, the program by default will throw a *Recursion error* after X (e.g. 1000) recursions."
   ]
  },
  {
   "cell_type": "markdown",
   "metadata": {
    "colab_type": "text",
    "id": "6R8DrS6Peg7t",
    "slideshow": {
     "slide_type": "fragment"
    }
   },
   "source": [
    "- CPython implementation doesn't optimize *tail recursion*, and unbridled recursion causes stack overflows. \n",
    "\n",
    "- You can check the recursion limit with `sys.getrecursionlimit` and change the recursion limit with `sys.setrecursionlimit`\n",
    "- but doing so is dangerous --- the standard limit is a little conservative, but Python stackframes can be quite big.\n",
    "\n",
    "source: [StackOverflow](https://stackoverflow.com/questions/3323001/) há 9 anos... como será agora?"
   ]
  },
  {
   "cell_type": "code",
   "execution_count": null,
   "metadata": {
    "colab": {},
    "colab_type": "code",
    "id": "amLGv9xlfdEt",
    "slideshow": {
     "slide_type": "subslide"
    }
   },
   "outputs": [],
   "source": [
    "import sys\n",
    "sys.getrecursionlimit()"
   ]
  },
  {
   "cell_type": "markdown",
   "metadata": {
    "colab_type": "text",
    "id": "qgsvfvBt--Eb",
    "slideshow": {
     "slide_type": "subslide"
    }
   },
   "source": [
    "## 10.1 Drawing Fractals"
   ]
  },
  {
   "cell_type": "markdown",
   "metadata": {
    "colab_type": "text",
    "id": "zmJeQMipRrPC",
    "slideshow": {
     "slide_type": "subslide"
    }
   },
   "source": [
    "### Koch fractal\n",
    "\n",
    "- A **fractal** is a drawing which also has self-similar structure,\n",
    "    where it can be defined in terms of itself\n",
    "\n",
    "- This is a typical example of a problem which is recursive in nature\n",
    "\n",
    "![koch0](images/13/koch0.png)\n",
    "\n",
    "An **order 0** Koch fractal\n",
    "\n",
    "![koch1](images/13/koch1.png)\n",
    "\n",
    "An **order 1** Koch fractal"
   ]
  },
  {
   "cell_type": "markdown",
   "metadata": {
    "colab_type": "text",
    "id": "hBoHAPCSTEh6",
    "slideshow": {
     "slide_type": "subslide"
    }
   },
   "source": [
    "### Koch fractal\n",
    "\n",
    "![koch2](images/13/koch2.png)\n",
    "\n",
    "An **order 2** Koch fractal\n",
    "\n",
    "![kock3](images/13/koch3.png)\n",
    "\n",
    "An **order 3** Koch fractal\n",
    "\n",
    "$\\Rightarrow$\n",
    "<https://github.com/fpro-feup/public/tree/master/lectures/13/koch.py>"
   ]
  },
  {
   "cell_type": "code",
   "execution_count": null,
   "metadata": {
    "colab": {},
    "colab_type": "code",
    "id": "noNWGWN1Tsv1",
    "slideshow": {
     "slide_type": "subslide"
    }
   },
   "outputs": [],
   "source": [
    "def koch(pen, order, size):\n",
    "    \"\"\"\n",
    "    Make turtle 'pen' draw a Koch fractal of 'order' and 'size'.\n",
    "    Leave the turtle facing the same direction.\n",
    "    \"\"\"\n",
    "    if order == 0:\n",
    "        # The base case is just a straight line\n",
    "        pen.forward(size)\n",
    "    else:\n",
    "        for angle in [60, -120, 60, 0]:\n",
    "            koch(pen, order-1, size/3)\n",
    "            pen.left(angle)"
   ]
  },
  {
   "cell_type": "code",
   "execution_count": null,
   "metadata": {
    "colab": {},
    "colab_type": "code",
    "id": "oh0X1HHmfrC2",
    "slideshow": {
     "slide_type": "subslide"
    }
   },
   "outputs": [],
   "source": [
    "# get a pen\n",
    "import turtle\n",
    "\n",
    "canvas = turtle.Screen()\n",
    "canvas.setup(800, 300)\n",
    "canvas.bgcolor(\"lightgreen\")\n",
    "\n",
    "tess = turtle.Turtle()\n",
    "tess.pencolor(\"blue\")\n",
    "tess.shape(\"circle\")\n",
    "tess.shapesize(0.1)\n",
    "\n",
    "tess.penup()\n",
    "tess.goto(-300, -100)\n",
    "tess.pendown()\n",
    "\n",
    "# draw an order 4 Koch fractal\n",
    "koch(tess, 4, 600)\n",
    "\n",
    "# wait for user to close window\n",
    "turtle.bye()\n",
    "canvas.mainloop()"
   ]
  },
  {
   "cell_type": "markdown",
   "metadata": {
    "colab_type": "text",
    "id": "wyZuXX5vU0-Z",
    "slideshow": {
     "slide_type": "subslide"
    }
   },
   "source": [
    "### Recursion, the high-level view\n",
    "\n",
    "- The function works correctly when you call it for an order 0 fractal\n",
    "\n",
    "- Focus on is how to draw an order 1 fractal *if I can assume the\n",
    "    order 0 one is already working*"
   ]
  },
  {
   "cell_type": "markdown",
   "metadata": {
    "colab_type": "text",
    "id": "IRGAvu11f-SM",
    "slideshow": {
     "slide_type": "fragment"
    }
   },
   "source": [
    "- You're practicing **mental abstraction** --- ignoring the subproblem\n",
    "    while you solve the big problem"
   ]
  },
  {
   "cell_type": "markdown",
   "metadata": {
    "colab_type": "text",
    "id": "9ZIX4FiHgB5o",
    "slideshow": {
     "slide_type": "fragment"
    }
   },
   "source": [
    "- See that it will work when called for order 2 *under the assumption\n",
    "    that it is already working for level 1*\n",
    "\n",
    "- And, in general, if I can assume the order n-1 case works, can I\n",
    "    just solve the level n problem?"
   ]
  },
  {
   "cell_type": "markdown",
   "metadata": {
    "colab_type": "text",
    "id": "0UjqgWm4gFYg",
    "slideshow": {
     "slide_type": "fragment"
    }
   },
   "source": [
    "- Students of mathematics who have played with proofs of **induction**\n",
    "    should see some very strong similarities here"
   ]
  },
  {
   "cell_type": "markdown",
   "metadata": {
    "colab_type": "text",
    "id": "lJXJr1qwVIZT",
    "slideshow": {
     "slide_type": "subslide"
    }
   },
   "source": [
    "### Recursion, the low-level operational view\n",
    "\n",
    "- The trick of \"unrolling\" the recursion gives us an operational view\n",
    "    of what happens\n",
    "\n",
    "- You can trace the program into `koch_3`, and from there, into\n",
    "    `koch_2`, and then into `koch_1`, etc., all the way down the\n",
    "    different layers of the recursion.\n",
    "\n",
    "$\\Rightarrow$\n",
    "<https://github.com/fpro-feup/public/tree/master/lectures/13/low_level.py>"
   ]
  },
  {
   "cell_type": "code",
   "execution_count": null,
   "metadata": {
    "colab": {},
    "colab_type": "code",
    "id": "fdFBOQwUWlm7",
    "slideshow": {
     "slide_type": "subslide"
    }
   },
   "outputs": [],
   "source": [
    "def koch_0(pen, size):\n",
    "    pen.forward(size)"
   ]
  },
  {
   "cell_type": "code",
   "execution_count": null,
   "metadata": {
    "colab": {},
    "colab_type": "code",
    "id": "iIqd8mMgWpVf",
    "slideshow": {
     "slide_type": "fragment"
    }
   },
   "outputs": [],
   "source": [
    "def koch_1(pen, size):\n",
    "    for angle in [60, -120, 60, 0]:\n",
    "        koch_0(pen, size/3)\n",
    "        pen.left(angle)"
   ]
  },
  {
   "cell_type": "code",
   "execution_count": null,
   "metadata": {
    "colab": {},
    "colab_type": "code",
    "id": "8ENN-lFiWr_a",
    "slideshow": {
     "slide_type": "fragment"
    }
   },
   "outputs": [],
   "source": [
    "def koch_2(pen, size):\n",
    "    for angle in [60, -120, 60, 0]:\n",
    "        koch_1(pen, size/3)\n",
    "        pen.left(angle)"
   ]
  },
  {
   "cell_type": "code",
   "execution_count": null,
   "metadata": {
    "colab": {},
    "colab_type": "code",
    "id": "H7qqAWejWvgX",
    "slideshow": {
     "slide_type": "subslide"
    }
   },
   "outputs": [],
   "source": [
    "def koch_3(pen, size):\n",
    "    for angle in [60, -120, 60, 0]:\n",
    "        koch_2(pen, size/3)\n",
    "        pen.left(angle)"
   ]
  },
  {
   "cell_type": "code",
   "execution_count": null,
   "metadata": {
    "colab": {},
    "colab_type": "code",
    "id": "ucwiG6n9WygX",
    "slideshow": {
     "slide_type": "subslide"
    }
   },
   "outputs": [],
   "source": [
    "import turtle\n",
    "\n",
    "canvas = turtle.Screen()\n",
    "canvas.setup(800, 300)\n",
    "canvas.bgcolor(\"lightgreen\")\n",
    "\n",
    "tess = turtle.Turtle()\n",
    "tess.pencolor(\"blue\")\n",
    "tess.shape(\"circle\")\n",
    "tess.shapesize(0.1)\n",
    "\n",
    "tess.penup()\n",
    "tess.goto(-300, -100)\n",
    "tess.pendown()\n",
    "\n",
    "koch_3(tess, 600)\n",
    "\n",
    "canvas.mainloop()     # Wait for user to close window\n",
    "turtle.bye()"
   ]
  },
  {
   "cell_type": "markdown",
   "metadata": {
    "colab_type": "text",
    "id": "3TLLrrVWW8ck",
    "slideshow": {
     "slide_type": "subslide"
    }
   },
   "source": [
    "## 10.2 Recursive data structures\n",
    "\n",
    "- The organization of data for the purpose of making it easier to use\n",
    "    is called a **data structure**\n",
    "\n",
    "- Most of the Python data types we have seen can be grouped inside\n",
    "    lists and tuples in a variety of ways\n",
    "\n",
    "- Lists and tuples can also be *nested*, providing many possibilities\n",
    "    for organizing data"
   ]
  },
  {
   "cell_type": "markdown",
   "metadata": {
    "colab_type": "text",
    "id": "4nftQ5arXAYS",
    "slideshow": {
     "slide_type": "fragment"
    }
   },
   "source": [
    "- Example: A *nested number list* is a list whose elements are either:\n",
    "\n",
    "    1.  numbers\n",
    "\n",
    "    2.  nested number lists\n",
    "\n",
    "- Notice that the term, *nested number list* is used in its own\n",
    "    definition\n",
    "\n",
    "- Recursive definitions like this provide a concise and powerful way\n",
    "    to describe **recursive data structures**"
   ]
  },
  {
   "cell_type": "markdown",
   "metadata": {
    "colab_type": "text",
    "id": "YTWuqZmWXHMn",
    "slideshow": {
     "slide_type": "subslide"
    }
   },
   "source": [
    "## 10.3 Processing recursive number lists\n",
    "\n",
    "- How to process a list with nested lists?\n",
    "\n",
    "```\n",
    "  >>> sum([1, 2, 8])\n",
    "  11\n",
    "\n",
    "  >>> sum([1, 2, [11, 13], 8])\n",
    "  Traceback (most recent call last):\n",
    "    File \"<interactive input>\", line 1, in <module>\n",
    "  TypeError: unsupported operand type(s) for +: 'int' and 'list'\n",
    "  >>>\n",
    "```\n",
    "\n",
    "$\\Rightarrow$\n",
    "<https://github.com/fpro-feup/public/tree/master/lectures/13/rec_sum.py>"
   ]
  },
  {
   "cell_type": "code",
   "execution_count": null,
   "metadata": {
    "colab": {},
    "colab_type": "code",
    "id": "QbfPggFIXo3Q",
    "slideshow": {
     "slide_type": "subslide"
    }
   },
   "outputs": [],
   "source": [
    "def recursive_sum(nested_number_list):\n",
    "    \"\"\"\n",
    "    Returns the total sum of all elements in nested_number_list\n",
    "    \"\"\"\n",
    "    print(\"called with: \", nested_number_list)\n",
    "    total = 0\n",
    "    for element in nested_number_list:\n",
    "        if type(element) is list:\n",
    "            total += recursive_sum(element)\n",
    "        else:\n",
    "            total += element\n",
    "    return total"
   ]
  },
  {
   "cell_type": "code",
   "execution_count": null,
   "metadata": {
    "colab": {},
    "colab_type": "code",
    "id": "lYYDAPfTXvoh",
    "slideshow": {
     "slide_type": "fragment"
    }
   },
   "outputs": [],
   "source": [
    "print(recursive_sum([1, 2, [11, 13], 8]))"
   ]
  },
  {
   "cell_type": "markdown",
   "metadata": {
    "colab_type": "text",
    "id": "xwCDCGV96ggf",
    "slideshow": {
     "slide_type": "fragment"
    }
   },
   "source": [
    "Where's the *base case* in the code?"
   ]
  },
  {
   "cell_type": "markdown",
   "metadata": {
    "colab_type": "text",
    "id": "AZzwOi6PX6q_",
    "slideshow": {
     "slide_type": "subslide"
    }
   },
   "source": [
    "## Infinite Recursion\n",
    "\n",
    "```\n",
    "  def recursion_depth(number):\n",
    "      print(\"{0}, \".format(number), end=\"\")\n",
    "      recursion_depth(number + 1)\n",
    "\n",
    "  recursion_depth(0)\n",
    "...\n",
    "    [Previous line repeated 995 more times]\n",
    "    File \"infinite_recursion.py\", line 13, in recursion_depth\n",
    "    print(\"{0}, \".format(number), end=\"\")\n",
    "  RecursionError: maximum recursion depth exceeded ...\n",
    "```\n",
    "\n",
    "$\\Rightarrow$\n",
    "<https://github.com/fpro-feup/public/tree/master/lectures/13/infinite_recursion.py>"
   ]
  },
  {
   "cell_type": "code",
   "execution_count": null,
   "metadata": {
    "colab": {},
    "colab_type": "code",
    "id": "Xc0qGYhOYxcH",
    "slideshow": {
     "slide_type": "subslide"
    }
   },
   "outputs": [],
   "source": [
    "def recursion_depth(number):\n",
    "    print(\"{0}, \".format(number), end=\"\")\n",
    "    recursion_depth(number + 1)\n",
    "\n",
    "recursion_depth(0)"
   ]
  },
  {
   "cell_type": "markdown",
   "metadata": {
    "colab_type": "text",
    "id": "xG_3Ulh0Y_S6",
    "slideshow": {
     "slide_type": "subslide"
    }
   },
   "source": [
    "## 10.4 Case study: Fibonacci numbers\n",
    "\n",
    "- Fibonacci sequence `0, 1, 1, 2, 3, 5, 8, 13, 21, 34, 55, 89, 134`,\n",
    "    ...\n"
   ]
  },
  {
   "cell_type": "markdown",
   "metadata": {
    "colab_type": "text",
    "id": "H45DSsPcvkom",
    "slideshow": {
     "slide_type": "fragment"
    }
   },
   "source": [
    "\n",
    "- The sequence was devised by Fibonacci (1170-1250) who used this to model the\n",
    "    breeding of (pairs) of rabbits [[wiki]](https://en.wikipedia.org/wiki/Fibonacci_number)\n",
    "\n",
    "    - If, in generation 7 you had 21 pairs in total, of which 13 were\n",
    "        adults, then next generation the adults will all have bred new\n",
    "        children, and the previous children will have grown up to become\n",
    "        adults. So in generation 8 you'll have 13+21=34, of which 21 are\n",
    "        adults.\n"
   ]
  },
  {
   "cell_type": "markdown",
   "metadata": {
    "colab_type": "text",
    "id": "QLhqrxR2voH_",
    "slideshow": {
     "slide_type": "subslide"
    }
   },
   "source": [
    "\n",
    "```\n",
    "fib(0) = 0\n",
    "fib(1) = 1\n",
    "fib(n) = fib(n-1) + fib(n-2)  # for n >= 2\n",
    "```\n",
    "\n",
    "$\\Rightarrow$\n",
    "<https://github.com/fpro-feup/public/tree/master/lectures/13/fib.py>"
   ]
  },
  {
   "cell_type": "code",
   "execution_count": null,
   "metadata": {
    "colab": {},
    "colab_type": "code",
    "id": "QYzN0s9waQOz",
    "slideshow": {
     "slide_type": "subslide"
    }
   },
   "outputs": [],
   "source": [
    "# This is a particularly inefficient algorithm, and this could be solved\n",
    "# far more efficient iteratively or using memoisation\n",
    "def fib(n):\n",
    "    if n <= 1:\n",
    "        return n\n",
    "    t = fib(n-1) + fib(n-2)\n",
    "    return t"
   ]
  },
  {
   "cell_type": "code",
   "execution_count": null,
   "metadata": {
    "colab": {},
    "colab_type": "code",
    "id": "hhSYFPDZadXs",
    "slideshow": {
     "slide_type": "subslide"
    }
   },
   "outputs": [],
   "source": [
    "import time\n",
    "\n",
    "def computing(n):\n",
    "    print(\"Computing... \", end=\"\", flush=True)\n",
    "    t0 = time.perf_counter()\n",
    "    result = fib(n)\n",
    "    t1 = time.perf_counter()\n",
    "    print()\n",
    "    print(\"fib({0}) = {1}, ({2:.2f} secs)\".format(n, result, t1-t0))"
   ]
  },
  {
   "cell_type": "code",
   "execution_count": null,
   "metadata": {
    "colab": {},
    "colab_type": "code",
    "id": "5JPkzm7qdTla",
    "scrolled": true,
    "slideshow": {
     "slide_type": "subslide"
    }
   },
   "outputs": [],
   "source": [
    "nn = [10, 20, 30, 35, 40]\n",
    "for n in nn:\n",
    "    computing(n)"
   ]
  },
  {
   "cell_type": "markdown",
   "metadata": {
    "colab_type": "text",
    "id": "H4w7_2VY_NnD",
    "slideshow": {
     "slide_type": "subslide"
    }
   },
   "source": [
    "## 10.5 Example with recursive directories and file"
   ]
  },
  {
   "cell_type": "markdown",
   "metadata": {
    "colab_type": "text",
    "id": "p7sCpU4ydow1",
    "slideshow": {
     "slide_type": "subslide"
    }
   },
   "source": [
    "### Recursive directories and files\n",
    "\n",
    "- Let's do a program that lists the contents of a directory and all\n",
    "    its sub-directories\n",
    "\n",
    "- First we need `get_dirlist(path)`\n",
    "\n",
    "$\\Rightarrow$\n",
    "<https://github.com/fpro-feup/public/tree/master/lectures/13/dirs.py>"
   ]
  },
  {
   "cell_type": "code",
   "execution_count": null,
   "metadata": {
    "colab": {},
    "colab_type": "code",
    "id": "HKGMkTdneAcc",
    "slideshow": {
     "slide_type": "subslide"
    }
   },
   "outputs": [],
   "source": [
    "import os\n",
    "\n",
    "def get_dirlist(path):\n",
    "    \"\"\"\n",
    "      Return a sorted list of all entries in path.\n",
    "      This returns just the names, not the full path to the names.\n",
    "    \"\"\"\n",
    "    dirlist = os.listdir(path)\n",
    "    dirlist.sort()\n",
    "    return dirlist"
   ]
  },
  {
   "cell_type": "code",
   "execution_count": null,
   "metadata": {
    "colab": {},
    "colab_type": "code",
    "id": "oy8mmJyneLmI",
    "slideshow": {
     "slide_type": "subslide"
    }
   },
   "outputs": [],
   "source": [
    "def print_files(path, prefix = \"\"):\n",
    "    \"\"\" Print recursive listing of contents of path \"\"\"\n",
    "    if prefix == \"\":  # Detect outermost call, print a heading\n",
    "        print(\"Folder listing for\", path)\n",
    "        prefix = \"| \"\n",
    "\n",
    "    dirlist = get_dirlist(path)\n",
    "    for f in dirlist:\n",
    "        print(prefix + f)                  # Print the line\n",
    "        fullname = os.path.join(path, f)   # Turn name into full pathname\n",
    "        if os.path.isdir(fullname):        # If a directory, recurse.\n",
    "            print_files(fullname, prefix + \"| \")"
   ]
  },
  {
   "cell_type": "code",
   "execution_count": null,
   "metadata": {
    "colab": {},
    "colab_type": "code",
    "id": "bwuUaxtNeRGY",
    "slideshow": {
     "slide_type": "subslide"
    }
   },
   "outputs": [],
   "source": [
    "print()\n",
    "print_files(\".\")"
   ]
  },
  {
   "cell_type": "markdown",
   "metadata": {
    "colab_type": "text",
    "id": "4M2tTNC0evRz",
    "slideshow": {
     "slide_type": "subslide"
    }
   },
   "source": [
    "## 10.7 Mutual Recursion\n",
    "\n",
    "- In addition to a function calling just itself, it is also possible\n",
    "    to make *multiple functions that call each other*\n",
    "\n",
    "- This is rarely really usefull, but it can be used to make *state\n",
    "    machines*\n",
    "\n",
    "- In mathematics, a Hofstadter<sup>3</sup> sequence is a member of a family of \n",
    "    related integer sequences defined by non-linear recurrence relations\n",
    "\n",
    "- The *Hofstadter Female and Male sequences*:\n",
    "\n",
    "```\n",
    "  F ( 0 ) = 1\n",
    "  M ( 0 ) = 0 \n",
    "  F ( n ) = n - M ( F ( n - 1 ) ), n > 0 \n",
    "  M ( n ) = n - F ( M ( n - 1 ) ), n > 0\n",
    "```\n",
    "\n",
    "<sup>3</sup>  Douglas Richard Hofstadter, *Gödel, Escher and Bach: An Eternal Golden Braid*, 1979\n",
    "\n",
    "$\\Rightarrow$\n",
    "<https://github.com/fpro-feup/public/tree/master/lectures/13/hofstadter.py>"
   ]
  },
  {
   "cell_type": "code",
   "execution_count": null,
   "metadata": {
    "colab": {},
    "colab_type": "code",
    "id": "4gFH-h10e2co",
    "slideshow": {
     "slide_type": "subslide"
    }
   },
   "outputs": [],
   "source": [
    "# Female function\n",
    "def h_female(n):\n",
    "    if n < 0:\n",
    "        return\n",
    "    else:\n",
    "        return 1 if n == 0 else (n - h_male(h_female(n-1)))"
   ]
  },
  {
   "cell_type": "code",
   "execution_count": null,
   "metadata": {
    "colab": {},
    "colab_type": "code",
    "id": "fsi7jqyXe5dp",
    "slideshow": {
     "slide_type": "subslide"
    }
   },
   "outputs": [],
   "source": [
    "# Male function\n",
    "def h_male(n):\n",
    "    if n < 0:\n",
    "        return\n",
    "    else:\n",
    "        return 0 if n == 0 else (n - h_female(h_male(n-1)))"
   ]
  },
  {
   "cell_type": "code",
   "execution_count": null,
   "metadata": {
    "colab": {},
    "colab_type": "code",
    "id": "JkiOzPAde8AF",
    "slideshow": {
     "slide_type": "subslide"
    }
   },
   "outputs": [],
   "source": [
    "# Driver code\n",
    "print(\"F:\", end=\" \")\n",
    "for i in range(20):\n",
    "    print(h_female(i), end=\" \")\n",
    "print()\n",
    "print(\"M:\", end=\" \")\n",
    "for i in range(20):\n",
    "    print(h_male(i), end=\" \")\n",
    "print()"
   ]
  },
  {
   "cell_type": "markdown",
   "metadata": {
    "colab_type": "text",
    "id": "Zz-UtV8ORH_t",
    "slideshow": {
     "slide_type": "slide"
    }
   },
   "source": [
    "# Ticket to leave"
   ]
  },
  {
   "cell_type": "markdown",
   "metadata": {
    "colab_type": "text",
    "id": "C-hchAExRRVh",
    "slideshow": {
     "slide_type": "subslide"
    }
   },
   "source": [
    "## Moodle activity\n",
    "\n",
    "[LE13: Recursion](https://moodle.up.pt/course/view.php?id=1738#section-1)"
   ]
  },
  {
   "cell_type": "markdown",
   "metadata": {
    "colab_type": "text",
    "id": "uV1OP6ahRYne",
    "slideshow": {
     "slide_type": "skip"
    }
   },
   "source": [
    "\n",
    "$\\Rightarrow$ \n",
    "[Go back to the Table of Contents](00-contents.ipynb)\n",
    "\n",
    "$\\Rightarrow$ \n",
    "[Read the Preface](00-preface.ipynb)"
   ]
  }
 ],
 "metadata": {
  "celltoolbar": "Slideshow",
  "colab": {
   "collapsed_sections": [
    "Zz-UtV8ORH_t"
   ],
   "name": "13-recursion.ipynb",
   "private_outputs": true,
   "provenance": [],
   "toc_visible": true
  },
  "kernelspec": {
   "display_name": "Python 3",
   "language": "python",
   "name": "python3"
  },
  "language_info": {
   "codemirror_mode": {
    "name": "ipython",
    "version": 3
   },
   "file_extension": ".py",
   "mimetype": "text/x-python",
   "name": "python",
   "nbconvert_exporter": "python",
   "pygments_lexer": "ipython3",
   "version": "3.8.5"
  },
  "rise": {
   "enable_chalkboard": true
  }
 },
 "nbformat": 4,
 "nbformat_minor": 1
}
