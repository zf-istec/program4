{
 "cells": [
  {
   "cell_type": "markdown",
   "metadata": {
    "colab_type": "text",
    "id": "GzSCPtLAiSVL",
    "slideshow": {
     "slide_type": "slide"
    }
   },
   "source": [
    "# Introduction & The way of the program"
   ]
  },
  {
   "cell_type": "markdown",
   "metadata": {
    "colab_type": "text",
    "id": "w7857I20jvwB",
    "slideshow": {
     "slide_type": "subslide"
    }
   },
   "source": [
    "## Goals\n",
    "\n",
    "\n",
    "By the end of this class, the student should be able to:\n",
    "\n",
    "- Describe the goals, methods and assessment of the Unit \n",
    "- Describe introductory concepts on Problem solving, Algorithms and Programming Languages \n",
    "- Describe the concepts of program, errors and debugging"
   ]
  },
  {
   "cell_type": "markdown",
   "metadata": {
    "colab_type": "text",
    "id": "LcIbekB4uK5-",
    "slideshow": {
     "slide_type": "subslide"
    }
   },
   "source": [
    "## Bibliography\n",
    "\n",
    "\n",
    "* Peter Wentworth, Jeffrey Elkner, Allen B. Downey, and Chris Meyers, *How to Think Like a Computer Scientist — Learning with Python 3* (Chapter 1)\n",
    "[[PDF April 2020](https://media.readthedocs.org/pdf/howtothink/latest/howtothink.pdf)] \n",
    "[[HTML](http://openbookproject.net/thinkcs/python/english3e/)]\n",
    "\n"
   ]
  },
  {
   "cell_type": "markdown",
   "metadata": {
    "colab_type": "text",
    "id": "32DKGwBZmktU",
    "slideshow": {
     "slide_type": "subslide"
    }
   },
   "source": [
    "## Unit Goals\n",
    "\n",
    "> The global aim of this Unit is to give the student the ability to \n",
    "create algorithms, and to use a programming language to implement, \n",
    "test, and debug algorithms for solving simple problems. "
   ]
  },
  {
   "cell_type": "markdown",
   "metadata": {
    "colab_type": "text",
    "id": "32DKGwBZmktU",
    "slideshow": {
     "slide_type": "fragment"
    }
   },
   "source": [
    "> The student will be able to understand and use the fundamental\n",
    "programming constructs, and the Functional approach to\n",
    "programming, specifically effect-free programming where function\n",
    "calls have no side-effects and variables are immutable, and\n",
    "contrast it with the Imperative approach. \n"
   ]
  },
  {
   "cell_type": "markdown",
   "metadata": {
    "colab_type": "text",
    "id": "JqdyvF0wm9Xl",
    "slideshow": {
     "slide_type": "subslide"
    }
   },
   "source": [
    "## Bibliography\n",
    "\n",
    "\n",
    "* Peter Wentworth, Jeffrey Elkner, Allen B. Downey, and Chris Meyers, _How to Think Like a Computer Scientist — Learning with Python 3_\n",
    "[[PDF](https://media.readthedocs.org/pdf/howtothink/latest/howtothink.pdf)] \n",
    "[[HTML](http://openbookproject.net/thinkcs/python/english3e/)]"
   ]
  },
  {
   "cell_type": "markdown",
   "metadata": {
    "colab_type": "text",
    "id": "JqdyvF0wm9Xl",
    "slideshow": {
     "slide_type": "fragment"
    }
   },
   "source": [
    "and more:\n",
    "\n",
    "* David Mertz, _Functional Programming in Python_\n",
    "[[PDF](http://www.devlang.com/static/s17/cse294/functional-prog-in-python.pdf)]\n",
    "* Brad Miller and David Ranum, _Learning with Python: Interactive Edition_ \n",
    "[[HTML](https://runestone.academy/runestone/books/published/thinkcspy/index.html)]\n",
    "* Steven F. Lott, _Building Skills in Python - A Programmer's Introduction to Python_ \n",
    "[[HTML](http://interactivepython.org/runestone/static/CS152f17/index.html)]\n",
    "* Ernesto Costa, _Programação em Python – Fundamentos e Resolução de Problemas_ \n",
    "[[Library](http://catalogo.up.pt/F/-?func=find-b&local_base=FEUP&find_code=SYS&request=000585384)]"
   ]
  },
  {
   "cell_type": "markdown",
   "metadata": {
    "colab_type": "text",
    "id": "tW_J7AXyvihB",
    "slideshow": {
     "slide_type": "slide"
    }
   },
   "source": [
    "# Computers, Algorithms and Programs\n"
   ]
  },
  {
   "cell_type": "markdown",
   "metadata": {
    "colab_type": "text",
    "id": "SkWLiSnxv6vD",
    "slideshow": {
     "slide_type": "subslide"
    }
   },
   "source": [
    "## Computer Scientists\n",
    "\n",
    "\n",
    "- Like **mathematicians**, computer scientists use formal languages to denote ideas (specifically computations). \n",
    "\n",
    "- Like **engineers**, they design things, assembling components into systems and evaluating tradeoffs among alternatives. \n",
    "\n",
    "- Like **scientists**, they observe the behavior of complex systems, form hypotheses, and test predictions.\n",
    "    "
   ]
  },
  {
   "cell_type": "markdown",
   "metadata": {
    "colab_type": "text",
    "id": "3MHNy0jmv-nt",
    "slideshow": {
     "slide_type": "subslide"
    }
   },
   "source": [
    "## Computational thinking\n",
    "\n",
    "\n",
    "![Computational thinking](images/01/comp-thinking.png)\n",
    "\n",
    "$\\Rightarrow$ \n",
    "[BBC, Bitsize, Introduction to computational thinking](https://www.bbc.com/bitesize/guides/zp92mp3/revision/1)"
   ]
  },
  {
   "cell_type": "markdown",
   "metadata": {
    "colab_type": "text",
    "id": "4rp6P30kvxtU",
    "slideshow": {
     "slide_type": "subslide"
    }
   },
   "source": [
    "## Problem solving\n",
    "\n",
    "\n",
    "The single most important skill for a computer scientist is **problem solving**.\n",
    "\n",
    "* Problem solving means the ability to formulate problems, think creatively about solutions, and express a solution clearly and accurately\n",
    "\n",
    "* The process of learning to program is an excellent opportunity to practice problem-solving skills.\n",
    "\n"
   ]
  },
  {
   "cell_type": "markdown",
   "metadata": {
    "colab_type": "text",
    "id": "hv3EiREtzX9z",
    "slideshow": {
     "slide_type": "subslide"
    }
   },
   "source": [
    "## Algorithm\n",
    "\n",
    "If problem solving is a central part of computer science, then the solutions that you create through the problem solving process are also important. \n",
    "In computer science, we refer to these solutions as algorithms.\n",
    "\n",
    "| A set of specific steps for solving a category of problems\n",
    "\n",
    "| **steps + flow + stop decision**"
   ]
  },
  {
   "cell_type": "markdown",
   "metadata": {
    "colab_type": "text",
    "id": "dJSvRzc_zsqw",
    "slideshow": {
     "slide_type": "subslide"
    }
   },
   "source": [
    "## The computer architecture\n",
    "\n",
    "\n",
    "![The von neumann architecture](images/01/vnarch.png)\n",
    "\n",
    "$\\Rightarrow$ \n",
    "https://www.computerscience.gcse.guru/theory/von-neumann-architecture"
   ]
  },
  {
   "cell_type": "markdown",
   "metadata": {
    "colab_type": "text",
    "id": "skAwoFxG0TBE",
    "slideshow": {
     "slide_type": "subslide"
    }
   },
   "source": [
    "## High-level languages\n",
    "\n",
    "- Low-level languages (machine languages or assembly languages),\n",
    "    are the only languages a computer executes; \n",
    "    \n",
    "- Thus, programs written in a high-level language have to be\n",
    "    translated into something *more suitable* before they can run;\n",
    "    \n",
    "- Python is an example of a high-level language; \n",
    "\n",
    "- Other high-level languages you might have heard of are C++,\n",
    "    JavaScript, PHP, Pascal, C# or Java.\n",
    "    \n",
    " "
   ]
  },
  {
   "cell_type": "markdown",
   "metadata": {
    "colab_type": "text",
    "id": "hiwgjkBw0pDm",
    "slideshow": {
     "slide_type": "subslide"
    }
   },
   "source": [
    "## Python Interpreter\n",
    "\n",
    "\n",
    "There are two ways to use it: \n",
    "\n",
    "- In *immediate mode* (or *Shell mode*), you type Python expressions into the Python\n",
    "    Interpreter window, and the interpreter immediately shows the result;\n",
    "\n",
    "- In *script mode* (or *program mode*), you can write a program in a file and use the\n",
    "    interpreter to execute the contents of the file.\n",
    "\n",
    "![Interpreter](images/01/interpreter.png)\n",
    "\n",
    "$\\Rightarrow$ \n",
    "[runestone.academy](https://runestone.academy/runestone/books/published/thinkcspy/GeneralIntro/ThePythonProgrammingLanguage.html)\n",
    "\n",
    "\n",
    "$\\Rightarrow$ \n",
    "[Spyder3 IDE](https://www.spyder-ide.org)"
   ]
  },
  {
   "cell_type": "code",
   "execution_count": null,
   "metadata": {
    "colab": {},
    "colab_type": "code",
    "id": "5d4gVzvr50fC",
    "slideshow": {
     "slide_type": "fragment"
    }
   },
   "outputs": [],
   "source": [
    "6 + 3"
   ]
  },
  {
   "cell_type": "markdown",
   "metadata": {
    "colab_type": "text",
    "id": "x7U4vcrm5IWq",
    "slideshow": {
     "slide_type": "subslide"
    }
   },
   "source": [
    "### Compilers\n",
    "\n",
    "\n",
    "Note that some languages are compiled (e.g. C++)\n",
    "\n",
    "![compiler](images/01/compiler.png)\n",
    "\n",
    "$\\Rightarrow$ \n",
    "[https://runestone.academy/runestone/books/published/thinkcspy/GeneralIntro/ThePythonProgrammingLanguage.html]\n"
   ]
  },
  {
   "cell_type": "markdown",
   "metadata": {
    "colab_type": "text",
    "id": "w2FffcLZ59Eg",
    "slideshow": {
     "slide_type": "subslide"
    }
   },
   "source": [
    "### Virtual machines\n",
    "\n",
    "\n",
    "- Many modern languages use both processes\n",
    "  * They are first compiled into a lower level language, called **byte code**, \n",
    "  * and then interpreted by a program called a virtual machine\n",
    "- Python uses both processes, but because of the way programmers interact with it, it is usually considered an interpreted language\n"
   ]
  },
  {
   "cell_type": "markdown",
   "metadata": {
    "colab_type": "text",
    "id": "b0Nbon_Z1Z6y",
    "slideshow": {
     "slide_type": "slide"
    }
   },
   "source": [
    "# The way of the program"
   ]
  },
  {
   "cell_type": "markdown",
   "metadata": {
    "colab_type": "text",
    "id": "Eo3uP8Je1eoT",
    "slideshow": {
     "slide_type": "subslide"
    }
   },
   "source": [
    "## Python\n",
    "\n",
    "- Python is everywhere and is quite popular among data scientists and startups.\n",
    "\n",
    "- Python has the added benefit of being a clean and simple syntax with massive community run library (NumPy, Pandas, SciPy, etc.).\n",
    "\n",
    "- Later, there's lots you can do with Python:\n",
    "  * Web Development\n",
    "  * Scientific and Numeric Computing\n",
    "  * Machine Learning (neural networks)\n",
    "  * Chat bots\n",
    "  * Automate the boring stuff\n",
    "  * Write your own games\n",
    "- FPRO's YouTube channel: \n",
    "[FPRO's past projects](https://www.youtube.com/channel/UC_RySrYRMcxfdvRwHMTwCug/videos)"
   ]
  },
  {
   "cell_type": "markdown",
   "metadata": {
    "colab_type": "text",
    "id": "5xA_YCQK8nHp",
    "slideshow": {
     "slide_type": "skip"
    }
   },
   "source": [
    "Watch one of the videos:"
   ]
  },
  {
   "cell_type": "code",
   "execution_count": null,
   "metadata": {
    "colab": {},
    "colab_type": "code",
    "id": "Goh2MQct6HHC",
    "slideshow": {
     "slide_type": "skip"
    }
   },
   "outputs": [],
   "source": [
    "from IPython.display import YouTubeVideo\n",
    "YouTubeVideo('5Db6WDhePrM')"
   ]
  },
  {
   "cell_type": "markdown",
   "metadata": {
    "colab_type": "text",
    "id": "WE_n05hV5wG-",
    "slideshow": {
     "slide_type": "subslide"
    }
   },
   "source": [
    "Execute an example of Python code:"
   ]
  },
  {
   "cell_type": "code",
   "execution_count": null,
   "metadata": {
    "colab": {},
    "colab_type": "code",
    "id": "62hKQ1Au4YKu",
    "slideshow": {
     "slide_type": "fragment"
    }
   },
   "outputs": [],
   "source": [
    "#!/usr/bin/env python3\n",
    "# https://github.com/fpro-feup/public/blob/master/lectures/01/basics.py\n",
    "\n",
    "import datetime\n",
    "now = datetime.datetime.now()\n",
    "\n",
    "print()\n",
    "print(\"Current date and time using str method of datetime object:\")\n",
    "print()\n",
    "print(str(now))\n",
    "\n",
    "print()\n",
    "print(\"Current date and time using instance attributes:\")\n",
    "print()\n",
    "print(\"Current year: %d\" % now.year)\n",
    "print(\"Current month: %d\" % now.month)\n",
    "print(\"Current day: %d\" % now.day)\n",
    "print(\"Current hour: %d\" % now.hour)\n",
    "print(\"Current minute: %d\" % now.minute)\n",
    "print(\"Current second: %d\" % now.second)\n",
    "print(\"Current microsecond: %d\" % now.microsecond)\n",
    "\n",
    "print()\n",
    "print(\"Current date and time using strftime:\")\n",
    "print(now.strftime(\"%Y-%m-%d %H:%M\"))"
   ]
  },
  {
   "cell_type": "markdown",
   "metadata": {
    "colab_type": "text",
    "id": "QB3dx-Jo3L80",
    "slideshow": {
     "slide_type": "subslide"
    }
   },
   "source": [
    "## 1.1 The Python programming language\n",
    "\n",
    "\n",
    "- Python is an interpreted high-level programming language for\n",
    "    general-purpose programming\n",
    "\n",
    "- Created by Guido van Rossum and first released in 1991\n",
    "\n",
    "- Python has a design philosophy that emphasizes code\n",
    "    readability, notably using significant whitespace.\n",
    "\n",
    "- It provides constructs that enable clear programming on both\n",
    "    small and large scales\n",
    "\n",
    "- Python features a dynamic type system and automatic memory\n",
    "    management\n",
    "\n",
    "- It supports multiple programming paradigms, including\n",
    "    imperative, functional, procedural and object-oriented\n",
    "- It has a large and comprehensive standard library\n"
   ]
  },
  {
   "cell_type": "markdown",
   "metadata": {
    "colab_type": "text",
    "id": "YNKNDIZm3rTg",
    "slideshow": {
     "slide_type": "subslide"
    }
   },
   "source": [
    "## 1.2 What is a program?\n",
    "\n",
    "\n",
    "- A program is a sequence of instructions that specifies how to\n",
    "    perform a computation\n",
    "\n",
    "- A few basic instructions appear in just about every language:\n",
    "\n",
    "  * **input**: Get data from the keyboard, a file, or some other\n",
    "      device (such as a sensor) \n",
    "\n",
    "  * **output**: Display data on the screen or send data to a file\n",
    "      or other device (such as a motor)\n",
    "\n",
    "  * **math**: Perform basic mathematical operations like addition\n",
    "      and multiplication \n",
    "\n",
    "  * **conditional execution**: Check for certain conditions and\n",
    "      execute the appropriate sequence of statements \n",
    "\n",
    "  * **repetition**: Perform some action repeatedly, usually with\n",
    "      some variation "
   ]
  },
  {
   "cell_type": "markdown",
   "metadata": {
    "colab_type": "text",
    "id": "jKUvASixvNfg",
    "slideshow": {
     "slide_type": "subslide"
    }
   },
   "source": [
    "## 1.3 What is debugging?\n",
    "\n",
    "\n",
    "  - Programming is a complex process, and because it is done by\n",
    "      human beings, it often leads to errors \n",
    "  - Programming errors are called **bugs** and the process of\n",
    "      tracking them down and correcting them is called **debugging**. \n",
    "  \n",
    "![ADA bug](images/01/ada-bug.png)\n",
    "\n",
    "$\\Rightarrow$ \n",
    "https://en.wikipedia.org/wiki/Software_bug\n"
   ]
  },
  {
   "cell_type": "markdown",
   "metadata": {
    "colab_type": "text",
    "id": "xNfLlqe_cYy4",
    "slideshow": {
     "slide_type": "subslide"
    }
   },
   "source": [
    "## 1.4 Syntax errors\n",
    "\n",
    "\n",
    "- Syntax refers to the structure of a program and the rules\n",
    "    about that structure \n",
    "- For example, in English, a sentence must begin with a capital\n",
    "    letter and end with a period \n",
    "- Python can only execute a program if the program is\n",
    "    syntactically correct; otherwise, the process fails and returns an\n",
    "    error message\n"
   ]
  },
  {
   "cell_type": "markdown",
   "metadata": {
    "colab_type": "text",
    "id": "rz4rzaiMcmCN",
    "slideshow": {
     "slide_type": "subslide"
    }
   },
   "source": [
    "## 1.5 Runtime errors\n",
    "\n",
    "\n",
    "- A runtime error does not appear until you run the program. \n",
    "\n",
    "- These errors are also called **exceptions** because they\n",
    "    usually indicate that something exceptional (and bad) has\n",
    "    happened. \n"
   ]
  },
  {
   "cell_type": "code",
   "execution_count": null,
   "metadata": {
    "colab": {},
    "colab_type": "code",
    "id": "UR_WJNON7Z7M",
    "slideshow": {
     "slide_type": "fragment"
    }
   },
   "outputs": [],
   "source": [
    "50 / 0"
   ]
  },
  {
   "cell_type": "markdown",
   "metadata": {
    "colab_type": "text",
    "id": "wm4T9P103Anp",
    "slideshow": {
     "slide_type": "fragment"
    }
   },
   "source": [
    "\n",
    "$\\Rightarrow$ \n",
    "[Understanding the Python Traceback](https://realpython.com/python-traceback/)\n",
    "\n",
    "\n",
    "Using Spyder3, note the differences between *edit* and *run* environments\n"
   ]
  },
  {
   "cell_type": "markdown",
   "metadata": {
    "colab_type": "text",
    "id": "6b95q5fvcxau",
    "slideshow": {
     "slide_type": "subslide"
    }
   },
   "source": [
    "## 1.6 Semantic errors\n",
    "\n",
    "\n",
    "- With a semantic error in your program, it will run\n",
    "    successfully, but it will not do the right thing \n",
    "- The problem is that the program you wrote is not the program\n",
    "    you intended to write \n",
    "- The meaning of the program (its *semantics*) is wrong\n"
   ]
  },
  {
   "cell_type": "markdown",
   "metadata": {
    "colab_type": "text",
    "id": "b70SdT4jc_UF",
    "slideshow": {
     "slide_type": "subslide"
    }
   },
   "source": [
    "## 1.7 Experimental debugging\n",
    "\n",
    "\n",
    "- One of the most important skills you will acquire is\n",
    "    debugging. \n",
    "- Although it can be frustrating, debugging is one of the most\n",
    "    intellectually rich, challenging, and interesting parts of\n",
    "    programming. \n",
    "- In some ways, debugging is like detective work (clues, inference, ...)\n",
    "- Debugging is also like an experimental science\n"
   ]
  },
  {
   "cell_type": "markdown",
   "metadata": {
    "colab_type": "text",
    "id": "KjYzadtqd0fe",
    "slideshow": {
     "slide_type": "subslide"
    }
   },
   "source": [
    "## 1.8 Formal and natural languages\n",
    "\n",
    "\n",
    "- **Natural languages** are the languages that people\n",
    "    speak, such as English\n",
    "- **Formal languages** are languages that are designed by\n",
    "    people for specific applications\n",
    "  - For example, the math notation  is a formal language that is\n",
    "    particularly good at denoting relationships among numbers and\n",
    "    symbols\n",
    "\n",
    "> **Programming languages are formal languages\n",
    "    designed to express computations.**\n",
    "\n",
    "- Syntax rules: *tokens* & structure\n",
    "- *Parsing* a statement is needed to determine its structure\n",
    "  "
   ]
  },
  {
   "cell_type": "markdown",
   "metadata": {
    "colab_type": "text",
    "id": "LMZMGgdXgG7E",
    "slideshow": {
     "slide_type": "subslide"
    }
   },
   "source": [
    "## 1.9 A Typical First Program (with bonus)\n",
    "\n",
    "$\\Rightarrow$ \n",
    "https://github.com/zf-istec/program4/blob/master/lectures/01/hello.py\n",
    "\n",
    "```python\n",
    "``` "
   ]
  },
  {
   "cell_type": "code",
   "execution_count": null,
   "metadata": {
    "colab": {},
    "colab_type": "code",
    "id": "UjOcCn3m35vk",
    "slideshow": {
     "slide_type": "fragment"
    }
   },
   "outputs": [],
   "source": [
    "\n",
    "greeting = \"Hello\"  # my first variable\n",
    "\n",
    "# to comment MANY lines at a time, highlight all of them then CTRL+ -\n",
    "\n",
    "whoami = \"zafeiris\"\n",
    "greeting = greeting + \" \" + whoami\n",
    "print(\"\\n\" + greeting + \"!\")#\n",
    "\n",
    "# Spyder/Pycharm can autocomplete names for you.\n",
    "# Start typing a variable name defined in your program and hit tab \n",
    "\n",
    "# define a variable\n",
    "a_very_long_variable_name_dont_name_them_this_long_pls = 0\n",
    "\n",
    "# below, start typing a_ve then hit <tab>... cool, right!\n"
   ]
  },
  {
   "cell_type": "markdown",
   "metadata": {
    "colab_type": "text",
    "id": "V5xQ9hZkghFJ",
    "slideshow": {
     "slide_type": "subslide"
    }
   },
   "source": [
    "## 1.10 Comments\n",
    "\n",
    "\n",
    "- A comment in a computer program is text that is intended only\n",
    "    for the human reader\n",
    "- It is completely ignored by the interpreter\n",
    "\n",
    "\n",
    "```python\n",
    "#---------------------------------------------------\n",
    "# This demo program shows off how elegant Python is!\n",
    "# Written by John Snow, December 2015.\n",
    "#---------------------------------------------------\n",
    "\n",
    "print(\"Hello, World!\")  # Isn't this easy!\n",
    "```"
   ]
  },
  {
   "cell_type": "markdown",
   "metadata": {
    "slideshow": {
     "slide_type": "fragment"
    }
   },
   "source": [
    "You may try it next:"
   ]
  },
  {
   "cell_type": "code",
   "execution_count": null,
   "metadata": {
    "colab": {},
    "colab_type": "code",
    "id": "hG2_76SY4LiJ",
    "slideshow": {
     "slide_type": "fragment"
    }
   },
   "outputs": [],
   "source": [
    "print(\"Hello, World!\")  # Isn't this easy!"
   ]
  },
  {
   "cell_type": "markdown",
   "metadata": {
    "slideshow": {
     "slide_type": "subslide"
    }
   },
   "source": [
    "## 1.11 The Zen of Python"
   ]
  },
  {
   "cell_type": "code",
   "execution_count": null,
   "metadata": {
    "slideshow": {
     "slide_type": "fragment"
    }
   },
   "outputs": [],
   "source": [
    "import this"
   ]
  },
  {
   "cell_type": "markdown",
   "metadata": {
    "slideshow": {
     "slide_type": "subslide"
    }
   },
   "source": [
    "### Looking forward\n",
    "\n",
    "For the future, by the end of the course, you may do things like this:"
   ]
  },
  {
   "cell_type": "code",
   "execution_count": null,
   "metadata": {
    "slideshow": {
     "slide_type": "fragment"
    }
   },
   "outputs": [],
   "source": [
    "#!pip install --upgrade beautifulsoup4\n",
    "from bs4 import BeautifulSoup\n",
    "import requests\n",
    "\n",
    "documentURL = 'https://www.w3.org/People/Raggett/book4/ch02.html'\n",
    "\n",
    "html = requests.get(documentURL).text\n",
    "soup = BeautifulSoup(html, 'html.parser')\n",
    "\n",
    "print(soup.get_text())"
   ]
  },
  {
   "cell_type": "code",
   "execution_count": null,
   "metadata": {},
   "outputs": [],
   "source": []
  }
 ],
 "metadata": {
  "celltoolbar": "None",
  "colab": {
   "collapsed_sections": [],
   "name": "01-introduction.ipynb",
   "private_outputs": true,
   "provenance": [],
   "toc_visible": true
  },
  "kernelspec": {
   "display_name": "Python 3 (ipykernel)",
   "language": "python",
   "name": "python3"
  },
  "language_info": {
   "codemirror_mode": {
    "name": "ipython",
    "version": 3
   },
   "file_extension": ".py",
   "mimetype": "text/x-python",
   "name": "python",
   "nbconvert_exporter": "python",
   "pygments_lexer": "ipython3",
   "version": "3.9.7"
  },
  "rise": {
   "enable_chalkboard": true
  }
 },
 "nbformat": 4,
 "nbformat_minor": 4
}
