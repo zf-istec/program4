{
 "cells": [
  {
   "cell_type": "markdown",
   "metadata": {
    "colab_type": "text",
    "id": "8z5cONg8rUrX",
    "slideshow": {
     "slide_type": "slide"
    }
   },
   "source": [
    "# Program development\n",
    "\n",
    "## Programming Fundamentals (NB22)\n",
    "\n",
    "### MIEIC/2020-21\n",
    "\n",
    "#### João Correia Lopes\n",
    "\n",
    "INESC TEC, FEUP"
   ]
  },
  {
   "cell_type": "markdown",
   "metadata": {
    "colab_type": "text",
    "id": "MZzE7pYorju5",
    "slideshow": {
     "slide_type": "subslide"
    }
   },
   "source": [
    "## Goals\n",
    "\n",
    "By the end of this class, the student should be able to:\n",
    "\n",
    "- Describe and perform (simple) unit testing\n",
    "- Describe the use of the function `main()`\n",
    "- Describe the use of global variables\n",
    "- Describe the use of *type hints* for static type checking"
   ]
  },
  {
   "cell_type": "markdown",
   "metadata": {
    "colab_type": "text",
    "id": "eR5Lh1jNroE2",
    "slideshow": {
     "slide_type": "subslide"
    }
   },
   "source": [
    "## Bibliography\n",
    "\n",
    "- Brad Miller and David Ranum, Learning with Python: Interactive Edition. Based on material by Jeffrey Elkner, Allen B. Downey, and Chris Meyers (Section 6.3 and Section 6.8)\n",
    "[[HTML]](https://runestone.academy/runestone/books/published/thinkcspy/Functions/toctree.html)\n",
    "- Peter Wentworth, Jeffrey Elkner, Allen B. Downey, and Chris Meyers, How to Think Like a Computer Scientist — Learning with Python 3 (RLE), 2012 (Section 6.7)\n",
    "[[HTML]](http://openbookproject.net/thinkcs/python/english3e/fruitful_functions.html#unit-testing)\n",
    "- Peter Wentworth, Jeffrey Elkner, Allen B. Downey, and Chris Meyers, How to Think Like a Computer Scientist — Learning with Python 3, Release 3rd Edition (Section 4.18)\n",
    "[[PDF]](https://media.readthedocs.org/pdf/howtothink/latest/howtothink.pdf)\n",
    "- Geir Arne Hjelle, Python Type Checking (Guide), Real Python, 2019\n",
    "[[HTML]](https://realpython.com/python-type-checking/)"
   ]
  },
  {
   "cell_type": "markdown",
   "metadata": {
    "colab_type": "text",
    "id": "w0BW5uIiBj3e",
    "slideshow": {
     "slide_type": "slide"
    }
   },
   "source": [
    "# Program development"
   ]
  },
  {
   "cell_type": "markdown",
   "metadata": {
    "colab_type": "text",
    "id": "x8j-scQTBmBb",
    "slideshow": {
     "slide_type": "slide"
    }
   },
   "source": [
    "## Unit testing [6.7]"
   ]
  },
  {
   "cell_type": "markdown",
   "metadata": {
    "colab_type": "text",
    "id": "2GlFTmIfF4CE",
    "slideshow": {
     "slide_type": "subslide"
    }
   },
   "source": [
    "### Unit testing\n",
    "\n",
    "- It is a common best practice in software development to include\n",
    "    automatic `unit testing` of source code\n",
    "\n",
    "- Unit testing provides a way to automatically verify that individual\n",
    "    pieces of code, such as functions, are working properly\n",
    "\n",
    "- This makes it possible to change the implementation of a function at\n",
    "    a later time and quickly test that it still does what it was\n",
    "    intended to do\n",
    "\n",
    "- Unit testing also forces the programmer to think about the different\n",
    "    cases that the function needs to handle\n",
    "\n",
    "- Extra code in your program which is there because it makes debugging\n",
    "    or testing easier is called *scaffolding*\n",
    "\n",
    "- A collection of tests for some code is called its *test suite*\n"
   ]
  },
  {
   "cell_type": "markdown",
   "metadata": {
    "colab_type": "text",
    "id": "7CJnCLIOF7xd",
    "slideshow": {
     "slide_type": "subslide"
    }
   },
   "source": [
    "### Unit tests\n",
    "\n",
    "- At this stage we are going to ignore what the Python community\n",
    "    usually does, and code two simple functions ourselves\n",
    "\n",
    "- Then we'll use these for writing our *unit tests*\n",
    "\n",
    "- ... and we'll apply a *test suit* to `absolute_value()`\n",
    "\n",
    "- First we plan our tests (think carefully about the \"edge\" cases):\n",
    "\n",
    "    1.  argument is negative\n",
    "    2.  argument is positive\n",
    "    3.  argument is zero\n",
    "\n",
    "$\\Rightarrow$\n",
    "<https://github.com/fpro-feup/public/tree/master/lectures/22/tests.py>"
   ]
  },
  {
   "cell_type": "markdown",
   "metadata": {
    "colab_type": "text",
    "id": "BUIbSh6TGIxW",
    "slideshow": {
     "slide_type": "subslide"
    }
   },
   "source": [
    "### Helper function\n",
    "\n",
    "- We're going to write a *helper function* for checking the\n",
    "results of one test.\n"
   ]
  },
  {
   "cell_type": "code",
   "execution_count": null,
   "metadata": {
    "colab": {},
    "colab_type": "code",
    "id": "0n1wCPU-MSMl",
    "slideshow": {
     "slide_type": "fragment"
    }
   },
   "outputs": [],
   "source": [
    "import sys\n",
    "\n",
    "def test(did_pass):\n",
    "    \"\"\"  Print the result of a test. \"\"\"\n",
    "    linenum = sys._getframe(1).f_lineno  # the caller's line number\n",
    "    if did_pass:\n",
    "        msg = f\"Test at line {linenum} ok.\"\n",
    "    else:\n",
    "        msg = f\"Test at line {linenum} FAILED.\"\n",
    "    print(msg) "
   ]
  },
  {
   "cell_type": "markdown",
   "metadata": {
    "colab_type": "text",
    "id": "BuA44JmLGuSY",
    "slideshow": {
     "slide_type": "subslide"
    }
   },
   "source": [
    "- and an `absolute_value(n)` buggy version:"
   ]
  },
  {
   "cell_type": "code",
   "execution_count": null,
   "metadata": {
    "colab": {},
    "colab_type": "code",
    "id": "KkEEDnRpMIM3",
    "slideshow": {
     "slide_type": "fragment"
    }
   },
   "outputs": [],
   "source": [
    "def absolute_value(n):   # Buggy version\n",
    "    \"\"\" Compute the absolute value of n. \"\"\"\n",
    "    if n < 0:\n",
    "        return -n\n",
    "    elif n > 0:\n",
    "        return n"
   ]
  },
  {
   "cell_type": "markdown",
   "metadata": {
    "colab_type": "text",
    "id": "cSvNKsdPGisg",
    "slideshow": {
     "slide_type": "subslide"
    }
   },
   "source": [
    "### Test suit\n",
    "\n",
    "- With the *helper function* written, we can proceed to\n",
    "construct our *test suite*:"
   ]
  },
  {
   "cell_type": "code",
   "execution_count": null,
   "metadata": {
    "colab": {},
    "colab_type": "code",
    "id": "gA_ECFTPNUoH",
    "slideshow": {
     "slide_type": "fragment"
    }
   },
   "outputs": [],
   "source": [
    "def test_suite():\n",
    "    \"\"\" Run the suite of tests for code in this module (this file). \"\"\"\n",
    "    test(absolute_value(17) == 17)\n",
    "    test(absolute_value(-17) == 17)\n",
    "    test(absolute_value(0) == 0)\n",
    "    test(absolute_value(3.14) == 3.14)\n",
    "    test(absolute_value(-3.14) == 3.14)"
   ]
  },
  {
   "cell_type": "markdown",
   "metadata": {
    "colab_type": "text",
    "id": "30TeST37NXU5",
    "slideshow": {
     "slide_type": "subslide"
    }
   },
   "source": [
    "Run our *test suit*, correct the bug and run it again."
   ]
  },
  {
   "cell_type": "code",
   "execution_count": null,
   "metadata": {
    "colab": {},
    "colab_type": "code",
    "id": "gnPyzuB3Ng0z",
    "slideshow": {
     "slide_type": "fragment"
    }
   },
   "outputs": [],
   "source": [
    "test_suite()        # Here is the call to run the tests"
   ]
  },
  {
   "cell_type": "markdown",
   "metadata": {
    "colab_type": "text",
    "id": "NBBLLOBhG0o0",
    "slideshow": {
     "slide_type": "subslide"
    }
   },
   "source": [
    "## Using a `main()` Function\n",
    "\n",
    "- Using functions is a good idea!\n",
    "\n",
    "- It helps us to modularize our code by breaking a program into\n",
    "    logical parts where each part is responsible for a specific task\n",
    "\n",
    "- For example, remember the function called `draw_square()` that was\n",
    "    responsible for having some turtle draw a square of some size\n",
    "\n",
    "- The actual turtle and the actual size of the square were defined to\n",
    "    be provided as parameters\n",
    "\n",
    "- These final five statements of the program perform the main\n",
    "    processing that the program will do\n",
    "\n",
    "$\\Rightarrow$\n",
    "<https://github.com/fpro-feup/public/tree/master/lectures/22/mainproc.py>"
   ]
  },
  {
   "cell_type": "markdown",
   "metadata": {
    "colab_type": "text",
    "id": "Q0Qxf-yUPCtb",
    "slideshow": {
     "slide_type": "subslide"
    }
   },
   "source": [
    "Turtles again!"
   ]
  },
  {
   "cell_type": "code",
   "execution_count": null,
   "metadata": {
    "colab": {},
    "colab_type": "code",
    "id": "I_SLYAgxPLXB",
    "slideshow": {
     "slide_type": "fragment"
    }
   },
   "outputs": [],
   "source": [
    "def draw_square(t, sz):\n",
    "    \"\"\" Make turtle t draw a square of with side sz. \"\"\"\n",
    "    for i in range(4):\n",
    "        t.forward(sz)\n",
    "        t.left(90)"
   ]
  },
  {
   "cell_type": "markdown",
   "metadata": {
    "colab_type": "text",
    "id": "ycy3xeLwPQ79",
    "slideshow": {
     "slide_type": "subslide"
    }
   },
   "source": [
    "Without using `main()`:"
   ]
  },
  {
   "cell_type": "code",
   "execution_count": null,
   "metadata": {
    "colab": {},
    "colab_type": "code",
    "id": "XRNo85_zPYuM",
    "slideshow": {
     "slide_type": "fragment"
    }
   },
   "outputs": [],
   "source": [
    "import turtle\n",
    "\n",
    "wn = turtle.Screen()          # Set up the window and its attributes\n",
    "wn.bgcolor(\"lightgreen\")\n",
    "\n",
    "alex = turtle.Turtle()        # Create alex\n",
    "draw_square(alex, 50)         # Call the function to draw the square\n",
    "\n",
    "#canvas.mainloop()             # Wait for user to close window\n",
    "wn.exitonclick()"
   ]
  },
  {
   "cell_type": "markdown",
   "metadata": {
    "colab_type": "text",
    "id": "IJ9H99TZPfeM",
    "slideshow": {
     "slide_type": "subslide"
    }
   },
   "source": [
    "Using `main()`:"
   ]
  },
  {
   "cell_type": "code",
   "execution_count": null,
   "metadata": {
    "colab": {},
    "colab_type": "code",
    "id": "nuEGdnjnPlJi",
    "slideshow": {
     "slide_type": "fragment"
    }
   },
   "outputs": [],
   "source": [
    "def main():                     # Define the main function\n",
    "    wn = turtle.Screen()        # Set up the window and its attributes\n",
    "    wn.bgcolor(\"lightgreen\")\n",
    "\n",
    "    alex = turtle.Turtle()      # Create alex\n",
    "    draw_square(alex, 50)       # Call the function to draw the square\n",
    "\n",
    "    wn.exitonclick()\n",
    "\n",
    "main()                          # Invoke the main function"
   ]
  },
  {
   "cell_type": "markdown",
   "metadata": {
    "colab_type": "text",
    "id": "lujsZof0G9D6",
    "slideshow": {
     "slide_type": "subslide"
    }
   },
   "source": [
    "### Program Structure\n",
    "\n",
    "- Now our **program structure** is as follows:\n",
    "\n",
    "    1. import any modules that will be required\n",
    "\n",
    "    2. define any functions that will be needed\n",
    "\n",
    "    3. define a main function that will get the process started\n",
    "\n",
    "    4. invoke the main function (which will in turn call\n",
    "        the other functions as needed)\n",
    "\n",
    "- In Python there is nothing special about the name `main`<sup>1</sup>\n",
    "\n",
    "<sup>1</sup> We could have called this function anything we wanted, but chose\n",
    "    `main` just to be consistent with some of the other languages"
   ]
  },
  {
   "cell_type": "markdown",
   "metadata": {
    "colab_type": "text",
    "id": "DMu_sfV1HV3e",
    "slideshow": {
     "slide_type": "subslide"
    }
   },
   "source": [
    "### Advanced Topic\n",
    "\n",
    "- Before the Python interpreter executes your program, it defines a\n",
    "    few special variables\n",
    "\n",
    "- One of those variables is called `__name__` (as previously seen)\n",
    "\n",
    "- ... and it is automatically set to the string value `\"__main__\"` when\n",
    "    the program is being executed by itself in a standalone fashion\n",
    "\n",
    "- On the other hand, if the program is being imported by another\n",
    "    program, then the `\"__name__\"` variable is set to the name of that\n",
    "    module\n",
    "\n",
    "- This ability to conditionally execute our main function can be\n",
    "    extremely useful when we are writing code that will potentially be\n",
    "    used by others\n",
    "\n",
    "- For example, if we've a collection of functions to do some simple\n",
    "    math module... (as seen elsewhere)\n",
    "\n",
    "$\\Rightarrow$\n",
    "<https://github.com/fpro-feup/public/tree/master/lectures/21/mymath.py>\\\n",
    "$\\Rightarrow$\n",
    "<https://github.com/fpro-feup/public/tree/master/lectures/21/import.py>"
   ]
  },
  {
   "cell_type": "markdown",
   "metadata": {
    "colab_type": "text",
    "id": "ELUftHyFH-Vl",
    "slideshow": {
     "slide_type": "subslide"
    }
   },
   "source": [
    "### The `__main__` (recap)\n",
    "\n",
    "```\n",
    "  #!/usr/bin/python3\n",
    "  # Filename: using_name.py\n",
    " \n",
    "  if __name__ == \"__main__\":\n",
    "      print(\"This program is being run by itself\")\n",
    "  else:\n",
    "      print(\"I am being imported from another module\")\n",
    "```\n"
   ]
  },
  {
   "cell_type": "markdown",
   "metadata": {
    "colab_type": "text",
    "id": "7u-ZwDtOIPWu",
    "slideshow": {
     "slide_type": "subslide"
    }
   },
   "source": [
    "## Global variables\n",
    "\n",
    "- Variables are local, UNLESS we make use of variables that are **global**<sup>2</sup>\n",
    "\n",
    "```\n",
    "   sz = 2\n",
    "   def h2(tess):\n",
    "       \"\"\" Draw the next step of a spiral on each call. \"\"\"\n",
    "       global sz\n",
    "       tess.right(42)\n",
    "       tess.forward(sz)\n",
    "       sz += 1\n",
    "```\n",
    "\n",
    " - Each time we call `h2()` it turns, draws, and increases the global\n",
    "variable `sz`\n",
    "\n",
    "<sup>2</sup> It's generally considered bad practice to use global variables.\n",
    "  Functions should be as self-contained as possible (**without side-effects**)."
   ]
  },
  {
   "cell_type": "markdown",
   "metadata": {
    "colab_type": "text",
    "id": "YFqXUhUBUYFm",
    "slideshow": {
     "slide_type": "subslide"
    }
   },
   "source": [
    "- Run and fix the use of a global variable in the `spiral.py` program\n",
    "\n",
    "$\\Rightarrow$\n",
    "<https://github.com/fpro-feup/public/tree/master/lectures/22/spiral.py>"
   ]
  },
  {
   "cell_type": "markdown",
   "metadata": {
    "colab_type": "text",
    "id": "vtnAZmuQBvqV",
    "slideshow": {
     "slide_type": "slide"
    }
   },
   "source": [
    "## Tips & tricks (summary)"
   ]
  },
  {
   "cell_type": "markdown",
   "metadata": {
    "colab_type": "text",
    "id": "woaOmFbiJFtm",
    "slideshow": {
     "slide_type": "subslide"
    }
   },
   "source": [
    "### Tip: `None` is not a string\n",
    "\n",
    "- Values like `None`, `True` and `False` are not strings: they are\n",
    "    special values in Python\n",
    "\n",
    "- Keywords are special in the language: they are part of the syntax\n",
    "\n",
    "- So we cannot create our own variable or function with a name `True`\n",
    "    --- we'll get a syntax error\n",
    "\n",
    "- Built-in functions are not privileged like keywords: we can define\n",
    "    our own variable or function called `len` (but we'd be silly to do\n",
    "    so!)"
   ]
  },
  {
   "cell_type": "markdown",
   "metadata": {
    "colab_type": "text",
    "id": "KIUb4gHDJigx",
    "slideshow": {
     "slide_type": "subslide"
    }
   },
   "source": [
    "### Tip: Understand what the function needs to return\n",
    "\n",
    "- Perhaps functions return nothing\n",
    "\n",
    "    - some functions exists purely to perform actions, rather than to\n",
    "        calculate and return a result (*procedures*)\n",
    "\n",
    "- But if the function should return a value\n",
    "\n",
    "    - make sure all execution paths do return the value"
   ]
  },
  {
   "cell_type": "markdown",
   "metadata": {
    "colab_type": "text",
    "id": "pJ05mX7bJnYI",
    "slideshow": {
     "slide_type": "subslide"
    }
   },
   "source": [
    "### Tip: Use parameters to generalize functions\n",
    "\n",
    "- Understand which parts of the function will be hard-coded and\n",
    "    unchangeable, and\n",
    "\n",
    "- which parts should become parameters so that they can be customized\n",
    "    by the caller of the function"
   ]
  },
  {
   "cell_type": "markdown",
   "metadata": {
    "colab_type": "text",
    "id": "NIw2hk1UJuYD",
    "slideshow": {
     "slide_type": "subslide"
    }
   },
   "source": [
    "### Tip: Try to relate Python functions to ideas we already know\n",
    "\n",
    "- In math, we're familiar with functions like `f(x) = 3x + 5`\n",
    "\n",
    "- We already understand that when we call the function `f(3)` we make\n",
    "    some association between the parameter `x` and the argument `3`\n",
    "\n",
    "- Try to draw parallels to argument passing in Python"
   ]
  },
  {
   "cell_type": "markdown",
   "metadata": {
    "colab_type": "text",
    "id": "ATUKWxaUJyRP",
    "slideshow": {
     "slide_type": "subslide"
    }
   },
   "source": [
    "### Tip: Think about the return conditions of the function\n",
    "\n",
    "- Do I need to look at all elements in all cases?\n",
    "\n",
    "- Can I shortcut and take an early exit?\n",
    "\n",
    "- Under what conditions?\n",
    "\n",
    "- When will I have to examine all the items in the list?\n",
    "\n",
    "$\\Rightarrow$\n",
    "<https://github.com/fpro-feup/public/tree/master/lectures/22/anyodd.py>"
   ]
  },
  {
   "cell_type": "markdown",
   "metadata": {
    "colab_type": "text",
    "id": "M5FhwT6Lz975",
    "slideshow": {
     "slide_type": "subslide"
    }
   },
   "source": [
    "See what is wrong with the buggy fuction `any_odd()` and fix it."
   ]
  },
  {
   "cell_type": "code",
   "execution_count": null,
   "metadata": {
    "colab": {},
    "colab_type": "code",
    "id": "ww8hVFrH0L_I",
    "slideshow": {
     "slide_type": "fragment"
    }
   },
   "outputs": [],
   "source": [
    "def any_odd(xs): # Buggy version\n",
    "    \"\"\" Return True if there is an odd number in xs, a list of integers. \"\"\"\n",
    "    for v in xs:\n",
    "        if v % 2 == 1:\n",
    "            return True\n",
    "    return False"
   ]
  },
  {
   "cell_type": "code",
   "execution_count": null,
   "metadata": {
    "colab": {},
    "colab_type": "code",
    "id": "YVVCl-D40QBH",
    "slideshow": {
     "slide_type": "fragment"
    }
   },
   "outputs": [],
   "source": [
    "print(any_odd([2, 3]))"
   ]
  },
  {
   "cell_type": "markdown",
   "metadata": {
    "colab_type": "text",
    "id": "9GCvc9zrJ3c2",
    "slideshow": {
     "slide_type": "subslide"
    }
   },
   "source": [
    "### Tip: Generalize your use of Booleans\n",
    "\n",
    "- Mature programmers won't write `if is_prime(n) == True:`\n",
    " \n",
    "    - when they could say instead `if is_prime(n):`\n",
    "\n",
    "- Like arithmetic expressions, booleans have their own set of\n",
    "    operators (`and`, `or`, `not`) and values (`True`, `False`) and can\n",
    "    be assigned to variables, put into lists, etc.\n",
    "    \n",
    "    - Instead of `if is_prime(n) == False:`\n",
    "    \n",
    "    - It is much better to write `if not is_prime(n):`"
   ]
  },
  {
   "cell_type": "markdown",
   "metadata": {
    "colab_type": "text",
    "id": "3T7RRhylJ7RI",
    "slideshow": {
     "slide_type": "subslide"
    }
   },
   "source": [
    "### Local variables\n",
    "\n",
    "- Tip: Local variables do not survive when you exit the function\n",
    "\n",
    "- Tip: Assignment in a function creates a local variable\n",
    "\n",
    "> As soon as the function returns (whether from an explicit return\n",
    "statement or because Python reached the last statement), the *stackframe*\n",
    "and its local variables are all destroyed."
   ]
  },
  {
   "cell_type": "markdown",
   "metadata": {
    "colab_type": "text",
    "id": "UJbgctPOlNPC",
    "slideshow": {
     "slide_type": "slide"
    }
   },
   "source": [
    "# Type checking"
   ]
  },
  {
   "cell_type": "markdown",
   "metadata": {
    "colab_type": "text",
    "id": "Um6gjqCo_72I",
    "slideshow": {
     "slide_type": "subslide"
    }
   },
   "source": [
    "### Dynamic Typing\n",
    "\n",
    "- Python is a dynamically typed language\n",
    "\n",
    "- This means that the Python interpreter does type checking only as code runs, and that the type of a variable is allowed to change over its lifetime\n",
    "\n",
    "$\\Rightarrow$\n",
    "[Python Type Checking (Guide)](https://realpython.com/python-type-checking/)"
   ]
  },
  {
   "cell_type": "markdown",
   "metadata": {
    "colab_type": "text",
    "id": "aqQ8zheRg-rR",
    "slideshow": {
     "slide_type": "subslide"
    }
   },
   "source": [
    "The following dummy examples demonstrate that Python has dynamic typing:"
   ]
  },
  {
   "cell_type": "code",
   "execution_count": null,
   "metadata": {
    "colab": {},
    "colab_type": "code",
    "id": "q6YbpnOvhBog",
    "slideshow": {
     "slide_type": "fragment"
    }
   },
   "outputs": [],
   "source": [
    "if False:\n",
    "    print(1 + \"two\") # This line never runs, so no TypeError is raised\n",
    "else:\n",
    "    print(1 + 2)"
   ]
  },
  {
   "cell_type": "code",
   "execution_count": null,
   "metadata": {
    "colab": {},
    "colab_type": "code",
    "id": "1Y-7Sw42hTeU",
    "slideshow": {
     "slide_type": "fragment"
    }
   },
   "outputs": [],
   "source": [
    "1 + \"two\"  # Now this is type checked, and a TypeError is raised"
   ]
  },
  {
   "cell_type": "markdown",
   "metadata": {
    "colab_type": "text",
    "id": "dYOKY1w31wCi",
    "slideshow": {
     "slide_type": "subslide"
    }
   },
   "source": [
    "Let’s see if variables can change type:"
   ]
  },
  {
   "cell_type": "code",
   "execution_count": null,
   "metadata": {
    "colab": {},
    "colab_type": "code",
    "id": "KizrhIn1hoQ8",
    "slideshow": {
     "slide_type": "fragment"
    }
   },
   "outputs": [],
   "source": [
    "thing = \"Hello\"\n",
    "print(type(thing))"
   ]
  },
  {
   "cell_type": "code",
   "execution_count": null,
   "metadata": {
    "colab": {},
    "colab_type": "code",
    "id": "UQVXExcehtd-",
    "slideshow": {
     "slide_type": "fragment"
    }
   },
   "outputs": [],
   "source": [
    "thing = 28.4\n",
    "print(type(thing))"
   ]
  },
  {
   "cell_type": "markdown",
   "metadata": {
    "colab_type": "text",
    "id": "x9DIG-0iinyT",
    "slideshow": {
     "slide_type": "subslide"
    }
   },
   "source": [
    "### Static type checking and type hints\n",
    "\n",
    "- [PEP 484](https://www.python.org/dev/peps/pep-0484/) defined how to add **type hints** to your Python code, based off work that Jukka Lehtosalo (Mypy)\n",
    "\n",
    "  - no type checking happens at runtime\n",
    "  \n",
    "  - Instead, the proposal assumes the existence of a separate off-line type checker which users can run over their source code voluntarily\n",
    "\n",
    "  - You might already have such a type checker built into your IDE may\n",
    "  \n",
    "  - But the most common tool for doing type checking is [Mypy](http://mypy-lang.org/)\n",
    "\n",
    "- The main way to add type hints is using annotations"
   ]
  },
  {
   "cell_type": "markdown",
   "metadata": {
    "colab_type": "text",
    "id": "KWE-TkfS4Nwp",
    "slideshow": {
     "slide_type": "subslide"
    }
   },
   "source": [
    "### Type annotations\n",
    "\n",
    "- Take a function:\n",
    "\n",
    "```\n",
    "def fun(arg, optarg = 3.14):\n",
    "    ...\n",
    "```\n",
    "\n",
    "- For functions, we can annotate arguments and the return value\n",
    "\n",
    "```\n",
    "   \n",
    "def fun(arg: arg_type, optarg: arg_type = default) -> return_type:\n",
    "    ...\n",
    "```\n",
    "\n",
    "- For variables, the syntax is the same as for function argument annotations:\n",
    "\n",
    "```\n",
    "pi: float = 3.142\n",
    "```"
   ]
  },
  {
   "cell_type": "markdown",
   "metadata": {
    "colab_type": "text",
    "id": "XNugRIGg4d7N",
    "slideshow": {
     "slide_type": "subslide"
    }
   },
   "source": [
    "You can see the annotations are available at runtime."
   ]
  },
  {
   "cell_type": "code",
   "execution_count": null,
   "metadata": {
    "colab": {},
    "colab_type": "code",
    "id": "QgZ0o-a1jyTF",
    "slideshow": {
     "slide_type": "fragment"
    }
   },
   "outputs": [],
   "source": [
    "import math\n",
    " \n",
    "def circumference(radius: float) -> float:\n",
    "    return 2 * math.pi * radius"
   ]
  },
  {
   "cell_type": "code",
   "execution_count": null,
   "metadata": {
    "colab": {},
    "colab_type": "code",
    "id": "K3y8WP6lj6eE",
    "slideshow": {
     "slide_type": "fragment"
    }
   },
   "outputs": [],
   "source": [
    "circumference(1.23)"
   ]
  },
  {
   "cell_type": "code",
   "execution_count": null,
   "metadata": {
    "colab": {},
    "colab_type": "code",
    "id": "0E-9acFdj8gu",
    "slideshow": {
     "slide_type": "fragment"
    }
   },
   "outputs": [],
   "source": [
    "circumference.__annotations__"
   ]
  },
  {
   "cell_type": "code",
   "execution_count": null,
   "metadata": {
    "colab": {},
    "colab_type": "code",
    "id": "p5InIguam0fN",
    "slideshow": {
     "slide_type": "subslide"
    }
   },
   "outputs": [],
   "source": [
    "circumference(3142)  # there's no runtime error?"
   ]
  },
  {
   "cell_type": "code",
   "execution_count": null,
   "metadata": {
    "slideshow": {
     "slide_type": "subslide"
    }
   },
   "outputs": [],
   "source": [
    "pi: float = 3.142\n",
    "\n",
    "def circumference(radius: float) -> float:\n",
    "    return 2 * pi * radius"
   ]
  },
  {
   "cell_type": "code",
   "execution_count": null,
   "metadata": {
    "slideshow": {
     "slide_type": "fragment"
    }
   },
   "outputs": [],
   "source": [
    "circumference(1.23)"
   ]
  },
  {
   "cell_type": "markdown",
   "metadata": {
    "slideshow": {
     "slide_type": "subslide"
    }
   },
   "source": [
    "Let's use `mypy` (outside Jupyter!) to sptot a (semantic) error:"
   ]
  },
  {
   "cell_type": "code",
   "execution_count": null,
   "metadata": {
    "slideshow": {
     "slide_type": "fragment"
    }
   },
   "outputs": [],
   "source": [
    "# headlines.py\n",
    "\n",
    "def headline(text: str, align: bool = True) -> str:\n",
    "    if align:\n",
    "        return f\"{text.title()}\\n{'-' * len(text)}\"\n",
    "    else:\n",
    "        return f\" {text.title()} \".center(50, \"o\")\n",
    "\n",
    "print(headline(\"python type checking\"))\n",
    "print(headline(\"use mypy\", align=\"center\"))"
   ]
  },
  {
   "cell_type": "markdown",
   "metadata": {
    "colab_type": "text",
    "id": "STzWIvoQkKsx",
    "slideshow": {
     "slide_type": "subslide"
    }
   },
   "source": [
    "# Play Some Cards\n",
    "\n",
    "Let’s implement a card game example. \n",
    "\n",
    "> We deal a hand of cards to each player. \\\n",
    "> Then a start player is chosen and the players take turns playing their cards.\\\n",
    "> There are not really any rules in the game though, so the players will just play random cards.\n",
    "\n",
    "$\\Rightarrow$ \n",
    "<https://github.com/fpro-feup/public/tree/master/lectures/22/cards.py>"
   ]
  },
  {
   "cell_type": "markdown",
   "metadata": {
    "slideshow": {
     "slide_type": "subslide"
    }
   },
   "source": [
    "First the imports, the constants and the types:"
   ]
  },
  {
   "cell_type": "code",
   "execution_count": null,
   "metadata": {
    "slideshow": {
     "slide_type": "fragment"
    }
   },
   "outputs": [],
   "source": [
    "# cards.py\n",
    "\n",
    "import random\n",
    "from typing import List, Tuple\n",
    "\n",
    "SUITS = \"♠ ♡ ♢ ♣\".split()\n",
    "RANKS = \"2 3 4 5 6 7 8 9 10 J Q K A\".split()\n",
    "\n",
    "Card = Tuple[str, str]\n",
    "Deck = List[Card]"
   ]
  },
  {
   "cell_type": "markdown",
   "metadata": {
    "slideshow": {
     "slide_type": "subslide"
    }
   },
   "source": [
    "Create the deck of cards and deal hands:"
   ]
  },
  {
   "cell_type": "code",
   "execution_count": null,
   "metadata": {
    "slideshow": {
     "slide_type": "fragment"
    }
   },
   "outputs": [],
   "source": [
    "def create_deck(shuffle: bool = False) -> Deck:\n",
    "    \"\"\"Create a new deck of 52 cards\"\"\"\n",
    "    deck = [(s, r) for r in RANKS for s in SUITS]\n",
    "    if shuffle:\n",
    "        random.shuffle(deck)\n",
    "    return deck\n",
    "\n",
    "def deal_hands(deck: Deck) -> Tuple[Deck, Deck, Deck, Deck]:\n",
    "    \"\"\"Deal the cards in the deck into four hands\"\"\"\n",
    "    return (deck[0::4], deck[1::4], deck[2::4], deck[3::4])"
   ]
  },
  {
   "cell_type": "markdown",
   "metadata": {
    "slideshow": {
     "slide_type": "subslide"
    }
   },
   "source": [
    "Choose a random item, without type annotations (why?)"
   ]
  },
  {
   "cell_type": "code",
   "execution_count": null,
   "metadata": {
    "slideshow": {
     "slide_type": "fragment"
    }
   },
   "outputs": [],
   "source": [
    "def choose(items):\n",
    "    \"\"\"Choose and return a random item\"\"\"\n",
    "    return random.choice(items)"
   ]
  },
  {
   "cell_type": "markdown",
   "metadata": {
    "slideshow": {
     "slide_type": "subslide"
    }
   },
   "source": [
    "The player order, without type annotations (why?)"
   ]
  },
  {
   "cell_type": "code",
   "execution_count": null,
   "metadata": {
    "slideshow": {
     "slide_type": "fragment"
    }
   },
   "outputs": [],
   "source": [
    "def player_order(names, start=None):\n",
    "    \"\"\"Rotate player order so that start goes first\"\"\"\n",
    "    if start is None:\n",
    "        start = choose(names)\n",
    "    start_idx = names.index(start)\n",
    "    return names[start_idx:] + names[:start_idx]"
   ]
  },
  {
   "cell_type": "code",
   "execution_count": null,
   "metadata": {
    "slideshow": {
     "slide_type": "subslide"
    }
   },
   "outputs": [],
   "source": [
    "Now, the main function:"
   ]
  },
  {
   "cell_type": "code",
   "execution_count": null,
   "metadata": {
    "slideshow": {
     "slide_type": "fragment"
    }
   },
   "outputs": [],
   "source": [
    "def play():\n",
    "    \"\"\"Play a 4-player card game\"\"\"\n",
    "    deck = create_deck(shuffle=True)\n",
    "    names = \"P1 P2 P3 P4\".split()\n",
    "    hands = {n: h for n, h in zip(names, deal_hands(deck))}\n",
    "    start_player = choose(names)\n",
    "    turn_order = player_order(names, start=start_player)\n",
    "\n",
    "    # Randomly play cards from each player's hand until empty\n",
    "    while hands[start_player]:\n",
    "        for name in turn_order:\n",
    "            card = choose(hands[name])\n",
    "            hands[name].remove(card)\n",
    "            print(f\"{name}: {card[0] + card[1]:<3}  \", end=\"\")\n",
    "        print()"
   ]
  },
  {
   "cell_type": "markdown",
   "metadata": {
    "slideshow": {
     "slide_type": "subslide"
    }
   },
   "source": [
    "and let us play:"
   ]
  },
  {
   "cell_type": "code",
   "execution_count": null,
   "metadata": {
    "slideshow": {
     "slide_type": "fragment"
    }
   },
   "outputs": [],
   "source": [
    "if __name__ == \"__main__\":\n",
    "    play()"
   ]
  },
  {
   "cell_type": "markdown",
   "metadata": {
    "colab_type": "text",
    "id": "DxcarRmQKNV_",
    "slideshow": {
     "slide_type": "slide"
    }
   },
   "source": [
    "# Computational Thinking (recap)"
   ]
  },
  {
   "cell_type": "markdown",
   "metadata": {
    "colab_type": "text",
    "id": "heRuz910KS9T",
    "slideshow": {
     "slide_type": "subslide"
    }
   },
   "source": [
    "### Computational thinking\n",
    "\n",
    "- Computational thinking allows us to take a complex problem, understand\n",
    "what the problem is and develop possible solutions. \n",
    "\n",
    "- We can then present these solutions in a way that a computer, a human, or both, can understand.\n",
    "\n",
    "![Comp thinking](images/22/comp-thinking.png)\n",
    "\n",
    "$\\Rightarrow$\n",
    "[BBC, Bitsize, Introduction to computational\n",
    "thinking](https://www.bbc.com/bitesize/guides/zp92mp3/revision/1)"
   ]
  },
  {
   "cell_type": "markdown",
   "metadata": {
    "colab_type": "text",
    "id": "yfdFBOX0Kl3Y",
    "slideshow": {
     "slide_type": "subslide"
    }
   },
   "source": [
    "### Computational Thinking (2)\n",
    "\n",
    "> There are four key techniques (cornerstones) to computational thinking:\n",
    "\n",
    "1. **decomposition** --- breaking down a complex problem or system into smaller, more manageable parts\n",
    "\n",
    "2. **pattern recognition** --- looking for similarities among and within problems<sup>3</sup>\n",
    "\n",
    "3. **abstraction** --- focusing on the important information only, ignoring irrelevant details<sup>4</sup>\n",
    "\n",
    "4. **algorithms**  --- developing a step-by-step solution to the problem, or the rules to follow to solve the problem\n",
    "\n",
    "<sup>3</sup>Have any of the issues we've encountered in the past had solutions\n",
    "    that could apply here?\n",
    "\n",
    "<sup>4</sup>To make solutions as general as possible."
   ]
  },
  {
   "cell_type": "markdown",
   "metadata": {
    "colab_type": "text",
    "id": "Zz-UtV8ORH_t",
    "slideshow": {
     "slide_type": "slide"
    }
   },
   "source": [
    "# Ticket to leave"
   ]
  },
  {
   "cell_type": "markdown",
   "metadata": {
    "colab_type": "text",
    "id": "C-hchAExRRVh",
    "slideshow": {
     "slide_type": "subslide"
    }
   },
   "source": [
    "## Moodle activity\n",
    "\n",
    "[LE22: Program development](https://moodle.up.pt/course/view.php?id=1738#section-1)"
   ]
  },
  {
   "cell_type": "markdown",
   "metadata": {
    "colab_type": "text",
    "id": "uV1OP6ahRYne",
    "slideshow": {
     "slide_type": "skip"
    }
   },
   "source": [
    "\n",
    "$\\Rightarrow$ \n",
    "[Go back to the Table of Contents](00-contents.ipynb)\n",
    "\n",
    "$\\Rightarrow$ \n",
    "[Read the Preface](00-preface.ipynb)"
   ]
  }
 ],
 "metadata": {
  "celltoolbar": "Slideshow",
  "colab": {
   "collapsed_sections": [
    "DxcarRmQKNV_"
   ],
   "name": "22-programs.ipynb",
   "private_outputs": true,
   "provenance": [],
   "toc_visible": true
  },
  "kernelspec": {
   "display_name": "Python 3",
   "language": "python",
   "name": "python3"
  },
  "language_info": {
   "codemirror_mode": {
    "name": "ipython",
    "version": 3
   },
   "file_extension": ".py",
   "mimetype": "text/x-python",
   "name": "python",
   "nbconvert_exporter": "python",
   "pygments_lexer": "ipython3",
   "version": "3.8.5"
  },
  "rise": {
   "enable_chalkboard": true
  }
 },
 "nbformat": 4,
 "nbformat_minor": 1
}
