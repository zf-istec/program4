{
 "cells": [
  {
   "cell_type": "markdown",
   "metadata": {
    "colab_type": "text",
    "id": "8z5cONg8rUrX",
    "slideshow": {
     "slide_type": "slide"
    }
   },
   "source": [
    "# Tuples"
   ]
  },
  {
   "cell_type": "markdown",
   "metadata": {
    "colab_type": "text",
    "id": "MZzE7pYorju5",
    "slideshow": {
     "slide_type": "subslide"
    }
   },
   "source": [
    "## Goals\n",
    "\n",
    "By the end of this class, the student should be able to:\n",
    "\n",
    "- Describe how to work with tuples\n",
    "\n",
    "- Enumerate the main methods available to work with tuples"
   ]
  },
  {
   "cell_type": "markdown",
   "metadata": {
    "colab_type": "text",
    "id": "eR5Lh1jNroE2",
    "slideshow": {
     "slide_type": "subslide"
    }
   },
   "source": [
    "## Bibliography\n",
    "\n",
    "- Peter Wentworth, Jeffrey Elkner, Allen B. Downey, and Chris Meyers, *How to Think Like a Computer Scientist — Learning with Python 3* (Section 5.2)\n",
    "\n",
    "- Brad Miller and David Ranum, Learning with Python: Interactive Edition. Based on material by Jeffrey Elkner, Allen B. Downey, and Chris Meyers (Section 10.26, Section 10.27, Section 10.28)\n"
   ]
  },
  {
   "cell_type": "markdown",
   "metadata": {
    "colab_type": "text",
    "id": "BtTUKvPBUlYl",
    "slideshow": {
     "slide_type": "slide"
    }
   },
   "source": [
    "# Data types: Tuples"
   ]
  },
  {
   "cell_type": "markdown",
   "metadata": {
    "colab_type": "text",
    "id": "NT1rxQU-Wdpe",
    "slideshow": {
     "slide_type": "subslide"
    }
   },
   "source": [
    "## 5.1.1 A compound data type (recap)\n",
    "\n",
    "- So far we have seen built-in types like `int`, `float`, `bool`,\n",
    "    `str` and we've seen lists and pairs\n",
    "\n",
    "- Strings, lists, and **tuples** are qualitatively different from the\n",
    "    others because they are made up of smaller pieces\n",
    "\n",
    "- **Tuples group any number of items, of different types, into a single\n",
    "    compound value**\n",
    "\n",
    "- Types that comprise smaller pieces are called **collections** or\n",
    "    **compound data types**\n",
    "\n",
    "- Depending on what we are doing, we may want to treat a compound data\n",
    "    type as a single thing"
   ]
  },
  {
   "cell_type": "markdown",
   "metadata": {
    "colab_type": "text",
    "id": "6nPYjl2bW2ji",
    "slideshow": {
     "slide_type": "subslide"
    }
   },
   "source": [
    "## 5.1.2 Tuples are used for grouping data\n",
    "\n",
    "- A **data structure** is a mechanism for grouping and organizing data\n",
    "    to make it easier to use\n",
    "\n",
    "- We saw earlier that we could group together pairs of values:\n",
    "\n",
    "```\n",
    "  >>> year_born = (\"Paris Hilton\", 1981)\n",
    "  \n",
    "```\n",
    "\n",
    "- The pair is an example of a **tuple**"
   ]
  },
  {
   "cell_type": "markdown",
   "metadata": {
    "colab_type": "text",
    "id": "zwy-6598W7Fk",
    "slideshow": {
     "slide_type": "fragment"
    }
   },
   "source": [
    "\n",
    "- Generalizing this, a tuple can be used to group any number of items\n",
    "    into a single compound value\n",
    "\n",
    "```\n",
    "  >>> julia = (\"Julia\", \"Roberts\", 1967, \"Duplicity\", 2009, \"Actress\", \"Atlanta, Georgia\")\n",
    "  >>> \n",
    "  >>> empty_tuple = ()\n",
    "  \n",
    "```"
   ]
  },
  {
   "cell_type": "markdown",
   "metadata": {
    "slideshow": {
     "slide_type": "skip"
    }
   },
   "source": [
    "Try the empty tuple here:"
   ]
  },
  {
   "cell_type": "code",
   "execution_count": null,
   "metadata": {
    "colab": {},
    "colab_type": "code",
    "id": "Ez712vc-xYjy",
    "slideshow": {
     "slide_type": "subslide"
    }
   },
   "outputs": [],
   "source": [
    "empty_tuple = ()\n",
    "print(type(()))\n",
    "print(empty_tuple)"
   ]
  },
  {
   "cell_type": "markdown",
   "metadata": {
    "colab_type": "text",
    "id": "gnnnpMGWXMox",
    "slideshow": {
     "slide_type": "subslide"
    }
   },
   "source": [
    "### Operations on Tuples\n",
    "\n",
    "- A tuple lets us \"chunk\" together related information and use it as a\n",
    "    single thing\n",
    "\n",
    "- Tuples support the same sequence operations as strings\n",
    "\n",
    "- The index operator selects an element from a tuple\n",
    "\n",
    "$\\Rightarrow$\n",
    "<https://github.com/zf-istec/program4/tree/master/lectures/08/tmethods.py>\n"
   ]
  },
  {
   "cell_type": "markdown",
   "metadata": {
    "colab_type": "text",
    "id": "oOBZpj6Cdf8I",
    "slideshow": {
     "slide_type": "subslide"
    }
   },
   "source": [
    "What is the output of the following?"
   ]
  },
  {
   "cell_type": "code",
   "execution_count": null,
   "metadata": {
    "colab": {},
    "colab_type": "code",
    "id": "nNJRybM1deZc",
    "slideshow": {
     "slide_type": "fragment"
    }
   },
   "outputs": [],
   "source": [
    "tup = (5, )\n",
    "print(type(tup))\n",
    "print(tup)"
   ]
  },
  {
   "cell_type": "code",
   "execution_count": null,
   "metadata": {
    "colab": {},
    "colab_type": "code",
    "id": "Iye_fIoydmeN",
    "slideshow": {
     "slide_type": "fragment"
    }
   },
   "outputs": [],
   "source": [
    "x = (5)\n",
    "print(type(x))"
   ]
  },
  {
   "cell_type": "code",
   "execution_count": null,
   "metadata": {
    "colab": {},
    "colab_type": "code",
    "id": "miQIMvuPdqBt",
    "slideshow": {
     "slide_type": "fragment"
    }
   },
   "outputs": [],
   "source": [
    "julia = (\"Julia\", \"Roberts\", 1967, \"Duplicity\", 2009, \"Actress\", \"Atlanta, Georgia\")\n",
    "print(julia)"
   ]
  },
  {
   "cell_type": "markdown",
   "metadata": {
    "colab_type": "text",
    "id": "11xtPDmHdwYF",
    "slideshow": {
     "slide_type": "subslide"
    }
   },
   "source": [
    "What about this?"
   ]
  },
  {
   "cell_type": "code",
   "execution_count": null,
   "metadata": {
    "colab": {},
    "colab_type": "code",
    "id": "fGlS9uJXdu7L",
    "slideshow": {
     "slide_type": "fragment"
    }
   },
   "outputs": [],
   "source": [
    "julia[0] = \"X\""
   ]
  },
  {
   "cell_type": "code",
   "execution_count": null,
   "metadata": {
    "colab": {},
    "colab_type": "code",
    "id": "2sCjsC21d2zE",
    "slideshow": {
     "slide_type": "fragment"
    }
   },
   "outputs": [],
   "source": [
    "julia = julia[:3] + (\"Eat Pray Love\", 2010) + julia[5:]\n",
    "print(julia)"
   ]
  },
  {
   "cell_type": "markdown",
   "metadata": {
    "colab_type": "text",
    "id": "5gLWwpvaXXGB",
    "slideshow": {
     "slide_type": "subslide"
    }
   },
   "source": [
    "## 5.2.2 Tuple assignment\n",
    "\n",
    "- Python has a very powerful tuple assignment feature\n",
    "\n",
    "- Allows a tuple of variables on the left of an assignment to be\n",
    "    assigned values from a tuple on the right of the assignment\n",
    "\n",
    "```\n",
    "  (name, surname, year_born, movie, year_movie, profession, birthplace) = julia\n",
    "  \n",
    "```\n",
    "\n",
    "$\\Rightarrow$\n",
    "<https://github.com/zf-istec/program4/tree/master/lectures/08/tassign.py>"
   ]
  },
  {
   "cell_type": "markdown",
   "metadata": {
    "colab_type": "text",
    "id": "mxOJ4d-geH3n",
    "slideshow": {
     "slide_type": "subslide"
    }
   },
   "source": [
    "### Tuple packing"
   ]
  },
  {
   "cell_type": "code",
   "execution_count": null,
   "metadata": {
    "colab": {},
    "colab_type": "code",
    "id": "XZ_4QEMzeM2A",
    "slideshow": {
     "slide_type": "fragment"
    }
   },
   "outputs": [],
   "source": [
    "bob = (\"Bob\", 19, \"CS\")\n",
    "print(bob)"
   ]
  },
  {
   "cell_type": "markdown",
   "metadata": {
    "colab_type": "text",
    "id": "ciJ_8N47ePBN",
    "slideshow": {
     "slide_type": "subslide"
    }
   },
   "source": [
    "### Tuple unpacking"
   ]
  },
  {
   "cell_type": "code",
   "execution_count": null,
   "metadata": {
    "colab": {},
    "colab_type": "code",
    "id": "7jPRJmbmeWS5",
    "slideshow": {
     "slide_type": "fragment"
    }
   },
   "outputs": [],
   "source": [
    "(name, age, studies) = bob\n",
    "print(name)\n",
    "print(age)\n",
    "print(studies)"
   ]
  },
  {
   "cell_type": "markdown",
   "metadata": {
    "colab_type": "text",
    "id": "J59bXBg53LuN",
    "slideshow": {
     "slide_type": "subslide"
    }
   },
   "source": [
    "### Swap the values of two variables"
   ]
  },
  {
   "cell_type": "code",
   "execution_count": null,
   "metadata": {
    "colab": {},
    "colab_type": "code",
    "id": "6_t1mki33CS2",
    "slideshow": {
     "slide_type": "fragment"
    }
   },
   "outputs": [],
   "source": [
    "a = \"Gin\"\n",
    "b = \"tonic\"\n",
    "temp = a\n",
    "a = b\n",
    "b = temp\n",
    "print(a + \" \" + b)"
   ]
  },
  {
   "cell_type": "markdown",
   "metadata": {
    "colab_type": "text",
    "id": "swTCvz84eh7b",
    "slideshow": {
     "slide_type": "subslide"
    }
   },
   "source": [
    "Swap without using `temp`:"
   ]
  },
  {
   "cell_type": "code",
   "execution_count": null,
   "metadata": {
    "colab": {},
    "colab_type": "code",
    "id": "zoqWHDtYen48",
    "slideshow": {
     "slide_type": "fragment"
    }
   },
   "outputs": [],
   "source": [
    "a = \"Gin\"\n",
    "b = \"tonic\"\n",
    "(a, b) = (b, a)\n",
    "print(a + \" \" + b)"
   ]
  },
  {
   "cell_type": "markdown",
   "metadata": {
    "slideshow": {
     "slide_type": "subslide"
    }
   },
   "source": [
    "What do we get here?"
   ]
  },
  {
   "cell_type": "code",
   "execution_count": null,
   "metadata": {
    "colab": {},
    "colab_type": "code",
    "id": "FHMMCOgc3hCl",
    "slideshow": {
     "slide_type": "fragment"
    }
   },
   "outputs": [],
   "source": [
    "(one, two, three, four) = (1, 2, 3)"
   ]
  },
  {
   "cell_type": "markdown",
   "metadata": {
    "colab_type": "text",
    "id": "VG-PqgT3Xcfb",
    "slideshow": {
     "slide_type": "subslide"
    }
   },
   "source": [
    "## 5.2.3 Tuples as return values\n",
    "\n",
    "- Functions can always only return a single value\n",
    "\n",
    "- By making that value a tuple, we can effectively group together as\n",
    "    many values as we like, and return them together\n",
    "\n",
    "$\\Rightarrow$\n",
    "<https://github.com/zf-istec/program4/tree/master/lectures/08/circle_stats.py>"
   ]
  },
  {
   "cell_type": "code",
   "execution_count": null,
   "metadata": {
    "colab": {},
    "colab_type": "code",
    "id": "qwkkjy3P3oHh",
    "slideshow": {
     "slide_type": "subslide"
    }
   },
   "outputs": [],
   "source": [
    "import math\n",
    "\n",
    "def circle_stats(r):\n",
    "    \"\"\" Return (circumference, area) of a circle of radius r \"\"\"\n",
    "    circumference = 2 * math.pi * r\n",
    "    area = math.pi * r * r\n",
    "    return (circumference, area)\n",
    "\n",
    "print(circle_stats(1))"
   ]
  },
  {
   "cell_type": "markdown",
   "metadata": {
    "colab_type": "text",
    "id": "7tC-I8E_Xe_D",
    "slideshow": {
     "slide_type": "subslide"
    }
   },
   "source": [
    "## 5.2.4 Composability of Data Structures\n",
    "\n",
    "- Tuples items can themselves be other tuples\n",
    "\n",
    "- Tuples may be **heterogeneous**, meaning that they can be composed\n",
    "    of elements of different type\n",
    "\n",
    "```\n",
    "  julia_more_info = ( (\"Julia\", \"Roberts\"), (8, \"October\", 1967),\n",
    "                       \"Actress\", (\"Atlanta\", \"Georgia\"),\n",
    "                       [ (\"Duplicity\", 2009),\n",
    "                         (\"Notting Hill\", 1999),\n",
    "                         (\"Pretty Woman\", 1990),\n",
    "                         (\"Erin Brockovich\", 2000),\n",
    "                         (\"Eat Pray Love\", 2010),\n",
    "                         (\"Mona Lisa Smile\", 2003),\n",
    "                         (\"Oceans Twelve\", 2004) ])\n",
    "  \n",
    "```"
   ]
  },
  {
   "cell_type": "markdown",
   "metadata": {
    "colab_type": "text",
    "id": "LjK_TkX3he5D",
    "slideshow": {
     "slide_type": "subslide"
    }
   },
   "source": [
    "## Traverse and index"
   ]
  },
  {
   "cell_type": "code",
   "execution_count": null,
   "metadata": {
    "colab": {},
    "colab_type": "code",
    "id": "Xj4z9Q69giFd",
    "slideshow": {
     "slide_type": "fragment"
    }
   },
   "outputs": [],
   "source": [
    "mps = ((\"Cleese\", \"John\"), (\"Gilliam\", \"Terry\"), (\"Idle\", \"Eric\"),\n",
    "       (\"Jones\", \"Terry\"), (\"Palin\", \"Michael\"))\n",
    "print(mps)"
   ]
  },
  {
   "cell_type": "code",
   "execution_count": null,
   "metadata": {
    "colab": {},
    "colab_type": "code",
    "id": "QiHyl0tCgtLP",
    "slideshow": {
     "slide_type": "fragment"
    }
   },
   "outputs": [],
   "source": [
    "for pair in mps:\n",
    "    print(pair[1], pair[0])"
   ]
  },
  {
   "cell_type": "code",
   "execution_count": null,
   "metadata": {
    "colab": {},
    "colab_type": "code",
    "id": "faUcNQU4hD6s",
    "slideshow": {
     "slide_type": "fragment"
    }
   },
   "outputs": [],
   "source": [
    "for i, value in enumerate(mps):\n",
    "    print(i, \":\", value[1], value[0])"
   ]
  },
  {
   "cell_type": "markdown",
   "metadata": {
    "colab_type": "text",
    "id": "BCdxe2PDbT67",
    "slideshow": {
     "slide_type": "subslide"
    }
   },
   "source": [
    "## Tuple comparison\n",
    "\n",
    "- Sequences of the same type support comparisons\n",
    "- tuples (and lists) are **compared lexicographically** by comparing corresponding elements. \n",
    "- This means that to **compare equal**, every element must compare equal and the two sequences must be of the same type and have the same length.\n",
    "\n",
    "\n",
    "```\n",
    ">>> a = (1, 2, 3)\n",
    ">>> b = (1, 2, 5)\n",
    ">>> a < b\n",
    "```"
   ]
  },
  {
   "cell_type": "markdown",
   "metadata": {
    "colab_type": "text",
    "id": "TpweoJX-dIx4",
    "slideshow": {
     "slide_type": "skip"
    }
   },
   "source": [
    "Try this:"
   ]
  },
  {
   "cell_type": "code",
   "execution_count": null,
   "metadata": {
    "colab": {},
    "colab_type": "code",
    "id": "sdIrWaZQc5Oz",
    "slideshow": {
     "slide_type": "subslide"
    }
   },
   "outputs": [],
   "source": [
    "a = (2, 1, 3)\n",
    "b = (1, 2, 5)\n",
    "a < b"
   ]
  },
  {
   "cell_type": "code",
   "execution_count": null,
   "metadata": {
    "colab": {},
    "colab_type": "code",
    "id": "4Wv_2VSndAbw",
    "slideshow": {
     "slide_type": "fragment"
    }
   },
   "outputs": [],
   "source": [
    "a = (1, 2)\n",
    "b = (1, 2, 5)\n",
    "a < b"
   ]
  },
  {
   "cell_type": "code",
   "execution_count": null,
   "metadata": {
    "colab": {},
    "colab_type": "code",
    "id": "sdsMY0CHdE49",
    "slideshow": {
     "slide_type": "fragment"
    }
   },
   "outputs": [],
   "source": [
    "a = ()\n",
    "b = (1, 2, 5)\n",
    "a < b"
   ]
  },
  {
   "cell_type": "markdown",
   "metadata": {
    "colab_type": "text",
    "id": "dKS_qPS6WRl0",
    "slideshow": {
     "slide_type": "skip"
    }
   },
   "source": [
    "## Tuple operations"
   ]
  },
  {
   "cell_type": "markdown",
   "metadata": {
    "colab_type": "text",
    "id": "Wd7sWnFcXrt_",
    "slideshow": {
     "slide_type": "subslide"
    }
   },
   "source": [
    "### Updating Tuples\n",
    "\n",
    "- Tuples are **immutable**, which means you cannot update or change the\n",
    "    values of tuple elements\n",
    "\n",
    "- You are able to take portions of existing tuples to create new\n",
    "    tuples\n",
    "\n",
    "```\n",
    "  tup1 = (12, 34.56)\n",
    "\n",
    "  # Following action is not valid for tuples\n",
    "  # tup1[0] = 100\n",
    "\n",
    "  # So let's create a new tuple as follows\n",
    "  tup1 = (100,) + tup1[1:]\n",
    "  print(tup1)\n",
    "  \n",
    "```\n",
    "\n",
    "$\\Rightarrow$\n",
    "<https://github.com/zf-istec/program4/tree/master/lectures/08/tmore.py>"
   ]
  },
  {
   "cell_type": "markdown",
   "metadata": {
    "slideshow": {
     "slide_type": "skip"
    }
   },
   "source": [
    "What do you get here?"
   ]
  },
  {
   "cell_type": "code",
   "execution_count": null,
   "metadata": {
    "colab": {},
    "colab_type": "code",
    "id": "_39IDiVA534z",
    "slideshow": {
     "slide_type": "skip"
    }
   },
   "outputs": [],
   "source": [
    "tup = (1000, 3.14159)\n",
    "print(tup)\n",
    "tup[0] = 100"
   ]
  },
  {
   "cell_type": "markdown",
   "metadata": {},
   "source": [
    "And here?"
   ]
  },
  {
   "cell_type": "code",
   "execution_count": null,
   "metadata": {
    "colab": {},
    "colab_type": "code",
    "id": "I6whDqNi6D4_",
    "slideshow": {
     "slide_type": "skip"
    }
   },
   "outputs": [],
   "source": [
    "tup = (100,) + tup[1:]\n",
    "print(tup)"
   ]
  },
  {
   "cell_type": "markdown",
   "metadata": {
    "colab_type": "text",
    "id": "QIVD81fkXyhN",
    "slideshow": {
     "slide_type": "skip"
    }
   },
   "source": [
    "### Common Sequence Operations\n",
    "\n",
    "- See the Python Standard Library for a comprehensive list of\n",
    "    operations on tuples (and other sequences)\n",
    "    \n",
    "[Common Sequence Operations](https://docs.python.org/3.7/library/stdtypes.html#common-sequence-operations)"
   ]
  },
  {
   "cell_type": "code",
   "execution_count": null,
   "metadata": {},
   "outputs": [],
   "source": []
  }
 ],
 "metadata": {
  "colab": {
   "collapsed_sections": [
    "Zz-UtV8ORH_t"
   ],
   "name": "08-tuples.ipynb",
   "private_outputs": true,
   "provenance": [],
   "toc_visible": true
  },
  "kernelspec": {
   "display_name": "Python 3 (ipykernel)",
   "language": "python",
   "name": "python3"
  },
  "language_info": {
   "codemirror_mode": {
    "name": "ipython",
    "version": 3
   },
   "file_extension": ".py",
   "mimetype": "text/x-python",
   "name": "python",
   "nbconvert_exporter": "python",
   "pygments_lexer": "ipython3",
   "version": "3.9.7"
  }
 },
 "nbformat": 4,
 "nbformat_minor": 4
}
