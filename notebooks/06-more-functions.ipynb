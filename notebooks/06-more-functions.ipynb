{
 "cells": [
  {
   "cell_type": "markdown",
   "metadata": {
    "colab_type": "text",
    "id": "8z5cONg8rUrX",
    "slideshow": {
     "slide_type": "slide"
    }
   },
   "source": [
    "# Fruitful Functions"
   ]
  },
  {
   "cell_type": "markdown",
   "metadata": {
    "colab_type": "text",
    "id": "MZzE7pYorju5",
    "slideshow": {
     "slide_type": "subslide"
    }
   },
   "source": [
    "## Goals\n",
    "\n",
    "By the end of this class, the student should be able to:\n",
    "\n",
    "\n",
    "- Identify functions that return a value (fruitful functions)\n",
    "\n",
    "- Enumerate the diverse uses of the `return` statement\n",
    "\n",
    "- Describe and use boolean functions\n",
    "\n",
    "- Describe and use incremental program development\n",
    "\n",
    "- Identify uses of function composition\n",
    "\n",
    "- Enumerate the main PEP8 rules for writing Python programs\n"
   ]
  },
  {
   "cell_type": "markdown",
   "metadata": {
    "colab_type": "text",
    "id": "eR5Lh1jNroE2",
    "slideshow": {
     "slide_type": "subslide"
    }
   },
   "source": [
    "## Bibliography\n",
    "\n",
    "- Peter Wentworth, Jeffrey Elkner, Allen B. Downey, and Chris Meyers, *How to Think Like a Computer Scientist — Learning with Python 3* (Chapter 4)\n",
    "\n",
    "- Brad Miller and David Ranum, Learning with Python: Interactive Edition. Based on material by Jeffrey Elkner, Allen B. Downey, and Chris Meyers (Chapter 6)\n"
   ]
  },
  {
   "cell_type": "markdown",
   "metadata": {
    "colab_type": "text",
    "id": "Fq_67MxDuKMM",
    "slideshow": {
     "slide_type": "slide"
    }
   },
   "source": [
    "# 4. Functions"
   ]
  },
  {
   "cell_type": "markdown",
   "metadata": {
    "colab_type": "text",
    "id": "-EAtpo6MuXQG",
    "slideshow": {
     "slide_type": "subslide"
    }
   },
   "source": [
    "## 4.10 Return values\n",
    "\n",
    "- The built-in functions we have used, such as `abs`, `pow`, `int`,\n",
    "    `max`, and `range`, have produced results\n",
    "\n",
    "- Calling each of these functions generates a value, which we usually\n",
    "    assign to a variable or use as part of an expression\n",
    "\n",
    "```\n",
    "   biggest = max(3, 7, 2, 5)\n",
    "\n",
    "   x = abs(3 - 11) + 10\n",
    "  \n",
    "```"
   ]
  },
  {
   "cell_type": "markdown",
   "metadata": {
    "colab_type": "text",
    "id": "UzeyKV2Puutb",
    "slideshow": {
     "slide_type": "skip"
    }
   },
   "source": [
    "- We are going to write more functions that return values, which we\n",
    "    will call *fruitful functions*, for want of a better name."
   ]
  },
  {
   "cell_type": "markdown",
   "metadata": {
    "colab_type": "text",
    "id": "pRqatC6fu4gK",
    "slideshow": {
     "slide_type": "subslide"
    }
   },
   "source": [
    "### The `return` Statement\n",
    "\n",
    "- In a fruitful function the return statement includes a **return\n",
    "    value**\n",
    "\n",
    "- This statement means: evaluate the return expression, and then\n",
    "    return it immediately as the result (the fruit) of this function\n"
   ]
  },
  {
   "cell_type": "code",
   "execution_count": null,
   "metadata": {
    "colab": {},
    "colab_type": "code",
    "id": "gAsKwnpPvLfu",
    "slideshow": {
     "slide_type": "fragment"
    }
   },
   "outputs": [],
   "source": [
    "def area(radius):\n",
    "    \"\"\"returns the area of a circle with the given radius.\"\"\"\n",
    "    fruit = 3.14159 * radius ** 2\n",
    "    return fruit\n",
    "\n",
    "area(2.4)"
   ]
  },
  {
   "cell_type": "markdown",
   "metadata": {
    "colab_type": "text",
    "id": "HwK68_VOwX97",
    "slideshow": {
     "slide_type": "fragment"
    }
   },
   "source": [
    "$\\Rightarrow$\n",
    "<https://github.com/zf-istec/program4/blob/master/lectures/06/returns.py>"
   ]
  },
  {
   "cell_type": "markdown",
   "metadata": {
    "colab_type": "text",
    "id": "ZiIeLqjXvmWM",
    "slideshow": {
     "slide_type": "subslide"
    }
   },
   "source": [
    "### Dead code\n",
    "\n",
    "\n",
    "- Code that appears after a `return` statement<sup>1</sup> is called **dead\n",
    "    code**\n",
    "    \n"
   ]
  },
  {
   "cell_type": "code",
   "execution_count": null,
   "metadata": {
    "colab": {},
    "colab_type": "code",
    "id": "o_ap-5fjwIiM",
    "slideshow": {
     "slide_type": "fragment"
    }
   },
   "outputs": [],
   "source": [
    "def area(radius):\n",
    "    \"\"\"returns the area of a circle with the given radius.\"\"\"\n",
    "    fruit = 3.14159 * radius ** 2\n",
    "    return fruit\n",
    "    print(\"I'm dead!\")\n",
    "\n",
    "area(2.4)"
   ]
  },
  {
   "cell_type": "markdown",
   "metadata": {
    "colab_type": "text",
    "id": "HHgNZUQIwF_H",
    "slideshow": {
     "slide_type": "skip"
    }
   },
   "source": [
    "<sup>1</sup> or any other place the flow of execution can never reach"
   ]
  },
  {
   "cell_type": "markdown",
   "metadata": {
    "colab_type": "text",
    "id": "-nCtimmgyDax",
    "slideshow": {
     "slide_type": "subslide"
    }
   },
   "source": [
    "### More returns\n",
    "\n",
    "- All Python functions return `None` whenever they do not return\n",
    "    another value\n",
    "\n",
    "- It is also possible to use a `return` statement in the middle of a\n",
    "    `for` loop, in which case control immediately returns from the\n",
    "    function\n",
    "\n",
    "$\\Rightarrow$\n",
    "<https://github.com/zf-istec/program4/blob/master/lectures/06/moreReturns.py>"
   ]
  },
  {
   "cell_type": "markdown",
   "metadata": {
    "colab_type": "text",
    "id": "wH9UjtViyQrg",
    "slideshow": {
     "slide_type": "subslide"
    }
   },
   "source": [
    "## 4.11 Program development"
   ]
  },
  {
   "cell_type": "markdown",
   "metadata": {
    "colab_type": "text",
    "id": "5OSACY1AyV99",
    "slideshow": {
     "slide_type": "subslide"
    }
   },
   "source": [
    "### Incremental Development\n",
    "\n",
    "- To deal with increasingly complex programs, we are going to suggest\n",
    "    a technique called incremental development\n",
    "\n",
    "- The goal of incremental development is to avoid long debugging\n",
    "    sessions by adding and testing only a small amount of code at a time"
   ]
  },
  {
   "cell_type": "markdown",
   "metadata": {
    "colab_type": "text",
    "id": "R-LilhJfya8X",
    "slideshow": {
     "slide_type": "subslide"
    }
   },
   "source": [
    "- Suppose we want to find the *distance between two points*, given by\n",
    "    the coordinates $(x_1,y_1)$ and $(x_2,y_2)$\n",
    "\n",
    "- By the Pythagorean theorem, the distance is:\n",
    "\n",
    "$$distance = \\sqrt[]{{(x_2 - x_1)}^2 + {(y_2 - y_1)}^2}$$\n",
    "\n",
    "$\\Rightarrow$\n",
    "<https://github.com/zf-istec/program4/blob/master/lectures/06/distance.py>"
   ]
  },
  {
   "cell_type": "code",
   "execution_count": null,
   "metadata": {
    "colab": {},
    "colab_type": "code",
    "id": "L3ax1TROU5Jt",
    "slideshow": {
     "slide_type": "subslide"
    }
   },
   "outputs": [],
   "source": [
    "# step 1\n",
    "def distance(x1, y1, x2, y2):\n",
    "    return 0.0\n",
    "\n",
    "print(distance(1, 2, 4, 6))\n",
    "# When testing a function, it is useful to know the right answer."
   ]
  },
  {
   "cell_type": "code",
   "execution_count": null,
   "metadata": {
    "colab": {},
    "colab_type": "code",
    "id": "aRMo9zLSWWUB",
    "slideshow": {
     "slide_type": "subslide"
    }
   },
   "outputs": [],
   "source": [
    "# step 2\n",
    "def distance(x1, y1, x2, y2):\n",
    "    dx = x2 - x1\n",
    "    print(\"dx =\", dx)\n",
    "    dy = y2 - y1\n",
    "    print(\"dy =\", dy)\n",
    "    return 0.0\n",
    "\n",
    "print(distance(1, 2, 4, 6))"
   ]
  },
  {
   "cell_type": "code",
   "execution_count": null,
   "metadata": {
    "colab": {},
    "colab_type": "code",
    "id": "gX4S9mYWWhrf",
    "slideshow": {
     "slide_type": "subslide"
    }
   },
   "outputs": [],
   "source": [
    "# step 3\n",
    "def distance(x1, y1, x2, y2):\n",
    "    dx = x2 - x1\n",
    "    dy = y2 - y1\n",
    "    dsquared = dx*dx + dy*dy\n",
    "    print(dsquared)\n",
    "    return 0.0\n",
    "\n",
    "print(distance(1, 2, 4, 6))"
   ]
  },
  {
   "cell_type": "code",
   "execution_count": null,
   "metadata": {
    "colab": {},
    "colab_type": "code",
    "id": "eNbMr_jdW2K5",
    "slideshow": {
     "slide_type": "subslide"
    }
   },
   "outputs": [],
   "source": [
    "# step 4\n",
    "def distance(x1, y1, x2, y2):\n",
    "    dx = x2 - x1\n",
    "    dy = y2 - y1\n",
    "    dsquared = dx*dx + dy*dy\n",
    "    return dsquared**0.5\n",
    "\n",
    "print(distance(1, 2, 4, 6))"
   ]
  },
  {
   "cell_type": "code",
   "execution_count": null,
   "metadata": {
    "colab": {},
    "colab_type": "code",
    "id": "0p9Ih02XXAXT",
    "slideshow": {
     "slide_type": "subslide"
    }
   },
   "outputs": [],
   "source": [
    "# another implementation\n",
    "import math\n",
    "\n",
    "def distance(x1, y1, x2, y2):\n",
    "    return math.sqrt( (x2-x1)**2 + (y2-y1)**2 )\n",
    "\n",
    "print(distance(1, 2, 4, 6))"
   ]
  },
  {
   "cell_type": "markdown",
   "metadata": {
    "colab_type": "text",
    "id": "fqQQJbrnznCv",
    "slideshow": {
     "slide_type": "subslide"
    }
   },
   "source": [
    "### incremental development (summary)\n",
    "\n",
    "The key aspects of the process are:\n",
    "\n",
    "1. Start with a working skeleton program and make small incremental\n",
    "    changes\n",
    "\n",
    "2. Use temporary variables to refer to intermediate values so that you\n",
    "    can easily inspect and check them\n",
    "\n",
    "3. Once the program is working, relax, sit back, and play around with\n",
    "    your options\n"
   ]
  },
  {
   "cell_type": "markdown",
   "metadata": {
    "colab_type": "text",
    "id": "9nN4M1ZDzxiM",
    "slideshow": {
     "slide_type": "fragment"
    }
   },
   "source": [
    "> Goal:\n",
    "> \n",
    "> A good guideline is to aim for making code as easy as possible for\n",
    "others to read"
   ]
  },
  {
   "cell_type": "markdown",
   "metadata": {
    "colab_type": "text",
    "id": "yvyahGEN0CR4",
    "slideshow": {
     "slide_type": "subslide"
    }
   },
   "source": [
    "## 4.12 Debugging with `print`\n",
    "\n",
    "- A powerful technique for debugging, is to insert extra `print`\n",
    "    functions in carefully selected places in your code\n",
    "\n",
    "- Then, by inspecting the output of the program, you can check whether\n",
    "    the algorithm is doing what you expect it to\n"
   ]
  },
  {
   "cell_type": "markdown",
   "metadata": {
    "colab_type": "text",
    "id": "46b2Fslv0GLC",
    "slideshow": {
     "slide_type": "fragment"
    }
   },
   "source": [
    "- Be clear about the following, however:\n",
    "\n",
    "    - You must have a clear solution to the problem, and must know\n",
    "        what should happen before you can debug a program\n",
    "\n",
    "    - Writing a program doesn't solve the problem --- it simply\n",
    "        *automates* the manual steps you would take\n",
    "\n",
    "    - avoid calling `print` and `input` functions inside fruitful\n",
    "        functions, *unless the primary purpose of your function is to\n",
    "        perform input and output*<sup>2</sup>\n",
    "\n",
    "\n",
    "<sup>2</sup> The exception is the `print` statements for debugging, later\n",
    "    removed"
   ]
  },
  {
   "cell_type": "markdown",
   "metadata": {
    "colab_type": "text",
    "id": "330IXBdF0cm-",
    "slideshow": {
     "slide_type": "subslide"
    }
   },
   "source": [
    "## 4.13 Composition\n",
    "\n",
    "- **Composition** is the ability to call one function from within\n",
    "    another\n",
    "\n",
    "- As an example, we'll write a function that takes two points, the\n",
    "    center of the circle $(xc, yc)$ and a point on the perimeter\n",
    "    $(xp, yp)$, and computes the area of the circle\n",
    "\n",
    "$\\Rightarrow$\n",
    "<https://github.com/zf-istec/program4/blob/master/lectures/06/area.py>"
   ]
  },
  {
   "cell_type": "code",
   "execution_count": null,
   "metadata": {
    "colab": {},
    "colab_type": "code",
    "id": "JMaVyr0vRQ0a",
    "slideshow": {
     "slide_type": "subslide"
    }
   },
   "outputs": [],
   "source": [
    "def distance(x1, y1, x2, y2):\n",
    "    dx = x2 - x1\n",
    "    dy = y2 - y1\n",
    "    dsquared = dx**2 + dy**2\n",
    "    result = dsquared**0.5\n",
    "    return result"
   ]
  },
  {
   "cell_type": "code",
   "execution_count": null,
   "metadata": {
    "colab": {},
    "colab_type": "code",
    "id": "IHgEqqMARZR4",
    "slideshow": {
     "slide_type": "subslide"
    }
   },
   "outputs": [],
   "source": [
    "def area(radius):\n",
    "    b = 3.14159 * radius**2\n",
    "    return b"
   ]
  },
  {
   "cell_type": "code",
   "execution_count": null,
   "metadata": {
    "colab": {},
    "colab_type": "code",
    "id": "OGaGPIJQRi1D",
    "slideshow": {
     "slide_type": "subslide"
    }
   },
   "outputs": [],
   "source": [
    "def area2(xc, yc, xp, yp):\n",
    "#    radius = distance(xc, yc, xp, yp)\n",
    "#    result = area(radius)\n",
    "#    return result\n",
    "    return area(distance(xc, yc, xp, yp))"
   ]
  },
  {
   "cell_type": "code",
   "execution_count": null,
   "metadata": {
    "colab": {},
    "colab_type": "code",
    "id": "cjeZpUVzRnd6",
    "slideshow": {
     "slide_type": "fragment"
    }
   },
   "outputs": [],
   "source": [
    "print(area2(0,0,1,1))"
   ]
  },
  {
   "cell_type": "markdown",
   "metadata": {
    "colab_type": "text",
    "id": "kMiAacu-OfWM",
    "slideshow": {
     "slide_type": "subslide"
    }
   },
   "source": [
    "## 4.14 Boolean functions\n",
    "\n",
    "- **Boolean functions** are functions that return Boolean values\n",
    "\n",
    "    - which is often convenient for hiding complicated tests inside\n",
    "        functions\n",
    "\n",
    "```\n",
    "def is_divisible(x, y):\n",
    "    \"\"\" Test if x is exactly divisible by y \"\"\"\n",
    "    if x % y == 0:\n",
    "        return True\n",
    "    else:\n",
    "        return False\n",
    "```"
   ]
  },
  {
   "cell_type": "markdown",
   "metadata": {
    "colab_type": "text",
    "id": "loyrVO5hPDYf",
    "slideshow": {
     "slide_type": "subslide"
    }
   },
   "source": [
    "Can we avoid the `if`?"
   ]
  },
  {
   "cell_type": "code",
   "execution_count": null,
   "metadata": {
    "colab": {},
    "colab_type": "code",
    "id": "TaDlqDAyOyZ3",
    "slideshow": {
     "slide_type": "subslide"
    }
   },
   "outputs": [],
   "source": [
    "def is_divisible(x, y):\n",
    "    \"\"\" Test if x is exactly divisible by y \"\"\"\n",
    "    if x % y == 0:\n",
    "        return True\n",
    "    else:\n",
    "        return False\n",
    "\n",
    "is_divisible(6, 2)"
   ]
  },
  {
   "cell_type": "markdown",
   "metadata": {
    "colab_type": "text",
    "id": "gbw_-4yzPqqx",
    "slideshow": {
     "slide_type": "subslide"
    }
   },
   "source": [
    "Usage of the boolean function:"
   ]
  },
  {
   "cell_type": "code",
   "execution_count": null,
   "metadata": {
    "colab": {},
    "colab_type": "code",
    "id": "bHqJBZz3PRWZ",
    "slideshow": {
     "slide_type": "fragment"
    }
   },
   "outputs": [],
   "source": [
    "if is_divisible(6, 2):\n",
    "    # do something\n",
    "    print(\"They are divisible\")\n",
    "else:\n",
    "    # do something else\n",
    "    print(\"They are NOT divisible\")"
   ]
  },
  {
   "cell_type": "markdown",
   "metadata": {
    "colab_type": "text",
    "id": "sz36TlHrP4DG",
    "slideshow": {
     "slide_type": "subslide"
    }
   },
   "source": [
    "## 4.15 Programming with style"
   ]
  },
  {
   "cell_type": "markdown",
   "metadata": {
    "colab_type": "text",
    "id": "StSJl0tGP7NC",
    "slideshow": {
     "slide_type": "subslide"
    }
   },
   "source": [
    "### PEP 8: Style Guide for Python Code\n",
    "\n",
    "- use 4 spaces (instead of tabs) for indentation\n",
    "\n",
    "- limit line length to 78 characters\n",
    "\n",
    "- when naming identifiers use `lowercase_with_underscores` for\n",
    "    functions and variables\n",
    "\n",
    "- place *imports* at the top of the file\n",
    "\n",
    "- keep function definitions together below the `import` statements\n",
    "\n",
    "- use *docstrings* to document functions\n",
    "\n",
    "- use two blank lines to separate function definitions from each other\n",
    "\n",
    "- keep top level statements, including function calls, together at the\n",
    "    bottom of the program\n",
    "\n",
    "- **tip**: Spyder3 may help you with PEP8\n"
   ]
  }
 ],
 "metadata": {
  "colab": {
   "collapsed_sections": [
    "8z5cONg8rUrX"
   ],
   "name": "06-more-functions.ipynb",
   "private_outputs": true,
   "provenance": [],
   "toc_visible": true
  },
  "kernelspec": {
   "display_name": "Python 3 (ipykernel)",
   "language": "python",
   "name": "python3"
  },
  "language_info": {
   "codemirror_mode": {
    "name": "ipython",
    "version": 3
   },
   "file_extension": ".py",
   "mimetype": "text/x-python",
   "name": "python",
   "nbconvert_exporter": "python",
   "pygments_lexer": "ipython3",
   "version": "3.9.7"
  },
  "rise": {
   "enable_chalkboard": true
  }
 },
 "nbformat": 4,
 "nbformat_minor": 4
}
