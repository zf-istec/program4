{
 "cells": [
  {
   "cell_type": "markdown",
   "metadata": {
    "colab_type": "text",
    "id": "8z5cONg8rUrX",
    "slideshow": {
     "slide_type": "slide"
    }
   },
   "source": [
    "# Effect-free programming style\n",
    "\n",
    "## Programming Fundamentals (NB18)\n",
    "\n",
    "### MIEIC/2020-21\n",
    "\n",
    "#### João Correia Lopes\n",
    "\n",
    "INESC TEC, FEUP"
   ]
  },
  {
   "cell_type": "markdown",
   "metadata": {
    "colab_type": "text",
    "id": "MZzE7pYorju5",
    "slideshow": {
     "slide_type": "subslide"
    }
   },
   "source": [
    "## Goals\n",
    "\n",
    "By the end of this class, the student should be able to:\n",
    "\n",
    "- Describe the Effect-free programming style: function calls have no side effects and variables are immutable\n",
    "\n",
    "- Enumerate the Python language features that enables the programmer to adopt an Effect-free programming style\n"
   ]
  },
  {
   "cell_type": "markdown",
   "metadata": {
    "colab_type": "text",
    "id": "eR5Lh1jNroE2",
    "slideshow": {
     "slide_type": "subslide"
    }
   },
   "source": [
    "## Bibliography\n",
    "\n",
    "- David Mertz, *Functional Programming in Python*, O'Reilly Media, 2015 \n",
    "[[HTML]](https://www.oreilly.com/library/view/functional-programming-in/9781492048633/)\n",
    "- A. M. Kuchling, *Functional Programming HOWTO*, Python 3.7 documentation, Release 0.32 [[HTML]](https://docs.python.org/3.7/howto/functional.html)\n"
   ]
  },
  {
   "cell_type": "markdown",
   "metadata": {
    "colab_type": "text",
    "id": "9HCChEWKc_Bv",
    "slideshow": {
     "slide_type": "slide"
    }
   },
   "source": [
    "# Effect free Programming Style"
   ]
  },
  {
   "cell_type": "markdown",
   "metadata": {
    "colab_type": "text",
    "id": "wwKXFozOdFg5",
    "slideshow": {
     "slide_type": "subslide"
    }
   },
   "source": [
    "### Effect free programming style\n",
    "\n",
    "- Function calls have **no side effects** and variables are **immutable**\n",
    "\n",
    "    - Do not use `global` and `nonlocal` statements (we'll see those later)\n",
    "\n",
    "    - Take care about data types that are mutable\n",
    "\n",
    "    - Do not use Input/Output\n"
   ]
  },
  {
   "cell_type": "markdown",
   "metadata": {
    "colab_type": "text",
    "id": "7g54hW18dU3f",
    "slideshow": {
     "slide_type": "skip"
    }
   },
   "source": [
    "## Python & Functional Programming (recap)"
   ]
  },
  {
   "cell_type": "markdown",
   "metadata": {
    "colab_type": "text",
    "id": "BMlkJz_1dK4H",
    "slideshow": {
     "slide_type": "subslide"
    }
   },
   "source": [
    "### Python & Functional Programming\n",
    "\n",
    "> Python is most definitely not a \"pure functional programming\n",
    "> language\"; side effects are widespread in most Python programs. That\n",
    "> is, variables are frequently rebound, mutable data collections often\n",
    "> change contents, and I/O is freely interleaved with computation.\n",
    ">\n",
    "> It is also not even a \"functional programming language\" more\n",
    "> generally.\n",
    ">\n",
    "> However, Python is a multiparadigm language that makes functional\n",
    "> programming easy to do when desired, and easy to mix with other\n",
    "> programming styles.<sup>1</sup>\n",
    "\n",
    "<sup>1</sup> David Mertz, Functional Programming in Python, O'Reilly Media, 2015\n"
   ]
  },
  {
   "cell_type": "markdown",
   "metadata": {
    "colab_type": "text",
    "id": "gl6dz34fdaYN",
    "slideshow": {
     "slide_type": "subslide"
    }
   },
   "source": [
    "### Functional Programming\n",
    "\n",
    "- In a functional program, input flows through a set of functions\n",
    "\n",
    "- Each function operates on its input and produces some output\n",
    "\n",
    "- Functional style discourages functions with *side effects* that\n",
    "    *modify internal state* or make other changes that aren't visible in\n",
    "    the function's return value\n",
    "\n",
    "- Functions that have no side effects at all are called **purely\n",
    "    functional**\n",
    "\n",
    "- Avoiding side effects means not using data structures that get\n",
    "    updated as a program runs; **every function's output must only depend\n",
    "    on its input**"
   ]
  },
  {
   "cell_type": "markdown",
   "metadata": {
    "colab_type": "text",
    "id": "1NLnzG1Xdzfh",
    "slideshow": {
     "slide_type": "subslide"
    }
   },
   "source": [
    "### Advantages of the functional style\n",
    "\n",
    "Why should you avoid objects (OOP) and side effects?\n",
    "\n",
    "- There are theoretical (T) and practical (P) advantages to the\n",
    "    functional style:\n",
    "\n",
    "    - Formal provability (T)\n",
    "\n",
    "    - Modularity (P)\n",
    "\n",
    "    - Ease of debugging and testing (P)\n",
    "\n",
    "    - Composability (P)\n",
    "\n",
    "> Effect-free code:\n",
    ">\n",
    "> The advantage of a pure function and side effect free\n",
    "> code is that it is generally **easier to debug and test**."
   ]
  },
  {
   "cell_type": "markdown",
   "metadata": {
    "colab_type": "text",
    "id": "xIfeUTAqd6dY",
    "slideshow": {
     "slide_type": "subslide"
    }
   },
   "source": [
    "## 4.17.1 Modifiers vs Pure Functions"
   ]
  },
  {
   "cell_type": "markdown",
   "metadata": {
    "colab_type": "text",
    "id": "lDgjkk-_d-42",
    "slideshow": {
     "slide_type": "subslide"
    }
   },
   "source": [
    "### Modifiers vs Pure Functions (recap)\n",
    "\n",
    "- Functions which take lists as arguments and change them during\n",
    "    execution are called **modifiers** and the changes they make are\n",
    "    called **side effects**\n",
    "\n",
    "- A **pure function** does not produce side effects\n",
    "\n",
    "    - It communicates with the calling program only through\n",
    "        parameters, which it does not modify, and a return value\n",
    "\n",
    "```\n",
    "   def double_stuff(values):\n",
    "       \"\"\" Double the elements of values \"\"\"\n",
    "       for index, value in enumerate(values):\n",
    "           values[index] = 2 * value\n",
    "```\n",
    "\n",
    "- Is `double_stuff()` pure?"
   ]
  },
  {
   "cell_type": "markdown",
   "metadata": {
    "colab_type": "text",
    "id": "WewZk4dseKGd",
    "slideshow": {
     "slide_type": "subslide"
    }
   },
   "source": [
    "## Iterators"
   ]
  },
  {
   "cell_type": "markdown",
   "metadata": {
    "colab_type": "text",
    "id": "0Fbr_35deM_B",
    "slideshow": {
     "slide_type": "subslide"
    }
   },
   "source": [
    "### Iterators (recap)\n",
    "\n",
    "- Iterators are an important foundation for writing functional-style\n",
    "    programs\n",
    "\n",
    "- *An iterator is an object representing a stream of data and returns\n",
    "    the data one element at a time*\n",
    "\n",
    "- Several of Python's built-in data types support iteration, the most\n",
    "    common being lists and dictionaries\n",
    "\n",
    "- An object is called **iterable** if you can **get an iterator for\n",
    "    it**\n",
    "\n",
    "- Python expects iterable objects in several different contexts, the\n",
    "    most important being the `for` statement\n",
    "\n",
    "- Iterators can be **materialised** as lists or tuples by using the\n",
    "    `list()` or `tuple()` constructor functions\n",
    "\n",
    "- Built-in functions such as `max()` and `min()` can take a single\n",
    "    iterator argument\n",
    "\n",
    "- The `in` and `not in` operators also support iterators\n",
    "\n",
    "- Note that you can **only go forward in an iterator**; there's no way\n",
    "  to get the previous element, reset the iterator, or make a copy of it"
   ]
  },
  {
   "cell_type": "markdown",
   "metadata": {
    "colab_type": "text",
    "id": "M3n2cKayh3-Z",
    "slideshow": {
     "slide_type": "subslide"
    }
   },
   "source": [
    "### An iterable and an iterator\n",
    "\n",
    "```\n",
    ">>> simple_list = [1, 2, 3]\n",
    ">>> my_iterator = iter(simple_list)\n",
    "```\n",
    "\n",
    "- The iterator protocol is implemented whenever you iterate over a sequence of data\n",
    "- For example, when you use a for loop the following is happening on a background:\n",
    "  - first `iter()` method is called on the object to converts it to an iterator object\n",
    "  - `next()` method is called on the iterator object to get the next element of the sequence\n",
    "  - `StopIteration` exception is raised when there are no elements left to call"
   ]
  },
  {
   "cell_type": "markdown",
   "metadata": {
    "colab_type": "text",
    "id": "3wUzYJnImOAW",
    "slideshow": {
     "slide_type": "skip"
    }
   },
   "source": [
    "Try it:"
   ]
  },
  {
   "cell_type": "code",
   "execution_count": null,
   "metadata": {
    "colab": {},
    "colab_type": "code",
    "id": "3gsvoaryhzd_",
    "slideshow": {
     "slide_type": "subslide"
    }
   },
   "outputs": [],
   "source": [
    "simple_list = [1, 2, 3]\n",
    "my_iterator = iter(simple_list)\n",
    "\n",
    "print(my_iterator)\n",
    "print(next(my_iterator))\n",
    "print(next(my_iterator))\n",
    "print(next(my_iterator))\n",
    "print(next(my_iterator))"
   ]
  },
  {
   "cell_type": "markdown",
   "metadata": {
    "colab_type": "text",
    "id": "gykS36rie_GE",
    "slideshow": {
     "slide_type": "subslide"
    }
   },
   "source": [
    "## (Avoiding) Flow Control"
   ]
  },
  {
   "cell_type": "markdown",
   "metadata": {
    "colab_type": "text",
    "id": "8g7WGm1jfC7i",
    "slideshow": {
     "slide_type": "subslide"
    }
   },
   "source": [
    "### Imperative Python programs\n",
    "\n",
    "- \"In typical imperative Python programs<sup>2</sup> a block of code generally\n",
    "    consists of some outside loops (`for` or `while`), assignment of\n",
    "    state variables within those loops, modification of data structures\n",
    "    like `dicts`, `lists`, and `sets` (or various other structures,\n",
    "    either from the standard library or from third-party packages), and\n",
    "    some branch statements (`if`/`elif`/`else` or\n",
    "    `try`/`except`/`finally`).\"\n",
    "\n",
    "- The imperative flow control described in the last paragraph is much\n",
    "    more about the \"how\" than the \"what\" and **we can often shift the\n",
    "    question**\n",
    "\n",
    "\n",
    "<sup>2</sup> Including those that make use of classes and methods to hold their\n",
    "    imperative code.\n"
   ]
  },
  {
   "cell_type": "markdown",
   "metadata": {
    "colab_type": "text",
    "id": "fDNLapxXfKKk",
    "slideshow": {
     "slide_type": "subslide"
    }
   },
   "source": [
    "### Comprehensions\n",
    "\n",
    "- Using comprehensions is often a way both to make code more compact\n",
    "    and to *shift our focus from the \"how\" to the \"what\"*\n",
    "\n",
    "- A comprehension is an expression that uses the same keywords as loop\n",
    "    and conditional blocks, but inverts their order to **focus on the\n",
    "    data rather than on the procedure**\n",
    "\n",
    "- Simply changing the form of expression can often make a surprisingly\n",
    "    large difference in how we *reason about code* and how easy it is to\n",
    "    understand it\n",
    "\n",
    "- Python includes: *List comprehensions*, *Generator comprehensions*,\n",
    "    *Set comprehensions*, and *Dictionary comprehensions*"
   ]
  },
  {
   "cell_type": "markdown",
   "metadata": {
    "colab_type": "text",
    "id": "ViPF8GLgfNkp",
    "slideshow": {
     "slide_type": "subslide"
    }
   },
   "source": [
    "### Mental shift\n",
    "\n",
    "- The *ternary operator* also performs a similar restructuring of our\n",
    "    focus, using the same keywords in a different order\n",
    "\n",
    "- For example, if our original code was:\n",
    "\n",
    "```\n",
    "   collection = list()\n",
    "   for datum in data_set:\n",
    "       if condition(datum):\n",
    "           collection.append(datum)\n",
    "       else:\n",
    "           new = modify(datum)\n",
    "           collection.append(new)\n",
    "```\n",
    "\n",
    "- Somewhat more compactly we could write this as:\n",
    "\n",
    "```\n",
    "   collection = [d if condition(d) else modify(d) for d in data_set]\n",
    "```"
   ]
  },
  {
   "cell_type": "markdown",
   "metadata": {
    "colab_type": "text",
    "id": "uUC6sZJQfinX",
    "slideshow": {
     "slide_type": "subslide"
    }
   },
   "source": [
    "### Generator expressions (recap)\n",
    "\n",
    "- *Generator expressions* have the same syntax as list\n",
    "    comprehensions --- other than that there are no square brackets\n",
    "    around them (but parentheses are needed syntactically in some\n",
    "    contexts, in place of brackets)\n",
    "\n",
    "- They are also *lazy*\n",
    "\n",
    "- That is to say that they are merely a description of \"how to get the\n",
    "    data\" that is not realised until one explicitly asks for it, either\n",
    "    by calling the method `next()` on the object, or by looping over it\n",
    "    (e.g. with `for`)\n",
    "\n",
    "```\n",
    "   # create the generator object\n",
    "   log_lines = (line for line in read_line(huge_log_file)\n",
    "                     if complex_condition(line))\n",
    "```\n",
    "\n",
    "$\\Rightarrow$\n",
    "<https://github.com/fpro-feup/public/blob/master/lectures/18/generators.py>"
   ]
  },
  {
   "cell_type": "markdown",
   "metadata": {
    "colab_type": "text",
    "id": "kjULxaoKgQb_",
    "slideshow": {
     "slide_type": "subslide"
    }
   },
   "source": [
    "### List vs generator comprehensions"
   ]
  },
  {
   "cell_type": "code",
   "execution_count": null,
   "metadata": {
    "colab": {},
    "colab_type": "code",
    "id": "Yf9-fsF7gMHG",
    "slideshow": {
     "slide_type": "fragment"
    }
   },
   "outputs": [],
   "source": [
    "list_comp = [x ** 2 for x in range(10) if x % 2 == 0]\n",
    "gen_exp = (x ** 2 for x in range(10) if x % 2 == 0)"
   ]
  },
  {
   "cell_type": "code",
   "execution_count": null,
   "metadata": {
    "colab": {},
    "colab_type": "code",
    "id": "UVaajVAHgqx5",
    "slideshow": {
     "slide_type": "fragment"
    }
   },
   "outputs": [],
   "source": [
    "print(list_comp)\n",
    "print(gen_exp)"
   ]
  },
  {
   "cell_type": "markdown",
   "metadata": {
    "colab_type": "text",
    "id": "ummrWNe9g9lq",
    "slideshow": {
     "slide_type": "subslide"
    }
   },
   "source": [
    "Using the generator:"
   ]
  },
  {
   "cell_type": "code",
   "execution_count": null,
   "metadata": {
    "colab": {},
    "colab_type": "code",
    "id": "QLTy1zFLg_hp",
    "slideshow": {
     "slide_type": "fragment"
    }
   },
   "outputs": [],
   "source": [
    "print(next(iter(gen_exp)))\n",
    "print(next(iter(gen_exp)))"
   ]
  },
  {
   "cell_type": "markdown",
   "metadata": {
    "colab_type": "text",
    "id": "9mgKfWeshclh",
    "slideshow": {
     "slide_type": "subslide"
    }
   },
   "source": [
    "There's also dict comprehensions"
   ]
  },
  {
   "cell_type": "code",
   "execution_count": null,
   "metadata": {
    "colab": {},
    "colab_type": "code",
    "id": "vmkMZWoshiK4",
    "slideshow": {
     "slide_type": "fragment"
    }
   },
   "outputs": [],
   "source": [
    "dict_comp = {x: chr(65+x) for x in range(1, 11)}\n",
    "\n",
    "print(type(dict_comp))\n",
    "print(dict_comp)"
   ]
  },
  {
   "cell_type": "markdown",
   "metadata": {
    "colab_type": "text",
    "id": "PUEodngliKFF",
    "slideshow": {
     "slide_type": "subslide"
    }
   },
   "source": [
    "Generator expressions again"
   ]
  },
  {
   "cell_type": "code",
   "execution_count": null,
   "metadata": {
    "colab": {},
    "colab_type": "code",
    "id": "kZwWeeGAiM12",
    "slideshow": {
     "slide_type": "fragment"
    }
   },
   "outputs": [],
   "source": [
    "gen_exp = (x ** 2 for x in range(10) if x % 2 == 0)\n",
    "\n",
    "print(gen_exp)\n",
    "for x in gen_exp:\n",
    "    print(x)"
   ]
  },
  {
   "cell_type": "markdown",
   "metadata": {
    "colab_type": "text",
    "id": "9P1KThxeigfl",
    "slideshow": {
     "slide_type": "subslide"
    }
   },
   "source": [
    "### Recursion (recap)\n",
    "\n",
    "- Functional programmers often put weight in **expressing flow\n",
    "    control** through recursion rather than through loops\n",
    "\n",
    "- Done this way, we can **avoid altering the state** of any variables\n",
    "    or data structures within an algorithm, and more importantly get\n",
    "    more at the \"what\" than the \"how\" of a computation\n",
    "\n",
    "- In the cases where recursion is just \"iteration by another name\",\n",
    "    iteration is more \"Pythonic\"\n",
    "\n",
    "- Where recursion is compelling, and sometimes even the only really\n",
    "    obvious way to express a solution, is when a problem offers itself\n",
    "    to a \"divide and conquer\" approach (i.e., a problem can readily be\n",
    "    partitioned into smaller problems)\n",
    "\n",
    "$\\Rightarrow$\n",
    "<https://github.com/fpro-feup/public/blob/master/lectures/18/factorialR.py>"
   ]
  },
  {
   "cell_type": "markdown",
   "metadata": {
    "colab_type": "text",
    "id": "LSCAOp4Ok1f1",
    "slideshow": {
     "slide_type": "subslide"
    }
   },
   "source": [
    "Factorial using the *ternary operator* to help the \"mental shift\""
   ]
  },
  {
   "cell_type": "code",
   "execution_count": null,
   "metadata": {
    "colab": {},
    "colab_type": "code",
    "id": "RPE03T3biyjn",
    "slideshow": {
     "slide_type": "fragment"
    }
   },
   "outputs": [],
   "source": [
    "def factorialR(n):\n",
    "    \"\"\" Recursive factorial function with an assert. \"\"\"\n",
    "    assert isinstance(n, int) and n >= 1\n",
    "\n",
    "    return 1 if n <= 1 else n * factorialR(n-1)\n",
    "\n",
    "print(factorialR(5))"
   ]
  },
  {
   "cell_type": "markdown",
   "metadata": {
    "colab_type": "text",
    "id": "-G7RJGuZkLMc",
    "slideshow": {
     "slide_type": "subslide"
    }
   },
   "source": [
    "### A side effect: assertions\n",
    "\n",
    "- Assertions are a systematic way to check that the internal state of a program is as the programmer expected, with the goal of catching bugs\n",
    "\n",
    "- In particular, they're good for catching false assumptions that were made while writing the code, or abuse of an interface by another programmer\n",
    "\n",
    "- In addition, they can act as in-line documentation to some extent, by making the programmer's assumptions obvious\n",
    "\n",
    ">\"Explicit is better than implicit.\""
   ]
  },
  {
   "cell_type": "code",
   "execution_count": null,
   "metadata": {
    "colab": {},
    "colab_type": "code",
    "id": "DZeH6zJWjPm1",
    "slideshow": {
     "slide_type": "fragment"
    }
   },
   "outputs": [],
   "source": [
    "print(factorialR(0))"
   ]
  },
  {
   "cell_type": "code",
   "execution_count": null,
   "metadata": {
    "colab": {},
    "colab_type": "code",
    "id": "s15aDGbMjRg_",
    "slideshow": {
     "slide_type": "fragment"
    }
   },
   "outputs": [],
   "source": [
    "print(factorialR('a'))"
   ]
  },
  {
   "cell_type": "markdown",
   "metadata": {
    "colab_type": "text",
    "id": "KMK-aPZFlLz3",
    "slideshow": {
     "slide_type": "subslide"
    }
   },
   "source": [
    "### Recursive Quicksort with comprehensions\n",
    "\n",
    "- For example, the *quicksort algorithm* is very elegantly expressed\n",
    "    without any state variables or loops, but wholly through recursion\n",
    "\n",
    "```\n",
    "   def quicksort(lst):\n",
    "       \"\"\"Quicksort over a list-like sequence.\"\"\"\n",
    "\n",
    "       # base case: empty list\n",
    "\n",
    "       # pivots = equals to a pivot (choose one!)\n",
    "       \n",
    "       # recursive cases:\n",
    "          # smaller = quicksort( smaller then the pivot )\n",
    "          # larger = quicksort( larger then the pivot )\n",
    "\n",
    "       return smaller + pivots + larger\n",
    "```\n",
    "\n",
    "$\\Rightarrow$\n",
    "<https://github.com/fpro-feup/public/blob/master/lectures/18/quicksort.py>"
   ]
  },
  {
   "cell_type": "code",
   "execution_count": null,
   "metadata": {
    "colab": {},
    "colab_type": "code",
    "id": "1h_iQfibllmw",
    "slideshow": {
     "slide_type": "subslide"
    }
   },
   "outputs": [],
   "source": [
    "def quicksort(lst):\n",
    "    # base case\n",
    "    if len(lst) == 0:\n",
    "        return lst\n",
    "    # recursive call\n",
    "    pivot = lst[0]\n",
    "    pivots = [x for x in lst if x == pivot]\n",
    "    smaller = quicksort([x for x in lst if x < pivot])\n",
    "    larger = quicksort([x for x in lst if x > pivot])\n",
    "\n",
    "    return smaller + pivots + larger"
   ]
  },
  {
   "cell_type": "code",
   "execution_count": null,
   "metadata": {
    "colab": {},
    "colab_type": "code",
    "id": "oUHYBvzelwm9",
    "slideshow": {
     "slide_type": "fragment"
    }
   },
   "outputs": [],
   "source": [
    "l = [5, 8, 2, 9, 1, 4, 8, 9, 0, 3, 2, 7]\n",
    "\n",
    "print(l)\n",
    "print(quicksort(l))"
   ]
  },
  {
   "cell_type": "markdown",
   "metadata": {
    "slideshow": {
     "slide_type": "skip"
    }
   },
   "source": [
    "We will be back to quicksort later."
   ]
  },
  {
   "cell_type": "markdown",
   "metadata": {
    "colab_type": "text",
    "id": "ENvDDaLSj0sx",
    "slideshow": {
     "slide_type": "subslide"
    }
   },
   "source": [
    "## Closures and Callable Instances"
   ]
  },
  {
   "cell_type": "markdown",
   "metadata": {
    "colab_type": "text",
    "id": "WbQaVF3lneG5",
    "slideshow": {
     "slide_type": "subslide"
    }
   },
   "source": [
    "### Callables\n",
    "\n",
    "- The emphasis in functional programming is on **calling functions**\n",
    "\n",
    "- Python actually gives us several different ways to create functions,\n",
    "    or at least something very *function-like* (i.e., that can be called):\n",
    "\n",
    "    1.  Regular functions created with `def` and given a name at \n",
    "        definition time\n",
    "\n",
    "    2.  Anonymous functions created with *lambda*\n",
    "\n",
    "    3.  *Generator* functions (not seen yet)\n",
    "\n",
    "    4.  *Closures* returned by function factories"
   ]
  },
  {
   "cell_type": "markdown",
   "metadata": {
    "colab_type": "text",
    "id": "2rcQ4YA6nvjF",
    "slideshow": {
     "slide_type": "skip"
    }
   },
   "source": [
    "- OOP\n",
    "    5.  Instances of classes that define a `__call()__` method\n",
    "\n",
    "    6.  Static methods of instances, either via the `@staticmethod`\n",
    "        decorator or via the class `__dict__`"
   ]
  },
  {
   "cell_type": "markdown",
   "metadata": {
    "colab_type": "text",
    "id": "d7MdHAU3r8KE",
    "slideshow": {
     "slide_type": "subslide"
    }
   },
   "source": [
    "### Named Functions and Lambdas (recap)\n",
    "\n",
    "- The most obvious ways to create callables in Python are named\n",
    "    functions and lambdas\n",
    "\n",
    "- In most cases, lambda expressions are used within Python only for\n",
    "    callbacks and other uses where a simple action is inlined into a\n",
    "    function call\n",
    "\n",
    "```\n",
    ">>> def hello1(name):\n",
    ".....    return \"Hello\" + \" \" + name\n",
    ".....\n",
    ">>> hello2 = lambda name: \"Hello\" + \" \" + name\n",
    "   \n",
    ">>> hello3 = hello2  # can bind func to other names\n",
    "```\n",
    "\n",
    "$\\Rightarrow$\n",
    "<https://github.com/fpro-feup/public/blob/master/lectures/18/callable.py>"
   ]
  },
  {
   "cell_type": "code",
   "execution_count": null,
   "metadata": {
    "colab": {},
    "colab_type": "code",
    "id": "hXK68tqtsbPv",
    "slideshow": {
     "slide_type": "subslide"
    }
   },
   "outputs": [],
   "source": [
    "def hello1(name):\n",
    "    return \"Hello\" + \" \" + name\n",
    "\n",
    "hello2 = lambda name: \"Hello\" + \" \" + name + \" the Two\"\n",
    "\n",
    "print(hello1('John'))\n",
    "print(hello2('John'))"
   ]
  },
  {
   "cell_type": "markdown",
   "metadata": {
    "colab_type": "text",
    "id": "dCyqR6Kito3j",
    "slideshow": {
     "slide_type": "fragment"
    }
   },
   "source": [
    "Can bind func to other names:"
   ]
  },
  {
   "cell_type": "code",
   "execution_count": null,
   "metadata": {
    "colab": {},
    "colab_type": "code",
    "id": "kgYLPk-Dtt92",
    "slideshow": {
     "slide_type": "fragment"
    }
   },
   "outputs": [],
   "source": [
    "hello3 = hello2\n",
    "\n",
    "print(hello3('John'))"
   ]
  },
  {
   "cell_type": "markdown",
   "metadata": {
    "colab_type": "text",
    "id": "kHlwskhRt2Rm",
    "slideshow": {
     "slide_type": "skip"
    }
   },
   "source": [
    "What about their names (PEP 3155)?"
   ]
  },
  {
   "cell_type": "code",
   "execution_count": null,
   "metadata": {
    "colab": {},
    "colab_type": "code",
    "id": "uTpSkaYztyFV",
    "slideshow": {
     "slide_type": "skip"
    }
   },
   "outputs": [],
   "source": [
    "print(hello3.__qualname__)\n",
    "print(hello2.__qualname__)\n",
    "print(hello1.__qualname__)"
   ]
  },
  {
   "cell_type": "markdown",
   "metadata": {
    "colab_type": "text",
    "id": "vtiFEqQquRlV",
    "slideshow": {
     "slide_type": "subslide"
    }
   },
   "source": [
    "### Caveats, limits, and Discipline\n",
    "\n",
    "> Functional programming style:\n",
    "> \n",
    "> In most cases, one only leaks state intentionally, and creating a certain \n",
    "> subset of all your functionality as pure functions allows for cleaner code\n",
    "\n",
    "- One of the reasons that functions are useful is that they **isolate\n",
    "    state lexically**\n",
    "\n",
    "- This is a limited form of nonmutability in that (by default) nothing\n",
    "    you do within a function will bind state variables outside the\n",
    "    function\n",
    "\n",
    "- This guarantee is very limited in that both the `global` and\n",
    "    `nonlocal` statements explicitly allow state to \"leak out\" of a\n",
    "    function\n",
    "\n",
    "- Moreover, many **data types are themselves mutable**, so if they are\n",
    "    passed into a function that function might change their contents\n",
    "\n",
    "- Furthermore, doing **I/O** can also change the \"state of the world\"\n",
    "    and hence alter results of functions<sup>3</sup>\n",
    "\n",
    "<sup>3</sup> E.g., by changing the contents of a file or a database that is \n",
    "    itself read elsewhere.\n"
   ]
  },
  {
   "cell_type": "markdown",
   "metadata": {
    "colab_type": "text",
    "id": "dnssQu03vh3k",
    "slideshow": {
     "slide_type": "subslide"
    }
   },
   "source": [
    "### Closures and Callable Instances (recap)\n",
    "\n",
    "- A **closure** is \"operations with data attached\" (putting operations\n",
    "    and data in the same object)\n",
    "\n",
    "- Closures emphasise immutability and pure functions\n",
    "\n",
    "- A Closure is a function object that remembers values in enclosing\n",
    "    scopes even if they are not present in memory\n",
    "\n",
    "```\n",
    "   def make_adder(n):\n",
    "       def adder(m):\n",
    "           return m + n\n",
    "       return adder\n",
    "           \n",
    "   add5_f = make_adder(5)  # \"functional\"\n",
    "```\n",
    "\n",
    "$\\Rightarrow$\n",
    "<https://github.com/fpro-feup/public/blob/master/lectures/18/closure.py>"
   ]
  },
  {
   "cell_type": "code",
   "execution_count": null,
   "metadata": {
    "colab": {},
    "colab_type": "code",
    "id": "VftLP1nyv3YK",
    "slideshow": {
     "slide_type": "subslide"
    }
   },
   "outputs": [],
   "source": [
    "def make_adder(n):\n",
    "\n",
    "   def adder(m):\n",
    "      return n + m\n",
    "\n",
    "   return adder\n",
    "           \n",
    "add5_f = make_adder(5)  # \"functional\"\n",
    "\n",
    "add5_f(10)"
   ]
  },
  {
   "cell_type": "markdown",
   "metadata": {
    "colab_type": "text",
    "id": "oUA4TGG6jppF",
    "slideshow": {
     "slide_type": "subslide"
    }
   },
   "source": [
    "## Generator functions and lazy evaluation"
   ]
  },
  {
   "cell_type": "markdown",
   "metadata": {
    "colab_type": "text",
    "id": "xHUiiqKnwc1Q",
    "slideshow": {
     "slide_type": "subslide"
    }
   },
   "source": [
    "### Generator Functions\n",
    "\n",
    "- A special sort of function in Python is one that contains a `yield`\n",
    "    statement, which turns the function into a generator\n",
    "\n",
    "- What is returned from calling such a function is not a regular\n",
    "    value, but rather an **iterator** that produces a sequence of values\n",
    "    as you call the `next()` function on it or loop over it\n",
    "\n",
    "```\n",
    "# a generator that yields items instead of returning a list\n",
    "def firstn(n):\n",
    "    num = 0\n",
    "    while num < n:\n",
    "        yield num   # this is NOT a return!\n",
    "        num += 1\n",
    "\n",
    "sum_of_first_n = sum(firstn(1000000))\n",
    "```\n",
    "\n",
    "- Generator expression allows creating a generator, on the fly, without a `yield` keyword"
   ]
  },
  {
   "cell_type": "markdown",
   "metadata": {
    "colab_type": "text",
    "id": "jG-3QmQQnRoe",
    "slideshow": {
     "slide_type": "skip"
    }
   },
   "source": [
    "Read more at [How to Use Generators and yield in Python](https://realpython.com/introduction-to-python-generators/)"
   ]
  },
  {
   "cell_type": "markdown",
   "metadata": {
    "colab_type": "text",
    "id": "eyJnSAUMxC_p",
    "slideshow": {
     "slide_type": "subslide"
    }
   },
   "source": [
    "### Generator Functions (example) \n",
    "\n",
    "- For example, see the code for \"Simple lazy [Sieve of\n",
    "    Eratosthenes](https://en.wikipedia.org/wiki/Sieve_of_Eratosthenes)\"\n",
    "    in `get_primes()`\n",
    "\n",
    "$\\Rightarrow$\n",
    "<https://github.com/fpro-feup/public/blob/master/lectures/18/get_primes.py>"
   ]
  },
  {
   "cell_type": "code",
   "execution_count": null,
   "metadata": {
    "colab": {},
    "colab_type": "code",
    "id": "FvAnnH2vxgJt",
    "slideshow": {
     "slide_type": "fragment"
    }
   },
   "outputs": [],
   "source": [
    "def get_primes():\n",
    "    candidate = 2\n",
    "    found = []\n",
    "    while True:\n",
    "        if all(candidate % prime != 0 for prime in found):\n",
    "            yield candidate\n",
    "            found.append(candidate)\n",
    "        candidate += 1"
   ]
  },
  {
   "cell_type": "markdown",
   "metadata": {
    "colab_type": "text",
    "id": "UwwbVJqPy6xz",
    "slideshow": {
     "slide_type": "subslide"
    }
   },
   "source": [
    "- Every time you create a new object with `get_primes()` the iterator\n",
    "    is the same infinite lazy sequence"
   ]
  },
  {
   "cell_type": "code",
   "execution_count": null,
   "metadata": {
    "colab": {},
    "colab_type": "code",
    "id": "j_1QeFSYx3Lx",
    "slideshow": {
     "slide_type": "fragment"
    }
   },
   "outputs": [],
   "source": [
    "primes = get_primes()\n",
    "print(type(primes))"
   ]
  },
  {
   "cell_type": "code",
   "execution_count": null,
   "metadata": {
    "colab": {},
    "colab_type": "code",
    "id": "t7rjQfUKx7RA",
    "slideshow": {
     "slide_type": "fragment"
    }
   },
   "outputs": [],
   "source": [
    "print(next(primes))\n",
    "print(next(primes))\n",
    "print(next(primes))"
   ]
  },
  {
   "cell_type": "code",
   "execution_count": null,
   "metadata": {
    "colab": {},
    "colab_type": "code",
    "id": "JMBVM6dgx-jJ",
    "slideshow": {
     "slide_type": "subslide"
    }
   },
   "outputs": [],
   "source": [
    "for _, prime in zip(range(20), primes):\n",
    "    print(prime, end=\" \")"
   ]
  },
  {
   "cell_type": "code",
   "execution_count": null,
   "metadata": {
    "colab": {},
    "colab_type": "code",
    "id": "AqxREoSwyC5J",
    "slideshow": {
     "slide_type": "fragment"
    }
   },
   "outputs": [],
   "source": [
    "print(next(primes))"
   ]
  },
  {
   "cell_type": "markdown",
   "metadata": {
    "colab_type": "text",
    "id": "TR3Bc-bSywgT",
    "slideshow": {
     "slide_type": "skip"
    }
   },
   "source": [
    "Do you want an infinite number of palindrome numbers?\n",
    "\n",
    "$\\Rightarrow$\n",
    "<https://github.com/fpro-feup/public/blob/master/lectures/18/palindromes.py>\n"
   ]
  },
  {
   "cell_type": "markdown",
   "metadata": {
    "colab_type": "text",
    "id": "ppn5s__nzOIO",
    "slideshow": {
     "slide_type": "subslide"
    }
   },
   "source": [
    "### Lazy Evaluation (again)\n",
    "\n",
    "> Iterators:\n",
    ">\n",
    "> Iterators are lazy sequences rather than realised collections\n",
    "\n",
    "- Python does not quite offer *lazy data structures* in the sense of a\n",
    "    language like Haskell\n",
    "\n",
    "- However, use of the iterator protocol and Python's many built-in or\n",
    "    standard library iteratables, accomplish much the same effect as an\n",
    "    actual lazy data structure\n",
    "\n",
    "- The easiest way to create an iterator --- that is to say, a lazy\n",
    "    sequence --- in Python is to define a **generator function**\n",
    "\n",
    "- Well, technically, the easiest way is to use one of the many\n",
    "    *iterable objects* already produced by built-ins or the standard\n",
    "    library rather than programming a custom one at all\n",
    "\n",
    "- The module `itertools` is a collection of very powerful, and\n",
    "    carefully designed, functions for performing *iterator algebra*\n"
   ]
  },
  {
   "cell_type": "markdown",
   "metadata": {
    "slideshow": {
     "slide_type": "skip"
    }
   },
   "source": [
    "### Lazyness & the sieve again"
   ]
  },
  {
   "cell_type": "code",
   "execution_count": null,
   "metadata": {
    "slideshow": {
     "slide_type": "skip"
    }
   },
   "outputs": [],
   "source": [
    "from IPython.display import YouTubeVideo\n",
    "YouTubeVideo('5jwV3zxXc8E')"
   ]
  },
  {
   "cell_type": "markdown",
   "metadata": {
    "colab_type": "text",
    "id": "XnyMfLVDjusV",
    "slideshow": {
     "slide_type": "subslide"
    }
   },
   "source": [
    "## Utility Higher-Order Functions (HOF)"
   ]
  },
  {
   "cell_type": "markdown",
   "metadata": {
    "colab_type": "text",
    "id": "Ft0ainpUzlR_",
    "slideshow": {
     "slide_type": "subslide"
    }
   },
   "source": [
    "### Higher-Order Functions (recap)\n",
    "\n",
    "- Higher-order functions (often abbreviated as \"HOF\") provide building\n",
    "    blocks to express complex concepts by combining simpler functions\n",
    "    into new functions\n",
    "\n",
    "- In general, a higher-order function is simply a function that takes\n",
    "    one or more functions as arguments and/or produces a function as a\n",
    "    result\n",
    "\n",
    "- It is common the think of `map()`, `filter()`, and\n",
    "    `functools.reduce()` as the most basic building blocks of\n",
    "    higher-order functions\n",
    "\n",
    "- Almost as basic as map/filter/reduce as a building block is currying\n",
    "\n",
    "- In Python, `partial()` is contained in the `functools` module\n",
    "\n",
    "    - This is a function that will take another function, along with\n",
    "        zero or more arguments to pre-fill, and return a function of\n",
    "        fewer arguments that operates as the input function would when\n",
    "        those arguments are passed to it"
   ]
  },
  {
   "cell_type": "markdown",
   "metadata": {
    "colab_type": "text",
    "id": "N-2ljj3Rz00_",
    "slideshow": {
     "slide_type": "subslide"
    }
   },
   "source": [
    "### First-class Functions (recap)\n",
    "\n",
    "- Functions are first-class in Python:\n",
    "\n",
    "    1.  they can be assigned to variables\n",
    "\n",
    "    2.  passed as parameters\n",
    "\n",
    "    3.  used as return values\n",
    "\n",
    "    4.  stored in data structures\n",
    "\n",
    "- **First-class functions** are a very powerful programming idea, not\n",
    "    present in all languages"
   ]
  },
  {
   "cell_type": "markdown",
   "metadata": {
    "colab_type": "text",
    "id": "eZholsVvjxUw",
    "slideshow": {
     "slide_type": "subslide"
    }
   },
   "source": [
    "## Equivalences of comprehensions and HOF"
   ]
  },
  {
   "cell_type": "markdown",
   "metadata": {
    "colab_type": "text",
    "id": "v51zFF3R-R0m",
    "slideshow": {
     "slide_type": "subslide"
    }
   },
   "source": [
    "### Equivalencies\n",
    "\n",
    "- The built-in functions `map()` and `filter()` are equivalent to\n",
    "    comprehensions (especially now that generator comprehensions are\n",
    "    available)\n",
    "\n",
    "```\n",
    "  # Classic \"FP-style\"\n",
    "  transformed = map(tranformation, iterator)\n",
    "\n",
    "  # Comprehension\n",
    "  transformed = (transformation(x) for x in iterator)\n",
    "```"
   ]
  },
  {
   "cell_type": "markdown",
   "metadata": {
    "colab_type": "text",
    "id": "eexGFQiW-XU2",
    "slideshow": {
     "slide_type": "fragment"
    }
   },
   "source": [
    "```\n",
    "  # Classic \"FP-style\"\n",
    "  filtered = filter(predicate, iterator)\n",
    "  \n",
    "  # Comprehension\n",
    "  filtered = (x for x in iterator if predicate(x))\n",
    "```"
   ]
  },
  {
   "cell_type": "markdown",
   "metadata": {
    "colab_type": "text",
    "id": "yMVd113u-dCq",
    "slideshow": {
     "slide_type": "subslide"
    }
   },
   "source": [
    "### As for `reduce()`...\n",
    "\n",
    "```\n",
    "  from functools import reduce\n",
    "  total = reduce(operator.add, it, 0)\n",
    "  \n",
    "  total = sum(it)\n",
    "```"
   ]
  },
  {
   "cell_type": "markdown",
   "metadata": {
    "colab_type": "text",
    "id": "Riv9LknuHpLf",
    "slideshow": {
     "slide_type": "slide"
    }
   },
   "source": [
    "# A larger example"
   ]
  },
  {
   "cell_type": "markdown",
   "metadata": {
    "colab_type": "text",
    "id": "XynDHJ_CHtQT",
    "slideshow": {
     "slide_type": "subslide"
    }
   },
   "source": [
    "### Newton's method\n",
    "\n",
    "- This extended example shows how function return values and local definitions can work together to express general ideas concisely\n",
    "\n",
    "- We will implement an algorithm that is used broadly in machine learning, scientific computing, hardware design, and optimization\n",
    "\n",
    "- Newton's method is a classic iterative approach to finding the arguments of a mathematical function that yield a return value of 0. These values are called the zeros of the function\n",
    "\n",
    "- Newton's method is an iterative improvement algorithm: it improves a guess of the zero for any function that is differentiable, which means that it can be approximated by a straight line at any point\n",
    "\n",
    "- Newton's method follows these linear approximations to find function zeros\n",
    "\n",
    "$\\Rightarrow$\n",
    "[Composing Programs, \"1.6.5 Example: Newton's Method\"](https://composingprograms.com/pages/16-higher-order-functions.html)"
   ]
  },
  {
   "cell_type": "code",
   "execution_count": null,
   "metadata": {
    "colab": {},
    "colab_type": "code",
    "id": "GCeamchEIgM2",
    "slideshow": {
     "slide_type": "subslide"
    }
   },
   "outputs": [],
   "source": [
    "def improve(update, close, guess=1):\n",
    "    while not close(guess):\n",
    "        guess = update(guess)\n",
    "    return guess"
   ]
  },
  {
   "cell_type": "code",
   "execution_count": null,
   "metadata": {
    "colab": {},
    "colab_type": "code",
    "id": "Rzt9gaQ1Ii3h",
    "slideshow": {
     "slide_type": "subslide"
    }
   },
   "outputs": [],
   "source": [
    "def newton_update(f, df):\n",
    "    def update(x):\n",
    "        return x - f(x) / df(x)\n",
    "    return update"
   ]
  },
  {
   "cell_type": "code",
   "execution_count": null,
   "metadata": {
    "colab": {},
    "colab_type": "code",
    "id": "St0Mt86aLSWY",
    "slideshow": {
     "slide_type": "subslide"
    }
   },
   "outputs": [],
   "source": [
    "def approx_eq(x, y, tolerance=1e-15):\n",
    "    return abs(x - y) < tolerance"
   ]
  },
  {
   "cell_type": "code",
   "execution_count": null,
   "metadata": {
    "colab": {},
    "colab_type": "code",
    "id": "lSKgf1ZLIlH2",
    "slideshow": {
     "slide_type": "fragment"
    }
   },
   "outputs": [],
   "source": [
    "def find_zero(f, df):\n",
    "    def near_zero(x):\n",
    "        return approx_eq(f(x), 0)\n",
    "    return improve(newton_update(f, df), near_zero)"
   ]
  },
  {
   "cell_type": "code",
   "execution_count": null,
   "metadata": {
    "colab": {},
    "colab_type": "code",
    "id": "COaBzQ6zJlBz",
    "slideshow": {
     "slide_type": "subslide"
    }
   },
   "outputs": [],
   "source": [
    "def square_root_newton(a):\n",
    "    def f(x):\n",
    "        return x * x - a\n",
    "    def df(x):\n",
    "        return 2 * x\n",
    "    return find_zero(f, df)"
   ]
  },
  {
   "cell_type": "code",
   "execution_count": null,
   "metadata": {
    "colab": {},
    "colab_type": "code",
    "id": "bK4wKclPJoWc",
    "slideshow": {
     "slide_type": "fragment"
    }
   },
   "outputs": [],
   "source": [
    "print(square_root_newton(64))"
   ]
  },
  {
   "cell_type": "markdown",
   "metadata": {
    "colab_type": "text",
    "id": "pDH3N8YvLd0f",
    "slideshow": {
     "slide_type": "skip"
    }
   },
   "source": [
    "$\\Rightarrow$\n",
    "<https://github.com/fpro-feup/public/blob/master/lectures/18/newton.py>"
   ]
  },
  {
   "cell_type": "markdown",
   "metadata": {
    "colab_type": "text",
    "id": "Zz-UtV8ORH_t",
    "slideshow": {
     "slide_type": "slide"
    }
   },
   "source": [
    "# Ticket to leave"
   ]
  },
  {
   "cell_type": "markdown",
   "metadata": {
    "colab_type": "text",
    "id": "C-hchAExRRVh",
    "slideshow": {
     "slide_type": "subslide"
    }
   },
   "source": [
    "## Moodle activity\n",
    "\n",
    "[LE18: Effect-free programming style](https://moodle.up.pt/course/view.php?id=1738#section-1)"
   ]
  },
  {
   "cell_type": "markdown",
   "metadata": {
    "colab_type": "text",
    "id": "uV1OP6ahRYne",
    "slideshow": {
     "slide_type": "skip"
    }
   },
   "source": [
    "\n",
    "$\\Rightarrow$ \n",
    "[Go back to the Table of Contents](00-contents.ipynb)\n",
    "\n",
    "$\\Rightarrow$ \n",
    "[Read the Preface](00-preface.ipynb)"
   ]
  }
 ],
 "metadata": {
  "colab": {
   "collapsed_sections": [],
   "name": "18-effect-free.ipynb",
   "private_outputs": true,
   "provenance": [],
   "toc_visible": true
  },
  "kernelspec": {
   "display_name": "Python 3",
   "language": "python",
   "name": "python3"
  },
  "language_info": {
   "codemirror_mode": {
    "name": "ipython",
    "version": 3
   },
   "file_extension": ".py",
   "mimetype": "text/x-python",
   "name": "python",
   "nbconvert_exporter": "python",
   "pygments_lexer": "ipython3",
   "version": "3.8.5"
  },
  "rise": {
   "enable_chalkboard": true
  }
 },
 "nbformat": 4,
 "nbformat_minor": 1
}
