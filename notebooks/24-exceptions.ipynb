{
 "cells": [
  {
   "cell_type": "markdown",
   "metadata": {
    "colab_type": "text",
    "id": "8z5cONg8rUrX",
    "slideshow": {
     "slide_type": "slide"
    }
   },
   "source": [
    "# Exceptions\n",
    "\n",
    "## Programming Fundamentals (NB24)\n",
    "\n",
    "### MIEIC/2020-21\n",
    "\n",
    "#### João Correia Lopes\n",
    "\n",
    "FEUP/DEI and INESC TEC"
   ]
  },
  {
   "cell_type": "markdown",
   "metadata": {
    "colab_type": "text",
    "id": "MZzE7pYorju5",
    "slideshow": {
     "slide_type": "subslide"
    }
   },
   "source": [
    "## Goals\n",
    "\n",
    "By the end of this class, the student should be able to:\n",
    "\n",
    "- Write code to catch and handle *runtime* exceptions that may occur during program execution\n",
    "\n",
    "- Raise exceptions when a program detects an error condition\n",
    "\n",
    "- Assert conditions that must be true during execution\n"
   ]
  },
  {
   "cell_type": "markdown",
   "metadata": {
    "colab_type": "text",
    "id": "eR5Lh1jNroE2",
    "slideshow": {
     "slide_type": "subslide"
    }
   },
   "source": [
    "## Bibliography\n",
    "\n",
    "- Peter Wentworth, Jeffrey Elkner, Allen B. Downey, and Chris Meyers, *How to Think Like a Computer Scientist — Learning with Python 3* (Appendix E)\n",
    "\n",
    "- The Python Tutorial, *8. Errors and Exceptions*, Python 3.8 documentation, December 10, 2019 (Section 8)\n"
   ]
  },
  {
   "cell_type": "markdown",
   "metadata": {
    "colab_type": "text",
    "id": "8maMPjbu5rX-",
    "slideshow": {
     "slide_type": "subslide"
    }
   },
   "source": [
    "# Exceptions"
   ]
  },
  {
   "cell_type": "markdown",
   "metadata": {
    "colab_type": "text",
    "id": "gxH2AKyT7Cdv",
    "slideshow": {
     "slide_type": "subslide"
    }
   },
   "source": [
    "### Divide by zero\n",
    "\n",
    "- For example, dividing by zero creates an exception:\n",
    "\n",
    "```\n",
    ">>> print(1/0)\n",
    "Traceback (most recent call last):\n",
    "File \"<interactive input>\", line 1, in <module>\n",
    "ZeroDivisionError: integer division or modulo by zero\n",
    "```"
   ]
  },
  {
   "cell_type": "markdown",
   "metadata": {
    "colab_type": "text",
    "id": "zdz0Bg2HqFPV",
    "slideshow": {
     "slide_type": "skip"
    }
   },
   "source": [
    "Try it:"
   ]
  },
  {
   "cell_type": "code",
   "execution_count": null,
   "metadata": {
    "colab": {},
    "colab_type": "code",
    "id": "TtjAcogPp8Rj",
    "slideshow": {
     "slide_type": "fragment"
    }
   },
   "outputs": [],
   "source": [
    "print(1/0)"
   ]
  },
  {
   "cell_type": "markdown",
   "metadata": {
    "colab_type": "text",
    "id": "zJtbo2t76pYB",
    "slideshow": {
     "slide_type": "subslide"
    }
   },
   "source": [
    "### Some Common Exceptions\n",
    "\n",
    "Here are some basic exceptions that you might encounter when\n",
    "writing programs:\n",
    "\n",
    "- `NameError` --- raised when the program cannot find a local or\n",
    "    global name\n",
    "\n",
    "- `TypeError` --- raised when a function is passed an object of the\n",
    "    inappropriate type as its argument\n",
    "\n",
    "- `ValueError` --- occurs when a function argument has the right type\n",
    "    but an inappropriate value\n",
    "\n",
    "- `ZeroDivisionError` --- raised when you provide the second argument\n",
    "    for a division or modulo operation as zero\n",
    "\n",
    "- `FileNotFoundError` --- raised when the file or directory that the\n",
    "    program requested does not exist\n",
    "\n",
    "$\\Rightarrow$\n",
    "[https://code.tutsplus.com/tutorials/](https://code.tutsplus.com/tutorials/how-to-handle-exceptions-in-python--cms-28621)"
   ]
  },
  {
   "cell_type": "markdown",
   "metadata": {
    "colab_type": "text",
    "id": "2mzLdOQU5vtW",
    "slideshow": {
     "slide_type": "subslide"
    }
   },
   "source": [
    "## E.1 Catching exceptions"
   ]
  },
  {
   "cell_type": "markdown",
   "metadata": {
    "colab_type": "text",
    "id": "oL_JQkfa6z2X",
    "slideshow": {
     "slide_type": "subslide"
    }
   },
   "source": [
    "### Runtime errors\n",
    "\n",
    "- Whenever a runtime error occurs, it creates an **exception** object\n",
    "\n",
    "- The program stops running at this point and Python prints out the\n",
    "    traceback, which ends with a message describing the exception that\n",
    "    occurred\n",
    "\n",
    "- The error message on the last line has two parts: \n",
    "\n",
    "  - the type of error before the colon, and \n",
    "  - specifics about the error after the colon\n",
    "\n",
    "```\n",
    "   >>> tup = (\"a\", \"b\", \"d\", \"d\")\n",
    "   >>> tup[2] = \"c\"\n",
    "   Traceback (most recent call last):\n",
    "     File \"<interactive input>\", line 1, in <module>\n",
    "   TypeError: 'tuple' object does not support item assignment\n",
    "```"
   ]
  },
  {
   "cell_type": "markdown",
   "metadata": {
    "colab_type": "text",
    "id": "AoJDfqp37c68",
    "slideshow": {
     "slide_type": "subslide"
    }
   },
   "source": [
    "### Catching exceptions\n",
    "\n",
    "- Sometimes we want to execute an operation that might cause an\n",
    "    exception, but we don't want the program to stop\n",
    "\n",
    "- We can handle the exception using the `try` statement to \"wrap\" a\n",
    "    region of code\n",
    "\n",
    "- The `except` statement *catches* the exception\n",
    "\n",
    "```\n",
    "  filename = input(\"Enter a file name: \")\n",
    "  try:\n",
    "      f = open(filename, \"r\")\n",
    "  except FileNotFoundError:\n",
    "      print(\"There is no file named\", filename)\n",
    "  ...\n",
    "```\n",
    "\n",
    "- Each `except` statement receives the error type (e.g. `FileNotFoundError`)\n",
    "\n",
    "- An `else` block is executed after the `try` one, if no exception\n",
    "    occurred\n",
    "\n",
    "- A `finally` block is executed in any case\n",
    "\n",
    "$\\Rightarrow$\n",
    "<https://github.com/fpro-feup/public/blob/master/lectures/24/try.py>"
   ]
  },
  {
   "cell_type": "markdown",
   "metadata": {
    "colab_type": "text",
    "id": "NKsYN39PxAau",
    "slideshow": {
     "slide_type": "subslide"
    }
   },
   "source": [
    "### Use of the optional `else` clause\n",
    "\n",
    "> The use of the `else` clause is better than adding additional code to the `try` clause because it avoids accidentally catching an exception that wasn’t raised by the code being protected by the `try ... except` statement.\n",
    "\n",
    "$\\Rightarrow$\n",
    "https://docs.python.org/3/tutorial/errors.html#handling-exceptions"
   ]
  },
  {
   "cell_type": "markdown",
   "metadata": {
    "colab_type": "text",
    "id": "GmnVDfk6r6vu",
    "slideshow": {
     "slide_type": "skip"
    }
   },
   "source": [
    "Try this:"
   ]
  },
  {
   "cell_type": "code",
   "execution_count": null,
   "metadata": {
    "colab": {},
    "colab_type": "code",
    "id": "Ww7MIgDTr8mj",
    "slideshow": {
     "slide_type": "subslide"
    }
   },
   "outputs": [],
   "source": [
    "user_input = input(\"Type a number: \")\n",
    "\n",
    "try:\n",
    "    # Try do do something that could fail.\n",
    "    user_input_as_number = float(user_input)\n",
    "except ValueError:\n",
    "    # This will be executed if a \"ValueError\" is raised\n",
    "    print(\"You did not enter a number.\")\n",
    "else:\n",
    "    # This will be executed if no exception got raised in the \"try\"\n",
    "    print(\"The square of your number is \", user_input_as_number**2)\n",
    "finally:\n",
    "    # This will be executed whether or not an exception is raised\n",
    "    print(\"Thank you.\")"
   ]
  },
  {
   "cell_type": "markdown",
   "metadata": {
    "colab_type": "text",
    "id": "YOjTB1oD77Jg",
    "slideshow": {
     "slide_type": "subslide"
    }
   },
   "source": [
    "### Catching exceptions\n",
    "\n",
    "![image](images/24/realpython.png)\n",
    "\n",
    "$\\Rightarrow$ <https://realpython.com/python-exceptions/>"
   ]
  },
  {
   "cell_type": "markdown",
   "metadata": {
    "colab_type": "text",
    "id": "9JrY4KXX9cKd",
    "slideshow": {
     "slide_type": "subslide"
    }
   },
   "source": [
    "### A Complete Example"
   ]
  },
  {
   "cell_type": "code",
   "execution_count": null,
   "metadata": {
    "colab": {},
    "colab_type": "code",
    "id": "_Sy7--6L9hJ-",
    "slideshow": {
     "slide_type": "fragment"
    }
   },
   "outputs": [],
   "source": [
    "import math\n",
    " \n",
    "number_list = [10, -5, 1.2, 'apple']\n",
    " \n",
    "for number in number_list:\n",
    "    try:\n",
    "        number_factorial = math.factorial(number)\n",
    "    except TypeError:\n",
    "        print(\"Factorial is not supported for given input type.\")\n",
    "    except ValueError:\n",
    "        print(f\"Factorial only accepts positive integer values. {number}, is not a positive integer.\")\n",
    "    else:\n",
    "        print(f\"The factorial of {number} is {number_factorial}\")\n",
    "    finally:\n",
    "        print(\"Release any resources in use.\")"
   ]
  },
  {
   "cell_type": "markdown",
   "metadata": {
    "colab_type": "text",
    "id": "KNoQkkuv902Z",
    "slideshow": {
     "slide_type": "skip"
    }
   },
   "source": [
    "$\\Rightarrow$\n",
    "<https://github.com/fpro-feup/public/blob/master/lectures/24/example.py>\n"
   ]
  },
  {
   "cell_type": "markdown",
   "metadata": {
    "colab_type": "text",
    "id": "3Pu5kVhr5zMl",
    "slideshow": {
     "slide_type": "subslide"
    }
   },
   "source": [
    "## E.2 Raising exceptions"
   ]
  },
  {
   "cell_type": "markdown",
   "metadata": {
    "colab_type": "text",
    "id": "jJ670867-Oqj",
    "slideshow": {
     "slide_type": "subslide"
    }
   },
   "source": [
    "### Raising our own exceptions\n",
    "\n",
    "- Can our program deliberately cause its own exceptions?\n",
    "\n",
    "- If our program detects an error condition, we can raise an exception\n",
    "\n",
    "- If there's a chain of calls, \"*unwinding the call stack*\" takes\n",
    "    place until a `try ... except` is found\n",
    "\n",
    "```\n",
    "  def get_age():\n",
    "      age = int(input(\"Please enter your age: \"))\n",
    "      if age < 0:\n",
    "          # Create a new instance of an exception\n",
    "          my_error = ValueError(f\"{age} is not a valid age\")\n",
    "          raise my_error\n",
    "      return age\n",
    "```\n",
    "\n",
    "$\\Rightarrow$\n",
    "<https://github.com/fpro-feup/public/blob/master/lectures/24/age.py>"
   ]
  },
  {
   "cell_type": "markdown",
   "metadata": {
    "colab_type": "text",
    "id": "Jv0pWmDysyC7",
    "slideshow": {
     "slide_type": "subslide"
    }
   },
   "source": [
    "Test for a valid age."
   ]
  },
  {
   "cell_type": "code",
   "execution_count": null,
   "metadata": {
    "colab": {},
    "colab_type": "code",
    "id": "V__D7Ng_tD5p",
    "slideshow": {
     "slide_type": "fragment"
    }
   },
   "outputs": [],
   "source": [
    "def get_age(age):\n",
    "    if age < 0 or age > 120:\n",
    "        # Create a new instance of an exception\n",
    "        my_error = ValueError(f\"{age} is not a valid age\")\n",
    "        raise my_error\n",
    "    return age\n",
    "\n",
    "age = int(input(\"Please enter your age: \"))\n",
    "print(get_age(age))"
   ]
  },
  {
   "cell_type": "markdown",
   "metadata": {
    "colab_type": "text",
    "id": "Pasl9ZGIyH0B",
    "slideshow": {
     "slide_type": "subslide"
    }
   },
   "source": [
    "### Further to `raise`\n",
    "\n",
    "- Programs may name their own exceptions by creating a new exception class (see [Classes](https://docs.python.org/3/tutorial/classes.html#tut-classes) for more about Python classes). \n",
    "\n",
    "- Exceptions should typically be derived from the `Exception` class, either directly or indirectly.\n",
    "\n",
    "$\\Rightarrow$\n",
    "https://docs.python.org/3/tutorial/errors.html#user-defined-exceptions"
   ]
  },
  {
   "cell_type": "markdown",
   "metadata": {
    "colab_type": "text",
    "id": "axz8GQNb-m42",
    "slideshow": {
     "slide_type": "subslide"
    }
   },
   "source": [
    "## E.3 Revisiting an earlier example\n",
    "\n",
    "- Using exception handling, we can now modify our `recursion_depth`\n",
    "  previous example so that it stops when it reaches the maximum recursion \n",
    "  depth allowed\n",
    "\n",
    "$\\Rightarrow$\n",
    "<https://github.com/fpro-feup/public/blob/master/lectures/24/rec_depth.py>"
   ]
  },
  {
   "cell_type": "code",
   "execution_count": null,
   "metadata": {
    "colab": {},
    "colab_type": "code",
    "id": "m4AA5m4ptvfP",
    "slideshow": {
     "slide_type": "fragment"
    }
   },
   "outputs": [],
   "source": [
    "def recursion_depth(number):\n",
    "    print(\"Recursion depth number\", number)\n",
    "    try:\n",
    "        recursion_depth(number + 1)\n",
    "    except:\n",
    "        print(f\"I cannot go any deeper into this wormhole... {number}\")\n",
    "\n",
    "recursion_depth(0)"
   ]
  },
  {
   "cell_type": "markdown",
   "metadata": {
    "colab_type": "text",
    "id": "780WFi1k56bG",
    "slideshow": {
     "slide_type": "subslide"
    }
   },
   "source": [
    "## E.4 The `finally` clause of the `try` statement"
   ]
  },
  {
   "cell_type": "markdown",
   "metadata": {
    "colab_type": "text",
    "id": "UfF9uvny_GdJ",
    "slideshow": {
     "slide_type": "subslide"
    }
   },
   "source": [
    "### `finally`\n",
    "\n",
    "- A common programming pattern is to grab a resource of some kind\n",
    "\n",
    "- Then we perform some computation which may raise an exception, or\n",
    "    may work without any problems\n",
    "\n",
    "- Whatever happens, we want to \"clean up\" the resources we grabbed\n"
   ]
  },
  {
   "cell_type": "markdown",
   "metadata": {
    "colab_type": "text",
    "id": "qXR_MlunIjsS",
    "slideshow": {
     "slide_type": "fragment"
    }
   },
   "source": [
    "\n",
    "Try it here:\n",
    "\n",
    "$\\Rightarrow$\n",
    "<https://github.com/fpro-feup/public/blob/master/lectures/24/show_poly.py>"
   ]
  },
  {
   "cell_type": "markdown",
   "metadata": {
    "colab_type": "text",
    "id": "ADPN5Qef59xX",
    "slideshow": {
     "slide_type": "subslide"
    }
   },
   "source": [
    "## The `assert` statement"
   ]
  },
  {
   "cell_type": "markdown",
   "metadata": {
    "colab_type": "text",
    "id": "HEyehW0c_PSc",
    "slideshow": {
     "slide_type": "subslide"
    }
   },
   "source": [
    "### Assertions\n",
    "\n",
    "- Assertions are statements that assert or state a fact\n",
    "\n",
    "- Assertions are simply boolean expressions that checks if the\n",
    "    conditions return true or not: if it's false, the program stops and\n",
    "    throws an error (`AssertError`)\n",
    "\n",
    "- `assert` statement takes an expression and an optional message\n",
    "\n",
    "- Assertions are used to check types, values of argument and the\n",
    "    output of the function\n",
    "\n",
    "- Assertions are used as debugging tool as it halts the program at the\n",
    "    point where an error occurs\n",
    "\n",
    "$\\Rightarrow$\n",
    "<https://github.com/fpro-feup/public/blob/master/lectures/24/assert.py>"
   ]
  },
  {
   "cell_type": "markdown",
   "metadata": {
    "colab_type": "text",
    "id": "taoBE-HOI43o",
    "slideshow": {
     "slide_type": "subslide"
    }
   },
   "source": [
    "Use assert [[Programiz]](https://www.programiz.com/python-programming/assert-statement):"
   ]
  },
  {
   "cell_type": "code",
   "execution_count": null,
   "metadata": {
    "colab": {},
    "colab_type": "code",
    "id": "AMlTfRgNI-Wt",
    "slideshow": {
     "slide_type": "fragment"
    }
   },
   "outputs": [],
   "source": [
    "def avg(marks):\n",
    "    # Cannot divide by zero\n",
    "    assert len(marks) != 0, \"List is empty.\"\n",
    "    return sum(marks)/len(marks)"
   ]
  },
  {
   "cell_type": "code",
   "execution_count": null,
   "metadata": {
    "colab": {},
    "colab_type": "code",
    "id": "5CyYK5YGJJyZ",
    "slideshow": {
     "slide_type": "fragment"
    }
   },
   "outputs": [],
   "source": [
    "mark2 = [55, 88, 78, 90, 79]\n",
    "print(f\"Average of mark2: {avg(mark2)}\")"
   ]
  },
  {
   "cell_type": "code",
   "execution_count": null,
   "metadata": {
    "colab": {},
    "colab_type": "code",
    "id": "kI0hVQAhJOYS",
    "slideshow": {
     "slide_type": "fragment"
    }
   },
   "outputs": [],
   "source": [
    "mark1 = []\n",
    "print(f\"Average of mark1: {avg(mark1)}\")"
   ]
  },
  {
   "cell_type": "markdown",
   "metadata": {
    "colab_type": "text",
    "id": "9UikHuJm6D10",
    "slideshow": {
     "slide_type": "subslide"
    }
   },
   "source": [
    "## Examples & Summary"
   ]
  },
  {
   "cell_type": "markdown",
   "metadata": {
    "colab_type": "text",
    "id": "yoBPaWeQ_qwU",
    "slideshow": {
     "slide_type": "subslide"
    }
   },
   "source": [
    "### The Most Diabolical Python Antipattern\n",
    "\n",
    "- There are plenty of ways to write bad code\n",
    "\n",
    "- But in Python, one in particular reigns as king\n",
    "\n",
    "```\n",
    "  try:\n",
    "      do_something()\n",
    "  except:\n",
    "      pass\n",
    "```\n",
    "\n",
    "$\\Rightarrow$\n",
    "<https://realpython.com/the-most-diabolical-python-antipattern/>"
   ]
  },
  {
   "cell_type": "markdown",
   "metadata": {
    "colab_type": "text",
    "id": "OrlgCsDq_3nl",
    "slideshow": {
     "slide_type": "subslide"
    }
   },
   "source": [
    "### Validate user input\n",
    "\n",
    "```\n",
    "  def inputNumber(message):\n",
    "      while True:\n",
    "          try:\n",
    "              userInput = int(input(message))       \n",
    "          except ValueError:\n",
    "              print(\"Not an integer! Try again.\")\n",
    "              continue\n",
    "          else:\n",
    "              return userInput \n",
    "\n",
    "  age = inputNumber(\"How old are you?\")\n",
    "```"
   ]
  },
  {
   "cell_type": "markdown",
   "metadata": {
    "slideshow": {
     "slide_type": "subslide"
    }
   },
   "source": [
    "### An example (with a flavor of classes)\n",
    "\n",
    "- Do you remember playing with \"rock, scissors, paper\"\n",
    "\n",
    "- Now, we can do a better implementation of the game\n",
    "\n",
    "  - Describe an action with `enum.IntEnum`\n",
    "  - Describe more complex rules with a dictionary\n",
    "  - Take in user input with `input()`\n",
    "  - Validate the input with exceptions\n",
    "  - Make the computer choose w/ random\n",
    "  \n",
    "$\\Rightarrow$\n",
    "<https://realpython.com/python-rock-paper-scissors/>\n",
    "\n",
    "$\\Rightarrow$\n",
    "<https://github.com/fpro-feup/public/blob/master/lectures/24/rock_scissors.py>"
   ]
  },
  {
   "cell_type": "code",
   "execution_count": null,
   "metadata": {
    "slideshow": {
     "slide_type": "subslide"
    }
   },
   "outputs": [],
   "source": [
    "# Describe an action with enum.IntEnum\n",
    "\n",
    "from enum import IntEnum\n",
    "class Action(IntEnum):\n",
    "    Rock = 0\n",
    "    Paper = 1\n",
    "    Scissors = 2\n",
    "    Lizard = 3\n",
    "    Spock = 4"
   ]
  },
  {
   "cell_type": "code",
   "execution_count": null,
   "metadata": {
    "slideshow": {
     "slide_type": "subslide"
    }
   },
   "outputs": [],
   "source": [
    "# Describe more complex rules with a dictionary\n",
    "\n",
    "victories = {\n",
    "    Action.Scissors: [Action.Lizard, Action.Paper],\n",
    "    Action.Paper: [Action.Spock, Action.Rock],\n",
    "    Action.Rock: [Action.Lizard, Action.Scissors],\n",
    "    Action.Lizard: [Action.Spock, Action.Paper],\n",
    "    Action.Spock: [Action.Scissors, Action.Rock]\n",
    "}"
   ]
  },
  {
   "cell_type": "code",
   "execution_count": null,
   "metadata": {
    "slideshow": {
     "slide_type": "subslide"
    }
   },
   "outputs": [],
   "source": [
    "# Take in user input with input()\n",
    "\n",
    "def get_user_selection():\n",
    "    choices = [f\"{action.name}[{action.value}]\" for action in Action]\n",
    "    choices_str = \", \".join(choices)\n",
    "    selection = int(input(f\"Enter a choice ({choices_str}): \"))\n",
    "    action = Action(selection)\n",
    "    return action"
   ]
  },
  {
   "cell_type": "code",
   "execution_count": null,
   "metadata": {
    "slideshow": {
     "slide_type": "subslide"
    }
   },
   "outputs": [],
   "source": [
    "# Make the computer choose\n",
    "\n",
    "import random\n",
    "def get_computer_selection():\n",
    "    selection = random.randint(0, len(Action) - 1)\n",
    "    action = Action(selection)\n",
    "    return action"
   ]
  },
  {
   "cell_type": "code",
   "execution_count": null,
   "metadata": {
    "slideshow": {
     "slide_type": "subslide"
    }
   },
   "outputs": [],
   "source": [
    "# Determine a winner based on players' choices\n",
    "\n",
    "def determine_winner(user_action, computer_action):\n",
    "    defeats = victories[user_action]\n",
    "    if user_action == computer_action:\n",
    "        print(f\"Both players selected {user_action.name}. It's a tie!\")\n",
    "    elif computer_action in defeats:\n",
    "        print(f\"{user_action.name} beats {computer_action.name}! You win!\")\n",
    "    else:\n",
    "        print(f\"{computer_action.name} beats {user_action.name}! You lose.\")"
   ]
  },
  {
   "cell_type": "code",
   "execution_count": null,
   "metadata": {
    "slideshow": {
     "slide_type": "subslide"
    }
   },
   "outputs": [],
   "source": [
    "# Play Several Games in a Row\n",
    "\n",
    "while True:\n",
    "    try:\n",
    "        user_action = get_user_selection()\n",
    "    except ValueError as e:\n",
    "        range_str = f\"[0, {len(Action) - 1}]\"\n",
    "        print(f\"Invalid selection. Enter a value in range {range_str}\")\n",
    "        continue\n",
    "\n",
    "    computer_action = get_computer_selection()\n",
    "    determine_winner(user_action, computer_action)\n",
    "\n",
    "    play_again = input(\"Play again? (y/n): \")\n",
    "    if play_again.lower() != \"y\":\n",
    "        break"
   ]
  },
  {
   "cell_type": "markdown",
   "metadata": {
    "colab_type": "text",
    "id": "IFFHbKh6ABZj",
    "slideshow": {
     "slide_type": "subslide"
    }
   },
   "source": [
    "### Nested `try`\n",
    "\n",
    "```\n",
    "  try:\n",
    "      try:\n",
    "          raise ValueError('1')\n",
    "      except TypeError:\n",
    "          print(\"Caught the type error\")\n",
    "  except ValueError:\n",
    "      print(\"Caught the value error!\")\n",
    "```\n",
    "\n",
    "$\\Rightarrow$\n",
    "<https://github.com/fpro-feup/public/blob/master/lectures/24/nested_try.py>"
   ]
  },
  {
   "cell_type": "markdown",
   "metadata": {
    "colab_type": "text",
    "id": "-UVqQetCKPzf",
    "slideshow": {
     "slide_type": "subslide"
    }
   },
   "source": [
    "Try the nested `try`here:"
   ]
  },
  {
   "cell_type": "code",
   "execution_count": null,
   "metadata": {
    "colab": {},
    "colab_type": "code",
    "id": "I_mIqXjXKUZ7",
    "slideshow": {
     "slide_type": "fragment"
    }
   },
   "outputs": [],
   "source": [
    "try:\n",
    "    try:\n",
    "        raise ValueError('1')\n",
    "    except TypeError:\n",
    "        print(\"Caught the type error\")\n",
    "except ValueError:\n",
    "    print(\"Caught the value error!\")"
   ]
  },
  {
   "cell_type": "markdown",
   "metadata": {
    "colab_type": "text",
    "id": "VhtzuKHpKY08",
    "slideshow": {
     "slide_type": "subslide"
    }
   },
   "source": [
    "### Nested exceptions example"
   ]
  },
  {
   "cell_type": "code",
   "execution_count": null,
   "metadata": {
    "colab": {},
    "colab_type": "code",
    "id": "tfYQ2Zx6KeQc",
    "slideshow": {
     "slide_type": "fragment"
    }
   },
   "outputs": [],
   "source": [
    "try:\n",
    "    try:\n",
    "        raise ValueError('1')\n",
    "    except TypeError:\n",
    "        pass\n",
    "    except ValueError:\n",
    "        print(\"Caught the inner valueError!\")\n",
    "except ValueError:\n",
    "    print(\"Caught the outer value error!'\")"
   ]
  },
  {
   "cell_type": "markdown",
   "metadata": {
    "colab_type": "text",
    "id": "kUJSijxq0Rb9",
    "slideshow": {
     "slide_type": "subslide"
    }
   },
   "source": [
    "### A *wildcard*\n",
    "\n",
    "```\n",
    "try:\n",
    "    f = open('myfile.txt')\n",
    "    s = f.readline()\n",
    "    i = int(s.strip())\n",
    "except OSError as err:\n",
    "    print(f\"OS error: {err}\")\n",
    "except ValueError:\n",
    "    print(\"Could not convert data to an integer.\")\n",
    "except:  # Use this with extreme caution\n",
    "    print(\"Unexpected error:\", sys.exc_info()[0])\n",
    "    raise\n",
    "```\n",
    "\n",
    "$\\Rightarrow$\n",
    "https://docs.python.org/3/tutorial/errors.html#handling-exceptions"
   ]
  },
  {
   "cell_type": "markdown",
   "metadata": {
    "colab_type": "text",
    "id": "yxv_I7GoAOsR",
    "slideshow": {
     "slide_type": "subslide"
    }
   },
   "source": [
    "### Summing Up\n",
    "\n",
    "- After seeing the difference between syntax errors and exceptions,\n",
    "    you learned about various ways to raise, catch, and handle\n",
    "    exceptions in Python:\n",
    "\n",
    "    - `raise` allows you to throw an exception at any time\n",
    "\n",
    "    - `assert` enables you to verify if a certain condition is met and\n",
    "        throw an exception if it isn't\n",
    "\n",
    "    - In the `try` clause, all statements are executed until an\n",
    "        exception is encountered\n",
    "\n",
    "    - `except` is used to catch and handle the exception(s) that are\n",
    "        encountered in the `try` clause\n",
    "\n",
    "    - `else` lets you code sections that should run only when no\n",
    "        exceptions are encountered in the try clause\n",
    "\n",
    "    - `finally` enables you to execute sections of code that should\n",
    "        always run, with or without any previously encountered\n",
    "        exceptions"
   ]
  },
  {
   "cell_type": "markdown",
   "metadata": {
    "colab_type": "text",
    "id": "Zz-UtV8ORH_t",
    "slideshow": {
     "slide_type": "slide"
    }
   },
   "source": [
    "# Ticket to leave"
   ]
  },
  {
   "cell_type": "markdown",
   "metadata": {
    "colab_type": "text",
    "id": "C-hchAExRRVh",
    "slideshow": {
     "slide_type": "fragment"
    }
   },
   "source": [
    "## Moodle activity\n",
    "\n",
    "[LE24: Exceptions](https://moodle.up.pt/course/view.php?id=1738#section-1)"
   ]
  },
  {
   "cell_type": "markdown",
   "metadata": {
    "colab_type": "text",
    "id": "uV1OP6ahRYne",
    "slideshow": {
     "slide_type": "skip"
    }
   },
   "source": [
    "\n",
    "$\\Rightarrow$ \n",
    "[Go back to the Table of Contents](00-contents.ipynb)\n",
    "\n",
    "$\\Rightarrow$ \n",
    "[Read the Preface](00-preface.ipynb)"
   ]
  }
 ],
 "metadata": {
  "celltoolbar": "Slideshow",
  "colab": {
   "collapsed_sections": [],
   "name": "24-exceptions.ipynb",
   "private_outputs": true,
   "provenance": [],
   "toc_visible": true
  },
  "kernelspec": {
   "display_name": "Python 3",
   "language": "python",
   "name": "python3"
  },
  "language_info": {
   "codemirror_mode": {
    "name": "ipython",
    "version": 3
   },
   "file_extension": ".py",
   "mimetype": "text/x-python",
   "name": "python",
   "nbconvert_exporter": "python",
   "pygments_lexer": "ipython3",
   "version": "3.8.5"
  },
  "rise": {
   "enable_chalkboard": true
  }
 },
 "nbformat": 4,
 "nbformat_minor": 1
}
