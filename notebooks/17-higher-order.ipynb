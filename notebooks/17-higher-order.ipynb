{
 "cells": [
  {
   "cell_type": "markdown",
   "metadata": {
    "colab_type": "text",
    "id": "8z5cONg8rUrX",
    "slideshow": {
     "slide_type": "slide"
    }
   },
   "source": [
    "# Higher-order functions\n",
    "\n",
    "## Programming Fundamentals (NB17)\n",
    "\n",
    "### MIEIC/2020-21\n",
    "\n",
    "#### João Correia Lopes\n",
    "\n",
    "INESC TEC, FEUP"
   ]
  },
  {
   "cell_type": "markdown",
   "metadata": {
    "colab_type": "text",
    "id": "MZzE7pYorju5",
    "slideshow": {
     "slide_type": "subslide"
    }
   },
   "source": [
    "## Goals\n",
    "\n",
    "By the end of this class, the student should be able to:\n",
    "\n",
    "- Describe the use higher-order functions\n",
    "- Describe the use nested functions and closures\n",
    "- Describe the use function *currying* and *uncurrying*\n",
    "- Describe the use of partial function application\n",
    "- Describe the use the operators available in Python"
   ]
  },
  {
   "cell_type": "markdown",
   "metadata": {
    "colab_type": "text",
    "id": "eR5Lh1jNroE2",
    "slideshow": {
     "slide_type": "subslide"
    }
   },
   "source": [
    "## Bibliography\n",
    "\n",
    "- David Mertz, *Functional Programming in Python*, O'Reilly Media, 2015 \n",
    "[[HTML]](https://www.oreilly.com/library/view/functional-programming-in/9781492048633/)\n",
    "- Composing Programs, a free online introduction to programming and computer science (Section 1.6)\n",
    "[[HTML]](https://composingprograms.com/pages/16-higher-order-functions.html)\n"
   ]
  },
  {
   "cell_type": "markdown",
   "metadata": {
    "colab_type": "text",
    "id": "2AV6AFCENHU9",
    "slideshow": {
     "slide_type": "slide"
    }
   },
   "source": [
    "# First-class functions\n",
    "\n",
    "> When you say that a language has first-class functions, it means that the language treats functions as values:\n",
    "\n",
    "- You can store the function in a variable\n",
    "- You can pass the function as a parameter to another function\n",
    "- You can return the function from a function\n",
    "- You can store them in data structures such as hash tables, lists, …\n",
    "- In Python a function is an instance of the Object type"
   ]
  },
  {
   "cell_type": "markdown",
   "metadata": {
    "colab_type": "text",
    "id": "15ls6BuGt20d",
    "slideshow": {
     "slide_type": "subslide"
    }
   },
   "source": [
    "### Functions as objects\n",
    "\n",
    "A Python program to illustrate functions can be treated as objects:"
   ]
  },
  {
   "cell_type": "code",
   "execution_count": null,
   "metadata": {
    "colab": {},
    "colab_type": "code",
    "id": "7o67mc3P8K_0",
    "slideshow": {
     "slide_type": "fragment"
    }
   },
   "outputs": [],
   "source": [
    "def shout(text):\n",
    "    return text.upper() + \"!\"\n",
    "\n",
    "print(shout('Hello'))\n",
    "\n",
    "yell = shout\n",
    "  \n",
    "print(yell('Goodbye'))"
   ]
  },
  {
   "cell_type": "markdown",
   "metadata": {
    "colab_type": "text",
    "id": "Lqx4KeASNpgX",
    "slideshow": {
     "slide_type": "subslide"
    }
   },
   "source": [
    "## First-class vs Higher-order functions"
   ]
  },
  {
   "cell_type": "markdown",
   "metadata": {
    "colab_type": "text",
    "id": "rTkPUAdqN7Qb",
    "slideshow": {
     "slide_type": "subslide"
    }
   },
   "source": [
    "### Higher-order functions\n",
    "\n",
    "- To express certain general patterns as named concepts, we will need to construct functions that can accept other functions as arguments or return functions as values\n",
    "\n",
    "- Functions that manipulate functions are called **higher-order functions**\n",
    "\n",
    "- higher-order functions (HOF) can serve as powerful abstraction mechanisms, vastly increasing the expressive power of our language"
   ]
  },
  {
   "cell_type": "markdown",
   "metadata": {
    "colab_type": "text",
    "id": "uHcujs5u85Cp",
    "slideshow": {
     "slide_type": "subslide"
    }
   },
   "source": [
    "### “higher-order” vs. “first-class”\n",
    "\n",
    "- The “higher-order” (HOF) concept can be applied to functions in general, like functions in the mathematical sense\n",
    "\n",
    "- The “first-class” concept only has to do with functions in programming languages:\n",
    "\n",
    "  - It’s not used when referring to a function, such as “a first-class function”\n",
    "\n",
    "  - It’s much more common to say that “a language has/hasn’t first-class function support”\n",
    "\n",
    "- The two things are closely related, as it’s hard to imagine a language with first-class functions that would not also support higher-order functions, and conversely a language with higher-order functions but without first-class function support."
   ]
  },
  {
   "cell_type": "markdown",
   "metadata": {
    "colab_type": "text",
    "id": "gwITsONp9kfk",
    "slideshow": {
     "slide_type": "slide"
    }
   },
   "source": [
    "# Higher-order functions"
   ]
  },
  {
   "cell_type": "markdown",
   "metadata": {
    "colab_type": "text",
    "id": "W2EiUbtaP1Lx",
    "slideshow": {
     "slide_type": "subslide"
    }
   },
   "source": [
    "## HOF\n",
    "\n",
    "- We've already seen some built-in HOF:\n",
    "\n",
    "  - `map()`, `filter()`\n",
    "\n",
    "- We saw an iterator algebra that builds on the `itertools` module. \n",
    "\n",
    "- In some ways, HOF provide similar building blocks to express complex\n",
    "concepts by combining simpler functions into new functions"
   ]
  },
  {
   "cell_type": "markdown",
   "metadata": {
    "colab_type": "text",
    "id": "nqErC3Bvk-Yc",
    "slideshow": {
     "slide_type": "subslide"
    }
   },
   "source": [
    "### Sorting: An Example of HOF\n",
    "\n",
    "- In order to define non-default sorting in Python, both the `sorted()` function and the list’s `sort()` method accept a key argument\n",
    "\n",
    "- The value passed to this argument needs to be a function object that returns the sorting key for any item in the list or iterable\n",
    "\n",
    "```\n",
    ">>> def second_element(t):\n",
    "...     return t[1]\n",
    "...\n",
    ">>> ledzep = [('Guitar', 'Jimmy'), ('Vocals', 'Robert'), ('Bass', 'John Paul'), ('Drums', 'John')]\n",
    "\n",
    ">>> sorted(ledzep)\n",
    "[('Bass', 'John Paul'), ('Drums', 'John'), ('Guitar', 'Jimmy'), ('Vocals', 'Robert')]\n",
    "\n",
    ">>> sorted(ledzep, key=second_element)\n",
    "[('Guitar', 'Jimmy'), ('Drums', 'John'), ('Bass', 'John Paul'), ('Vocals', 'Robert')]\n",
    "```"
   ]
  },
  {
   "cell_type": "markdown",
   "metadata": {
    "colab_type": "text",
    "id": "g4Sv16CjUNPI",
    "slideshow": {
     "slide_type": "subslide"
    }
   },
   "source": [
    "## Functions as parameters"
   ]
  },
  {
   "cell_type": "markdown",
   "metadata": {
    "colab_type": "text",
    "id": "dWgBZCvjFr8W",
    "slideshow": {
     "slide_type": "subslide"
    }
   },
   "source": [
    "### sum_squares()\n",
    "\n",
    "- Consider the functions `sum_squares()`, which computes the sum of the cubes of natural numbers up to `n`"
   ]
  },
  {
   "cell_type": "code",
   "execution_count": null,
   "metadata": {
    "slideshow": {
     "slide_type": "fragment"
    }
   },
   "outputs": [],
   "source": [
    "def sum_squares(n):\n",
    "    total, k = 0, 1\n",
    "    while k <= n:\n",
    "        total, k = total + k*k, k + 1\n",
    "    return total\n",
    "\n",
    "print(sum_squares(100))"
   ]
  },
  {
   "cell_type": "markdown",
   "metadata": {
    "colab_type": "text",
    "id": "OqypUGLBGO8k",
    "slideshow": {
     "slide_type": "subslide"
    }
   },
   "source": [
    "### sum_cubes()\n",
    "\n",
    "- Consider the functions `sum_cubes()`, which computes the sum of the cubes of natural numbers up to `n`"
   ]
  },
  {
   "cell_type": "code",
   "execution_count": null,
   "metadata": {
    "slideshow": {
     "slide_type": "fragment"
    }
   },
   "outputs": [],
   "source": [
    "def sum_cubes(n):\n",
    "    total, k = 0, 1\n",
    "    while k <= n:\n",
    "        total, k = total + k*k*k, k + 1\n",
    "    return total\n",
    "\n",
    "print(sum_cubes(100))"
   ]
  },
  {
   "cell_type": "markdown",
   "metadata": {
    "colab_type": "text",
    "id": "gcta-M8YHYnC",
    "slideshow": {
     "slide_type": "subslide"
    }
   },
   "source": [
    "- `sum_squares()` and `sum_cubes()` clearly share a common underlying pattern\n",
    "  - They are for the most part identical, differing only in name and the **function of k used to compute the term** to be added"
   ]
  },
  {
   "cell_type": "markdown",
   "metadata": {
    "colab_type": "text",
    "id": "OZwGJHQnH7Tb",
    "slideshow": {
     "slide_type": "subslide"
    }
   },
   "source": [
    "### `summation()` HOF\n",
    "\n",
    "- `summation()` takes as its two arguments the upper bound `n` together with the function `term` that computes the kth term\n",
    "\n",
    "```\n",
    ">>> def summation(n, term):\n",
    "        total, k = 0, 1\n",
    "        while k <= n:\n",
    "            total, k = total + term(k), k + 1\n",
    "        return total\n",
    "```\n"
   ]
  },
  {
   "cell_type": "code",
   "execution_count": null,
   "metadata": {
    "slideshow": {
     "slide_type": "subslide"
    }
   },
   "outputs": [],
   "source": [
    "def summation(n, term):\n",
    "    total, k = 0, 1\n",
    "    while k <= n:\n",
    "        total, k = total + term(k), k + 1\n",
    "    return total\n",
    "\n",
    "def sum_cubes(n):\n",
    "    return summation(n, lambda x: x*x*x)\n",
    "\n",
    "print(sum_cubes(3))"
   ]
  },
  {
   "cell_type": "markdown",
   "metadata": {
    "slideshow": {
     "slide_type": "fragment"
    }
   },
   "source": [
    "See how this works in [Python tutor](http://www.pythontutor.com/visualize.html#mode=edit)"
   ]
  },
  {
   "cell_type": "markdown",
   "metadata": {
    "colab_type": "text",
    "id": "vrSEIQKTTgpu",
    "slideshow": {
     "slide_type": "subslide"
    }
   },
   "source": [
    "### `sum_naturals()`\n",
    "\n",
    "To sum the natural numbers we may use the identity function."
   ]
  },
  {
   "cell_type": "code",
   "execution_count": null,
   "metadata": {
    "slideshow": {
     "slide_type": "fragment"
    }
   },
   "outputs": [],
   "source": [
    "def identity(x):\n",
    "    return x\n",
    "\n",
    "def sum_naturals(n):\n",
    "    return summation(n, identity)\n",
    "\n",
    "print(sum_naturals(100))"
   ]
  },
  {
   "cell_type": "markdown",
   "metadata": {
    "colab_type": "text",
    "id": "M4oYdqyYO6Bj",
    "slideshow": {
     "slide_type": "subslide"
    }
   },
   "source": [
    "### Callbacks\n",
    "\n",
    "- In a higher-order function, when one of the parameters passed in is a function, that function is a *callback function* because it will be called back and used within the higher-order function\n",
    "\n",
    "- A higher-order function is named as such because when using a callback to perform an operation within itself, the function has a ‘higher’ purpose than a regular function\n",
    "\n",
    "- When it returns a function, it also has a ‘higher’ purpose"
   ]
  },
  {
   "cell_type": "markdown",
   "metadata": {
    "colab_type": "text",
    "id": "5lSdlWZtURna",
    "slideshow": {
     "slide_type": "subslide"
    }
   },
   "source": [
    "## Functions as return values"
   ]
  },
  {
   "cell_type": "markdown",
   "metadata": {
    "colab_type": "text",
    "id": "sLYd-WMOYN--",
    "slideshow": {
     "slide_type": "subslide"
    }
   },
   "source": [
    "### Nested functions\n",
    "\n",
    "- A function which is defined inside another function is known as nested function\n",
    "\n",
    "- Nested functions are able to access variables of the enclosing scope\n",
    "\n",
    "- In Python, these non-local variables can be accessed only within their scope and not outside their scope"
   ]
  },
  {
   "cell_type": "code",
   "execution_count": null,
   "metadata": {
    "colab_type": "text",
    "id": "lBXIr-EZZCQW",
    "slideshow": {
     "slide_type": "subslide"
    }
   },
   "outputs": [],
   "source": [
    "def outer_function(text):\n",
    "    itext = text\n",
    "\n",
    "    def inner_function():  # nested function\n",
    "        print(itext)       # accesses 'itext' as non-local variable\n",
    "  \n",
    "    inner_function()\n",
    "\n",
    "outer_function('Hey!')"
   ]
  },
  {
   "cell_type": "markdown",
   "metadata": {
    "colab_type": "text",
    "id": "rxv4c1vszoY5",
    "slideshow": {
     "slide_type": "subslide"
    }
   },
   "source": [
    "### Scope of variables\n",
    "\n",
    "![images](images/17/scope-in-python.png)\n",
    "\n",
    "$\\Rightarrow$ \n",
    "https://www.datacamp.com/community/tutorials/scope-of-variables-python"
   ]
  },
  {
   "cell_type": "code",
   "execution_count": null,
   "metadata": {
    "slideshow": {
     "slide_type": "subslide"
    }
   },
   "outputs": [],
   "source": [
    "# Think about the scopes of x and y before running this code\n",
    "\n",
    "x = 0\n",
    "y = 3\n",
    "def outer():\n",
    "    x = 1\n",
    "    def inner():\n",
    "        x = 2\n",
    "        print(\"inner x:\", x)\n",
    "        print(\"global y:\", y)\n",
    "\n",
    "    inner()\n",
    "    print(\"outer x:\", x)\n",
    "\n",
    "outer()\n",
    "print(\"global x:\", x)"
   ]
  },
  {
   "cell_type": "markdown",
   "metadata": {
    "slideshow": {
     "slide_type": "fragment"
    }
   },
   "source": [
    "$\\Rightarrow$ \n",
    "https://www.datacamp.com/community/tutorials/scope-of-variables-python"
   ]
  },
  {
   "cell_type": "markdown",
   "metadata": {
    "colab_type": "text",
    "id": "3YTbU_MFbpkJ",
    "slideshow": {
     "slide_type": "subslide"
    }
   },
   "source": [
    "### A common mistake\n",
    "\n",
    "- A common mistake is attempting to encapsulate an internal variable using an **immutable type** (`int`, `float`, `complex`, `string`, `tuple`, `frozen set`)\n",
    "\n",
    "- When it is re-assigned in the inner scope, it is interpreted as a new variable and fails because it hasn’t been defined"
   ]
  },
  {
   "cell_type": "code",
   "execution_count": null,
   "metadata": {
    "slideshow": {
     "slide_type": "fragment"
    }
   },
   "outputs": [],
   "source": [
    "def outer():\n",
    "    count = 0\n",
    "    def inner():\n",
    "        count = count + 1\n",
    "        return count\n",
    "    return inner\n",
    "\n",
    "counter = outer()\n",
    "print(counter())"
   ]
  },
  {
   "cell_type": "markdown",
   "metadata": {
    "colab_type": "text",
    "id": "mhuMALDMfgiX",
    "slideshow": {
     "slide_type": "subslide"
    }
   },
   "source": [
    "The standard workaround for this issue is to use a mutable datatype (`list`, `dict`, `set`) and manage state within that object."
   ]
  },
  {
   "cell_type": "code",
   "execution_count": null,
   "metadata": {
    "colab": {},
    "colab_type": "code",
    "id": "T0XOrfDGflQI",
    "slideshow": {
     "slide_type": "fragment"
    }
   },
   "outputs": [],
   "source": [
    "def better_outer():\n",
    "    count = [0]\n",
    "    def inner():\n",
    "        count[0] = count[0] + 1\n",
    "        return count[0]\n",
    "    return inner\n",
    "\n",
    "counter = better_outer()\n",
    "print(counter())\n",
    "print(counter())\n",
    "print(counter())"
   ]
  },
  {
   "cell_type": "markdown",
   "metadata": {
    "colab_type": "text",
    "id": "A6oEPkQgW8I7",
    "slideshow": {
     "slide_type": "subslide"
    }
   },
   "source": [
    "### Closures\n",
    "\n",
    "- A closure is a way of keeping alive a variable even when the function has returned\n",
    "\n",
    "- In a closure, a function is defined along with the environment\n",
    "\n",
    "- In Python, this is done by nesting a function inside the encapsulating function and then returning the underlying function\n",
    "\n",
    "```\n",
    "def add_5():\n",
    "    five = 5\n",
    "    def add(arg):  # nesting functions\n",
    "        return arg + five\n",
    "    return add\n",
    "\n",
    "    closure1 = add_5()\n",
    "    print(closure1(1))  # output 6\n",
    "    print(closure1(2))  # output 7\n",
    "```"
   ]
  },
  {
   "cell_type": "markdown",
   "metadata": {
    "colab_type": "text",
    "id": "gyCdangt1KVh",
    "slideshow": {
     "slide_type": "subslide"
    }
   },
   "source": [
    "Another more general closure:"
   ]
  },
  {
   "cell_type": "code",
   "execution_count": null,
   "metadata": {
    "colab": {},
    "colab_type": "code",
    "id": "oOfhUj-i01Rs",
    "slideshow": {
     "slide_type": "fragment"
    }
   },
   "outputs": [],
   "source": [
    "def outer(a):\n",
    "    def inner(b):\n",
    "        return a + b\n",
    "    return inner\n",
    "\n",
    "add5 = outer(5)\n",
    "print(add5)\n",
    "\n",
    "print(add5(10))"
   ]
  },
  {
   "cell_type": "markdown",
   "metadata": {
    "colab_type": "text",
    "id": "hxlLkHX0c852",
    "slideshow": {
     "slide_type": "subslide"
    }
   },
   "source": [
    "### Example of using closures\n",
    "\n",
    "```\n",
    "import logging\n",
    "logging.basicConfig(filename='example.log', level=logging.INFO)\n",
    "\n",
    "def logger(func):\n",
    "    def log_func(*args):\n",
    "        logging.info(\n",
    "            'Running \"{}\" with arguments {}'.format(func.__name__, args))\n",
    "        return func(*args)\n",
    "    return log_func    # returning WITHOUT parenthesis\n",
    "\n",
    "def add(x, y): return x+y\n",
    "add_logger = logger(add)\n",
    "print(add_logger(3, 3))\n",
    "print(add_logger(4, 5))\n",
    "```\n"
   ]
  },
  {
   "cell_type": "markdown",
   "metadata": {
    "colab_type": "text",
    "id": "Rp7oS6fk4SZL",
    "slideshow": {
     "slide_type": "subslide"
    }
   },
   "source": [
    "```\n",
    "def sub(x, y): return x-y\n",
    "sub_logger = logger(sub)\n",
    "print(sub_logger(10, 5))\n",
    "print(sub_logger(20, 10))\n",
    "```\n",
    "\n",
    "$\\Rightarrow$ \n",
    "https://www.geeksforgeeks.org/python-closures/"
   ]
  },
  {
   "cell_type": "markdown",
   "metadata": {
    "colab_type": "text",
    "id": "yumYhUoyUarq",
    "slideshow": {
     "slide_type": "subslide"
    }
   },
   "source": [
    "## Utility Higher-Order Functions"
   ]
  },
  {
   "cell_type": "markdown",
   "metadata": {
    "colab_type": "text",
    "id": "bWWCbex5lBTK",
    "slideshow": {
     "slide_type": "subslide"
    }
   },
   "source": [
    "### `compose()`\n",
    "\n",
    "- A handy utility is `compose()` that takes a sequence of functions \n",
    "and returns a function that represents the application of \n",
    "each of these argument functions to a data argument:"
   ]
  },
  {
   "cell_type": "code",
   "execution_count": null,
   "metadata": {
    "slideshow": {
     "slide_type": "fragment"
    }
   },
   "outputs": [],
   "source": [
    "def compose(*funcs):\n",
    "    \"\"\"Return a new function compose(f,g,...)(x) == f(g(...(x))).\"\"\"\n",
    "    def inner(data, funcs=funcs):\n",
    "        result = data\n",
    "        for f in reversed(funcs):\n",
    "            result = f(result)\n",
    "        return result\n",
    "    return inner"
   ]
  },
  {
   "cell_type": "code",
   "execution_count": null,
   "metadata": {
    "colab_type": "text",
    "id": "PWSpkv8ul9tw",
    "slideshow": {
     "slide_type": "fragment"
    }
   },
   "outputs": [],
   "source": [
    "mod6 = lambda x: x%6\n",
    "times2 = lambda x: x*2\n",
    "minus3 = lambda x: x-3\n",
    "\n",
    "f = compose(mod6, times2, minus3)\n",
    "\n",
    "all(f(i)==((i-3)*2)%6 for i in range(1000000))"
   ]
  },
  {
   "cell_type": "markdown",
   "metadata": {
    "colab_type": "text",
    "id": "M86jTaNQnlEq",
    "slideshow": {
     "slide_type": "subslide"
    }
   },
   "source": [
    "## Currying"
   ]
  },
  {
   "cell_type": "markdown",
   "metadata": {
    "colab_type": "text",
    "id": "Y7LD37xOoXVb",
    "slideshow": {
     "slide_type": "subslide"
    }
   },
   "source": [
    "### higher-order functions & currying\n",
    "\n",
    "- We can use higher-order functions to convert a function that takes multiple arguments into a chain of functions that each take a single argument\n",
    "\n",
    "- More specifically, given a function `f(x, y)`, we can define a function `g` such that `g(x)(y)` is equivalent to `f(x, y)`\n",
    "\n",
    "- Here, `g` is a higher-order function that takes in a single argument `x` and returns another function that takes in a single argument `y`\n",
    "\n",
    "- This transformation is called *currying*<sup>1</sup>\n",
    "\n",
    "<sup>1</sup> Named after [Haskell Curry](https://en.wikipedia.org/wiki/Haskell_Curry)"
   ]
  },
  {
   "cell_type": "markdown",
   "metadata": {
    "colab_type": "text",
    "id": "8rZMl3OWprS0",
    "slideshow": {
     "slide_type": "subslide"
    }
   },
   "source": [
    "- As an example, we can define a curried version of the `pow()` function:"
   ]
  },
  {
   "cell_type": "code",
   "execution_count": null,
   "metadata": {
    "colab": {},
    "colab_type": "code",
    "id": "64cwSCbCpwKf",
    "slideshow": {
     "slide_type": "fragment"
    }
   },
   "outputs": [],
   "source": [
    "def curried_pow(x):\n",
    "    def h(y):\n",
    "        return pow(x, y)\n",
    "    return h\n",
    "\n",
    "curried_pow(2)(3)"
   ]
  },
  {
   "cell_type": "markdown",
   "metadata": {
    "colab_type": "text",
    "id": "EsRy8PyFqJEp",
    "slideshow": {
     "slide_type": "subslide"
    }
   },
   "source": [
    "- *Currying* is useful when we require a function that takes in only a single argument\n",
    "\n",
    "- For example, the map pattern applies a single-argument function to a sequence of values"
   ]
  },
  {
   "cell_type": "code",
   "execution_count": null,
   "metadata": {
    "colab": {},
    "colab_type": "code",
    "id": "WZr-9LLKqNub",
    "slideshow": {
     "slide_type": "fragment"
    }
   },
   "outputs": [],
   "source": [
    "def map_to_range(f, start, end):\n",
    "    while start < end:\n",
    "        print(f(start))\n",
    "        start = start + 1"
   ]
  },
  {
   "cell_type": "code",
   "execution_count": null,
   "metadata": {
    "colab": {},
    "colab_type": "code",
    "id": "CZEyyvnpqW8W",
    "slideshow": {
     "slide_type": "fragment"
    }
   },
   "outputs": [],
   "source": [
    "map_to_range(curried_pow(2), 0, 10)"
   ]
  },
  {
   "cell_type": "markdown",
   "metadata": {
    "colab_type": "text",
    "id": "krTSSkQ03TL5",
    "slideshow": {
     "slide_type": "subslide"
    }
   },
   "source": [
    "## The `functools` Module"
   ]
  },
  {
   "cell_type": "markdown",
   "metadata": {
    "colab_type": "text",
    "id": "30BWJmtz3bUq",
    "slideshow": {
     "slide_type": "subslide"
    }
   },
   "source": [
    "### The `functools` Module HOF\n",
    "\n",
    "- The `functools` module contains some higher-order functions\n",
    "\n",
    "  - `partial()`, `add()`, `reduce()`, `sum()`\n",
    "\n",
    "  - https://docs.python.org/3/library/functools.html\n",
    "\n",
    "- we already saw `reduce()`\n",
    "\n",
    "```\n",
    ">>> import functools, operator\n",
    ">>> functools.reduce(operator.add, [1, 2, 3, 4], 10)\n",
    "20\n",
    ">>> sum([1, 2, 3, 4])\n",
    "10\n",
    "```\n",
    "\n",
    "  - `reduce()` gives the final result of `accumulate()` (from the `itertools` module: [PSL](https://docs.python.org/3/library/itertools.html?highlight=accum#itertools.accumulate))"
   ]
  },
  {
   "cell_type": "markdown",
   "metadata": {
    "colab_type": "text",
    "id": "ItMmyebj3oaB",
    "slideshow": {
     "slide_type": "skip"
    }
   },
   "source": [
    "### Partial function application\n",
    "\n",
    "- The most useful tool in this module is the `functools.partial()` function\n",
    "\n",
    "- For programs written in a functional style, you’ll sometimes want to construct variants of existing functions that have some of the parameters filled in\n",
    "\n",
    "- Consider a Python function `f(a, b, c)`; you may wish to create a new function `g(b, c)` that’s equivalent to `f(1, b, c)`; you’re filling in a value for one of f()’s parameters\n",
    "\n",
    "- This is called “partial function application”\n",
    "\n",
    "- Currying is often confused with partial application\n",
    "\n",
    "> Where partial application takes a function and from it builds a function which takes fewer arguments, currying builds functions which take multiple arguments by composition of functions which each take a single argument. \n",
    "\n",
    "$\\Rightarrow$\n",
    "https://en.wikipedia.org/wiki/Partial_application"
   ]
  },
  {
   "cell_type": "markdown",
   "metadata": {
    "colab_type": "text",
    "id": "R4IXlKe03xHv",
    "slideshow": {
     "slide_type": "skip"
    }
   },
   "source": [
    "```\n",
    "import functools\n",
    "\n",
    "def log(message, subsystem):\n",
    "    \"\"\"Write the contents of 'message' to the specified subsystem.\"\"\"\n",
    "    print('%s: %s' % (subsystem, message))\n",
    "    ...\n",
    "\n",
    "server_log = functools.partial(log, subsystem='server')\n",
    "server_log('Unable to open socket')\n",
    "```\n",
    "$\\Rightarrow$\n",
    "https://docs.python.org/3/howto/functional.html#the-functools-module"
   ]
  },
  {
   "cell_type": "code",
   "execution_count": null,
   "metadata": {
    "colab": {},
    "colab_type": "code",
    "id": "jb4IKFbt4Exq",
    "slideshow": {
     "slide_type": "skip"
    }
   },
   "outputs": [],
   "source": [
    "from functools import partial\n",
    "basetwo = partial(int, base=2)\n",
    "basetwo.__doc__ = 'Convert base 2 string to an int.'\n",
    "basetwo('10010')"
   ]
  },
  {
   "cell_type": "markdown",
   "metadata": {
    "colab_type": "text",
    "id": "Oy8o4l-Zk6P_",
    "slideshow": {
     "slide_type": "subslide"
    }
   },
   "source": [
    "## The `operator` Module"
   ]
  },
  {
   "cell_type": "markdown",
   "metadata": {
    "colab_type": "text",
    "id": "pZHLCO9rlmT0",
    "slideshow": {
     "slide_type": "skip"
    }
   },
   "source": [
    "### Useful Function Objects\n",
    "\n",
    "- There are many builtin functions in Python that accept functions as arguments\n",
    "\n",
    "- An example is the `filter()` function that was used previously\n",
    "\n",
    "- However, there are some basic actions that use operators instead of functions (like `+` or the subscript `[]` or dot `.` operators)\n",
    "\n",
    "- The `operator` module provides function versions of these operators\n",
    "\n",
    "```\n",
    ">>> import operator\n",
    ">>> operator.add(1, 2)\n",
    "3\n",
    "```\n",
    "\n",
    "$\\Rightarrow$\n",
    "https://docs.python.org/3/library/operator.html"
   ]
  },
  {
   "cell_type": "markdown",
   "metadata": {
    "colab_type": "text",
    "id": "1TcGDStkzgbI",
    "slideshow": {
     "slide_type": "skip"
    }
   },
   "source": [
    "Operator modules operations may replace the use of many lambda functions; for example `operator.concat`:"
   ]
  },
  {
   "cell_type": "code",
   "execution_count": null,
   "metadata": {
    "colab": {},
    "colab_type": "code",
    "id": "MpzpLaAN1yGp",
    "slideshow": {
     "slide_type": "skip"
    }
   },
   "outputs": [],
   "source": [
    "import operator, functools\n",
    "functools.reduce(operator.concat, ['A', 'BB', 'A'])"
   ]
  },
  {
   "cell_type": "markdown",
   "metadata": {
    "colab_type": "text",
    "id": "Ti81jV1B13HB",
    "slideshow": {
     "slide_type": "skip"
    }
   },
   "source": [
    "Operation `operator.itemgetter()` may also be used as key to sort collections:"
   ]
  },
  {
   "cell_type": "code",
   "execution_count": null,
   "metadata": {
    "colab": {},
    "colab_type": "code",
    "id": "k1ZJBZ0Ql4xY",
    "slideshow": {
     "slide_type": "skip"
    }
   },
   "outputs": [],
   "source": [
    "ledzep = [('Guitar', 'Jimmy'), ('Vocals', 'Robert'), ('Bass', 'John Paul'), ('Drums', 'John')]\n",
    "\n",
    "sorted(ledzep)\n",
    "[('Bass', 'John Paul'), ('Drums', 'John'), ('Guitar', 'Jimmy'), ('Vocals', 'Robert')]"
   ]
  },
  {
   "cell_type": "code",
   "execution_count": null,
   "metadata": {
    "colab": {},
    "colab_type": "code",
    "id": "H3o4jHCwy3Kl",
    "slideshow": {
     "slide_type": "skip"
    }
   },
   "outputs": [],
   "source": [
    "import operator\n",
    "\n",
    "sorted(ledzep, key=operator.itemgetter(1))\n",
    "[('Guitar', 'Jimmy'), ('Drums', 'John'), ('Bass', 'John Paul'), ('Vocals', 'Robert')]"
   ]
  },
  {
   "cell_type": "markdown",
   "metadata": {
    "colab_type": "text",
    "id": "8bEPn3Juz9zr",
    "slideshow": {
     "slide_type": "skip"
    }
   },
   "source": [
    "$\\Rightarrow$\n",
    "https://www.protechtraining.com/content/python_fundamentals_tutorial-functional_programming"
   ]
  },
  {
   "cell_type": "markdown",
   "metadata": {
    "colab_type": "text",
    "id": "D3_75EJy2QV-",
    "slideshow": {
     "slide_type": "skip"
    }
   },
   "source": [
    "## Function decorators (bonus)\n",
    "\n",
    "- Yes, there's more....\n",
    "\n",
    "$\\Rightarrow$ \n",
    "[Primer on Python Decorators](https://realpython.com/primer-on-python-decorators/#simple-decorators)\n",
    "\n",
    "$\\Rightarrow$ \n",
    "[13.10. Decorators](https://www.protechtraining.com/content/python_fundamentals_tutorial-functional_programming)\n"
   ]
  },
  {
   "cell_type": "markdown",
   "metadata": {
    "colab_type": "text",
    "id": "Zz-UtV8ORH_t",
    "slideshow": {
     "slide_type": "slide"
    }
   },
   "source": [
    "# Ticket to leave"
   ]
  },
  {
   "cell_type": "markdown",
   "metadata": {
    "colab_type": "text",
    "id": "C-hchAExRRVh",
    "slideshow": {
     "slide_type": "subslide"
    }
   },
   "source": [
    "## Moodle activity\n",
    "\n",
    "[LE17: Higher-order functions](https://moodle.up.pt/course/view.php?id=1738#section-1)"
   ]
  },
  {
   "cell_type": "markdown",
   "metadata": {
    "colab_type": "text",
    "id": "uV1OP6ahRYne",
    "slideshow": {
     "slide_type": "skip"
    }
   },
   "source": [
    "\n",
    "$\\Rightarrow$ \n",
    "[Go back to the Table of Contents](00-contents.ipynb)\n",
    "\n",
    "$\\Rightarrow$ \n",
    "[Read the Preface](00-preface.ipynb)"
   ]
  }
 ],
 "metadata": {
  "colab": {
   "collapsed_sections": [],
   "name": "17-higher-order.ipynb",
   "private_outputs": true,
   "provenance": [],
   "toc_visible": true
  },
  "kernelspec": {
   "display_name": "Python 3",
   "language": "python",
   "name": "python3"
  },
  "language_info": {
   "codemirror_mode": {
    "name": "ipython",
    "version": 3
   },
   "file_extension": ".py",
   "mimetype": "text/x-python",
   "name": "python",
   "nbconvert_exporter": "python",
   "pygments_lexer": "ipython3",
   "version": "3.8.5"
  },
  "rise": {
   "enable_chalkboard": true
  }
 },
 "nbformat": 4,
 "nbformat_minor": 1
}
